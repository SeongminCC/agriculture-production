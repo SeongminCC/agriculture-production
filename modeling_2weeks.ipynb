{
  "cells": [
    {
      "cell_type": "markdown",
      "metadata": {
        "id": "view-in-github",
        "colab_type": "text"
      },
      "source": [
        "<a href=\"https://colab.research.google.com/github/SeongminCC/nongnet_AI/blob/main/modeling_2weeks.ipynb\" target=\"_parent\"><img src=\"https://colab.research.google.com/assets/colab-badge.svg\" alt=\"Open In Colab\"/></a>"
      ]
    },
    {
      "cell_type": "code",
      "source": [
        "import sys\n",
        "print(sys.version)"
      ],
      "metadata": {
        "colab": {
          "base_uri": "https://localhost:8080/"
        },
        "id": "GjDec3WzamJY",
        "outputId": "4c0a1211-aa63-48c9-aad0-69dee8c73cb0"
      },
      "id": "GjDec3WzamJY",
      "execution_count": 1,
      "outputs": [
        {
          "output_type": "stream",
          "name": "stdout",
          "text": [
            "3.7.13 (default, Apr 24 2022, 01:04:09) \n",
            "[GCC 7.5.0]\n"
          ]
        }
      ]
    },
    {
      "cell_type": "code",
      "execution_count": 2,
      "metadata": {
        "id": "78533010"
      },
      "outputs": [],
      "source": [
        "import pandas as pd\n",
        "import numpy as np\n",
        "from tqdm import tqdm\n",
        "import warnings\n",
        "from glob import glob\n",
        "import tensorflow as tf\n",
        "from tensorflow.keras.callbacks import EarlyStopping, ModelCheckpoint\n",
        "from tensorflow import keras\n",
        "from tensorflow.keras import layers\n",
        "from keras.layers import LSTM   # LSTM 층 \n",
        "from sklearn.model_selection import train_test_split\n",
        "import random\n",
        "import os\n",
        "\n",
        "\n",
        "# 경고 끄기\n",
        "warnings.filterwarnings(action='ignore')\n",
        "\n",
        "# 시드고정\n",
        "tf.random.set_seed(19970119)\n",
        "random.seed(19970119)\n",
        "np.random.seed(19970119)"
      ],
      "id": "78533010"
    },
    {
      "cell_type": "code",
      "execution_count": 3,
      "metadata": {
        "colab": {
          "base_uri": "https://localhost:8080/"
        },
        "id": "4tbeZMuqu2hn",
        "outputId": "ca0c05f7-0fed-4c9a-dca8-8a2ddb8749dc"
      },
      "outputs": [
        {
          "output_type": "stream",
          "name": "stdout",
          "text": [
            "Mounted at /content/drive\n"
          ]
        }
      ],
      "source": [
        "from google.colab import drive\n",
        "drive.mount('/content/drive')"
      ],
      "id": "4tbeZMuqu2hn"
    },
    {
      "cell_type": "code",
      "execution_count": 4,
      "metadata": {
        "colab": {
          "base_uri": "https://localhost:8080/"
        },
        "id": "VxoyDOlfxZ_X",
        "outputId": "d92e0bc8-c01e-405d-d69b-f974b2d78c77"
      },
      "outputs": [
        {
          "output_type": "stream",
          "name": "stdout",
          "text": [
            "/content/drive/MyDrive/DNA/농넷_AIFactory/aT_data\n",
            "total 5216\n",
            "-rw------- 1 root root   21765 Aug 28 08:31 answer_example.csv\n",
            "-rw------- 1 root root 4737091 Sep  5 06:04 aT_베이스라인.ipynb\n",
            "drwx------ 2 root root    4096 Sep  4 13:59 aT_test_raw\n",
            "drwx------ 2 root root    4096 Sep  4 13:59 aT_train_raw\n",
            "drwx------ 2 root root    4096 Sep  4 13:59 data\n",
            "-rw------- 1 root root  552825 Sep 12 04:09 modeling.ipynb\n",
            "-rw------- 1 root root   15743 Aug 28 12:05 preprocessing.py\n"
          ]
        }
      ],
      "source": [
        "%cd /content/drive/MyDrive/DNA/농넷_AIFactory/aT_data\n",
        "!ls -al"
      ],
      "id": "VxoyDOlfxZ_X"
    },
    {
      "cell_type": "markdown",
      "source": [
        "# 학습할 데이터 불러오기"
      ],
      "metadata": {
        "id": "AV7X7oxrbq5I"
      },
      "id": "AV7X7oxrbq5I"
    },
    {
      "cell_type": "markdown",
      "source": [
        "- 전처리가 끝난 데이터를 가져옴\n",
        "  - 품목 하나에 대해서만 학습"
      ],
      "metadata": {
        "id": "0aeXfs2ubvnP"
      },
      "id": "0aeXfs2ubvnP"
    },
    {
      "cell_type": "code",
      "execution_count": 23,
      "metadata": {
        "id": "qztrIeLd7Shj",
        "colab": {
          "base_uri": "https://localhost:8080/",
          "height": 502
        },
        "outputId": "e0ff5aeb-deff-4561-9f3b-1232a1065a6f"
      },
      "outputs": [
        {
          "output_type": "execute_result",
          "data": {
            "text/plain": [
              "      datadate     단가(원)    거래량    거래대금(원)  경매건수    도매시장코드      도매법인코드  산지코드   \\\n",
              "0     20130101       NaN    NaN        NaN   NaN       NaN         NaN    NaN   \n",
              "1     20130102   6143.85    2.0    12312.3   1.0  371501.0  37150102.0  740.0   \n",
              "2     20130103   1898.10   48.0    91108.8   1.0  230001.0  23000102.0  800.0   \n",
              "3     20130104   8488.48  120.0  1019018.0   3.0  230001.0  23000101.0  323.0   \n",
              "4     20130105   3556.44  540.0  1921077.0   4.0  371501.0  37150102.0  742.0   \n",
              "...        ...       ...    ...        ...   ...       ...         ...    ...   \n",
              "1456  20161227       NaN    NaN        NaN   NaN       NaN         NaN    NaN   \n",
              "1457  20161228   2752.75   60.0   164835.0   4.0  230001.0  23000104.0  800.0   \n",
              "1458  20161229  10010.00   18.0   180180.0   1.0  230003.0  23000303.0  225.0   \n",
              "1459  20161230  11411.40    4.0    45645.6   1.0  350301.0  35030101.0  570.0   \n",
              "1460  20161231   9490.50  160.0  1518480.0   2.0  230003.0  23000302.0  323.0   \n",
              "\n",
              "      해당일자_전체평균가격(원)  해당일자_전체거래물량(kg)  ...  월구분_12월  월구분_1월  월구분_2월  월구분_3월  \\\n",
              "0                NaN              NaN  ...        0       1       0       0   \n",
              "1       20712.240909             22.0  ...        0       1       0       0   \n",
              "2        3401.863678            541.0  ...        0       1       0       0   \n",
              "3        6553.903226            279.0  ...        0       1       0       0   \n",
              "4        4299.079157           1233.0  ...        0       1       0       0   \n",
              "...              ...              ...  ...      ...     ...     ...     ...   \n",
              "1456             NaN              NaN  ...        1       0       0       0   \n",
              "1457     6128.845893           1595.0  ...        1       0       0       0   \n",
              "1458     6644.034096            437.0  ...        1       0       0       0   \n",
              "1459     6572.480795            972.0  ...        1       0       0       0   \n",
              "1460     7503.706522            552.0  ...        1       0       0       0   \n",
              "\n",
              "      월구분_4월  월구분_5월  월구분_6월  월구분_7월  월구분_8월  월구분_9월  \n",
              "0          0       0       0       0       0       0  \n",
              "1          0       0       0       0       0       0  \n",
              "2          0       0       0       0       0       0  \n",
              "3          0       0       0       0       0       0  \n",
              "4          0       0       0       0       0       0  \n",
              "...      ...     ...     ...     ...     ...     ...  \n",
              "1456       0       0       0       0       0       0  \n",
              "1457       0       0       0       0       0       0  \n",
              "1458       0       0       0       0       0       0  \n",
              "1459       0       0       0       0       0       0  \n",
              "1460       0       0       0       0       0       0  \n",
              "\n",
              "[1461 rows x 58 columns]"
            ],
            "text/html": [
              "\n",
              "  <div id=\"df-312620e9-80a9-4c5e-9cbf-3d4e71bbd5cb\">\n",
              "    <div class=\"colab-df-container\">\n",
              "      <div>\n",
              "<style scoped>\n",
              "    .dataframe tbody tr th:only-of-type {\n",
              "        vertical-align: middle;\n",
              "    }\n",
              "\n",
              "    .dataframe tbody tr th {\n",
              "        vertical-align: top;\n",
              "    }\n",
              "\n",
              "    .dataframe thead th {\n",
              "        text-align: right;\n",
              "    }\n",
              "</style>\n",
              "<table border=\"1\" class=\"dataframe\">\n",
              "  <thead>\n",
              "    <tr style=\"text-align: right;\">\n",
              "      <th></th>\n",
              "      <th>datadate</th>\n",
              "      <th>단가(원)</th>\n",
              "      <th>거래량</th>\n",
              "      <th>거래대금(원)</th>\n",
              "      <th>경매건수</th>\n",
              "      <th>도매시장코드</th>\n",
              "      <th>도매법인코드</th>\n",
              "      <th>산지코드</th>\n",
              "      <th>해당일자_전체평균가격(원)</th>\n",
              "      <th>해당일자_전체거래물량(kg)</th>\n",
              "      <th>...</th>\n",
              "      <th>월구분_12월</th>\n",
              "      <th>월구분_1월</th>\n",
              "      <th>월구분_2월</th>\n",
              "      <th>월구분_3월</th>\n",
              "      <th>월구분_4월</th>\n",
              "      <th>월구분_5월</th>\n",
              "      <th>월구분_6월</th>\n",
              "      <th>월구분_7월</th>\n",
              "      <th>월구분_8월</th>\n",
              "      <th>월구분_9월</th>\n",
              "    </tr>\n",
              "  </thead>\n",
              "  <tbody>\n",
              "    <tr>\n",
              "      <th>0</th>\n",
              "      <td>20130101</td>\n",
              "      <td>NaN</td>\n",
              "      <td>NaN</td>\n",
              "      <td>NaN</td>\n",
              "      <td>NaN</td>\n",
              "      <td>NaN</td>\n",
              "      <td>NaN</td>\n",
              "      <td>NaN</td>\n",
              "      <td>NaN</td>\n",
              "      <td>NaN</td>\n",
              "      <td>...</td>\n",
              "      <td>0</td>\n",
              "      <td>1</td>\n",
              "      <td>0</td>\n",
              "      <td>0</td>\n",
              "      <td>0</td>\n",
              "      <td>0</td>\n",
              "      <td>0</td>\n",
              "      <td>0</td>\n",
              "      <td>0</td>\n",
              "      <td>0</td>\n",
              "    </tr>\n",
              "    <tr>\n",
              "      <th>1</th>\n",
              "      <td>20130102</td>\n",
              "      <td>6143.85</td>\n",
              "      <td>2.0</td>\n",
              "      <td>12312.3</td>\n",
              "      <td>1.0</td>\n",
              "      <td>371501.0</td>\n",
              "      <td>37150102.0</td>\n",
              "      <td>740.0</td>\n",
              "      <td>20712.240909</td>\n",
              "      <td>22.0</td>\n",
              "      <td>...</td>\n",
              "      <td>0</td>\n",
              "      <td>1</td>\n",
              "      <td>0</td>\n",
              "      <td>0</td>\n",
              "      <td>0</td>\n",
              "      <td>0</td>\n",
              "      <td>0</td>\n",
              "      <td>0</td>\n",
              "      <td>0</td>\n",
              "      <td>0</td>\n",
              "    </tr>\n",
              "    <tr>\n",
              "      <th>2</th>\n",
              "      <td>20130103</td>\n",
              "      <td>1898.10</td>\n",
              "      <td>48.0</td>\n",
              "      <td>91108.8</td>\n",
              "      <td>1.0</td>\n",
              "      <td>230001.0</td>\n",
              "      <td>23000102.0</td>\n",
              "      <td>800.0</td>\n",
              "      <td>3401.863678</td>\n",
              "      <td>541.0</td>\n",
              "      <td>...</td>\n",
              "      <td>0</td>\n",
              "      <td>1</td>\n",
              "      <td>0</td>\n",
              "      <td>0</td>\n",
              "      <td>0</td>\n",
              "      <td>0</td>\n",
              "      <td>0</td>\n",
              "      <td>0</td>\n",
              "      <td>0</td>\n",
              "      <td>0</td>\n",
              "    </tr>\n",
              "    <tr>\n",
              "      <th>3</th>\n",
              "      <td>20130104</td>\n",
              "      <td>8488.48</td>\n",
              "      <td>120.0</td>\n",
              "      <td>1019018.0</td>\n",
              "      <td>3.0</td>\n",
              "      <td>230001.0</td>\n",
              "      <td>23000101.0</td>\n",
              "      <td>323.0</td>\n",
              "      <td>6553.903226</td>\n",
              "      <td>279.0</td>\n",
              "      <td>...</td>\n",
              "      <td>0</td>\n",
              "      <td>1</td>\n",
              "      <td>0</td>\n",
              "      <td>0</td>\n",
              "      <td>0</td>\n",
              "      <td>0</td>\n",
              "      <td>0</td>\n",
              "      <td>0</td>\n",
              "      <td>0</td>\n",
              "      <td>0</td>\n",
              "    </tr>\n",
              "    <tr>\n",
              "      <th>4</th>\n",
              "      <td>20130105</td>\n",
              "      <td>3556.44</td>\n",
              "      <td>540.0</td>\n",
              "      <td>1921077.0</td>\n",
              "      <td>4.0</td>\n",
              "      <td>371501.0</td>\n",
              "      <td>37150102.0</td>\n",
              "      <td>742.0</td>\n",
              "      <td>4299.079157</td>\n",
              "      <td>1233.0</td>\n",
              "      <td>...</td>\n",
              "      <td>0</td>\n",
              "      <td>1</td>\n",
              "      <td>0</td>\n",
              "      <td>0</td>\n",
              "      <td>0</td>\n",
              "      <td>0</td>\n",
              "      <td>0</td>\n",
              "      <td>0</td>\n",
              "      <td>0</td>\n",
              "      <td>0</td>\n",
              "    </tr>\n",
              "    <tr>\n",
              "      <th>...</th>\n",
              "      <td>...</td>\n",
              "      <td>...</td>\n",
              "      <td>...</td>\n",
              "      <td>...</td>\n",
              "      <td>...</td>\n",
              "      <td>...</td>\n",
              "      <td>...</td>\n",
              "      <td>...</td>\n",
              "      <td>...</td>\n",
              "      <td>...</td>\n",
              "      <td>...</td>\n",
              "      <td>...</td>\n",
              "      <td>...</td>\n",
              "      <td>...</td>\n",
              "      <td>...</td>\n",
              "      <td>...</td>\n",
              "      <td>...</td>\n",
              "      <td>...</td>\n",
              "      <td>...</td>\n",
              "      <td>...</td>\n",
              "      <td>...</td>\n",
              "    </tr>\n",
              "    <tr>\n",
              "      <th>1456</th>\n",
              "      <td>20161227</td>\n",
              "      <td>NaN</td>\n",
              "      <td>NaN</td>\n",
              "      <td>NaN</td>\n",
              "      <td>NaN</td>\n",
              "      <td>NaN</td>\n",
              "      <td>NaN</td>\n",
              "      <td>NaN</td>\n",
              "      <td>NaN</td>\n",
              "      <td>NaN</td>\n",
              "      <td>...</td>\n",
              "      <td>1</td>\n",
              "      <td>0</td>\n",
              "      <td>0</td>\n",
              "      <td>0</td>\n",
              "      <td>0</td>\n",
              "      <td>0</td>\n",
              "      <td>0</td>\n",
              "      <td>0</td>\n",
              "      <td>0</td>\n",
              "      <td>0</td>\n",
              "    </tr>\n",
              "    <tr>\n",
              "      <th>1457</th>\n",
              "      <td>20161228</td>\n",
              "      <td>2752.75</td>\n",
              "      <td>60.0</td>\n",
              "      <td>164835.0</td>\n",
              "      <td>4.0</td>\n",
              "      <td>230001.0</td>\n",
              "      <td>23000104.0</td>\n",
              "      <td>800.0</td>\n",
              "      <td>6128.845893</td>\n",
              "      <td>1595.0</td>\n",
              "      <td>...</td>\n",
              "      <td>1</td>\n",
              "      <td>0</td>\n",
              "      <td>0</td>\n",
              "      <td>0</td>\n",
              "      <td>0</td>\n",
              "      <td>0</td>\n",
              "      <td>0</td>\n",
              "      <td>0</td>\n",
              "      <td>0</td>\n",
              "      <td>0</td>\n",
              "    </tr>\n",
              "    <tr>\n",
              "      <th>1458</th>\n",
              "      <td>20161229</td>\n",
              "      <td>10010.00</td>\n",
              "      <td>18.0</td>\n",
              "      <td>180180.0</td>\n",
              "      <td>1.0</td>\n",
              "      <td>230003.0</td>\n",
              "      <td>23000303.0</td>\n",
              "      <td>225.0</td>\n",
              "      <td>6644.034096</td>\n",
              "      <td>437.0</td>\n",
              "      <td>...</td>\n",
              "      <td>1</td>\n",
              "      <td>0</td>\n",
              "      <td>0</td>\n",
              "      <td>0</td>\n",
              "      <td>0</td>\n",
              "      <td>0</td>\n",
              "      <td>0</td>\n",
              "      <td>0</td>\n",
              "      <td>0</td>\n",
              "      <td>0</td>\n",
              "    </tr>\n",
              "    <tr>\n",
              "      <th>1459</th>\n",
              "      <td>20161230</td>\n",
              "      <td>11411.40</td>\n",
              "      <td>4.0</td>\n",
              "      <td>45645.6</td>\n",
              "      <td>1.0</td>\n",
              "      <td>350301.0</td>\n",
              "      <td>35030101.0</td>\n",
              "      <td>570.0</td>\n",
              "      <td>6572.480795</td>\n",
              "      <td>972.0</td>\n",
              "      <td>...</td>\n",
              "      <td>1</td>\n",
              "      <td>0</td>\n",
              "      <td>0</td>\n",
              "      <td>0</td>\n",
              "      <td>0</td>\n",
              "      <td>0</td>\n",
              "      <td>0</td>\n",
              "      <td>0</td>\n",
              "      <td>0</td>\n",
              "      <td>0</td>\n",
              "    </tr>\n",
              "    <tr>\n",
              "      <th>1460</th>\n",
              "      <td>20161231</td>\n",
              "      <td>9490.50</td>\n",
              "      <td>160.0</td>\n",
              "      <td>1518480.0</td>\n",
              "      <td>2.0</td>\n",
              "      <td>230003.0</td>\n",
              "      <td>23000302.0</td>\n",
              "      <td>323.0</td>\n",
              "      <td>7503.706522</td>\n",
              "      <td>552.0</td>\n",
              "      <td>...</td>\n",
              "      <td>1</td>\n",
              "      <td>0</td>\n",
              "      <td>0</td>\n",
              "      <td>0</td>\n",
              "      <td>0</td>\n",
              "      <td>0</td>\n",
              "      <td>0</td>\n",
              "      <td>0</td>\n",
              "      <td>0</td>\n",
              "      <td>0</td>\n",
              "    </tr>\n",
              "  </tbody>\n",
              "</table>\n",
              "<p>1461 rows × 58 columns</p>\n",
              "</div>\n",
              "      <button class=\"colab-df-convert\" onclick=\"convertToInteractive('df-312620e9-80a9-4c5e-9cbf-3d4e71bbd5cb')\"\n",
              "              title=\"Convert this dataframe to an interactive table.\"\n",
              "              style=\"display:none;\">\n",
              "        \n",
              "  <svg xmlns=\"http://www.w3.org/2000/svg\" height=\"24px\"viewBox=\"0 0 24 24\"\n",
              "       width=\"24px\">\n",
              "    <path d=\"M0 0h24v24H0V0z\" fill=\"none\"/>\n",
              "    <path d=\"M18.56 5.44l.94 2.06.94-2.06 2.06-.94-2.06-.94-.94-2.06-.94 2.06-2.06.94zm-11 1L8.5 8.5l.94-2.06 2.06-.94-2.06-.94L8.5 2.5l-.94 2.06-2.06.94zm10 10l.94 2.06.94-2.06 2.06-.94-2.06-.94-.94-2.06-.94 2.06-2.06.94z\"/><path d=\"M17.41 7.96l-1.37-1.37c-.4-.4-.92-.59-1.43-.59-.52 0-1.04.2-1.43.59L10.3 9.45l-7.72 7.72c-.78.78-.78 2.05 0 2.83L4 21.41c.39.39.9.59 1.41.59.51 0 1.02-.2 1.41-.59l7.78-7.78 2.81-2.81c.8-.78.8-2.07 0-2.86zM5.41 20L4 18.59l7.72-7.72 1.47 1.35L5.41 20z\"/>\n",
              "  </svg>\n",
              "      </button>\n",
              "      \n",
              "  <style>\n",
              "    .colab-df-container {\n",
              "      display:flex;\n",
              "      flex-wrap:wrap;\n",
              "      gap: 12px;\n",
              "    }\n",
              "\n",
              "    .colab-df-convert {\n",
              "      background-color: #E8F0FE;\n",
              "      border: none;\n",
              "      border-radius: 50%;\n",
              "      cursor: pointer;\n",
              "      display: none;\n",
              "      fill: #1967D2;\n",
              "      height: 32px;\n",
              "      padding: 0 0 0 0;\n",
              "      width: 32px;\n",
              "    }\n",
              "\n",
              "    .colab-df-convert:hover {\n",
              "      background-color: #E2EBFA;\n",
              "      box-shadow: 0px 1px 2px rgba(60, 64, 67, 0.3), 0px 1px 3px 1px rgba(60, 64, 67, 0.15);\n",
              "      fill: #174EA6;\n",
              "    }\n",
              "\n",
              "    [theme=dark] .colab-df-convert {\n",
              "      background-color: #3B4455;\n",
              "      fill: #D2E3FC;\n",
              "    }\n",
              "\n",
              "    [theme=dark] .colab-df-convert:hover {\n",
              "      background-color: #434B5C;\n",
              "      box-shadow: 0px 1px 3px 1px rgba(0, 0, 0, 0.15);\n",
              "      filter: drop-shadow(0px 1px 2px rgba(0, 0, 0, 0.3));\n",
              "      fill: #FFFFFF;\n",
              "    }\n",
              "  </style>\n",
              "\n",
              "      <script>\n",
              "        const buttonEl =\n",
              "          document.querySelector('#df-312620e9-80a9-4c5e-9cbf-3d4e71bbd5cb button.colab-df-convert');\n",
              "        buttonEl.style.display =\n",
              "          google.colab.kernel.accessAllowed ? 'block' : 'none';\n",
              "\n",
              "        async function convertToInteractive(key) {\n",
              "          const element = document.querySelector('#df-312620e9-80a9-4c5e-9cbf-3d4e71bbd5cb');\n",
              "          const dataTable =\n",
              "            await google.colab.kernel.invokeFunction('convertToInteractive',\n",
              "                                                     [key], {});\n",
              "          if (!dataTable) return;\n",
              "\n",
              "          const docLinkHtml = 'Like what you see? Visit the ' +\n",
              "            '<a target=\"_blank\" href=https://colab.research.google.com/notebooks/data_table.ipynb>data table notebook</a>'\n",
              "            + ' to learn more about interactive tables.';\n",
              "          element.innerHTML = '';\n",
              "          dataTable['output_type'] = 'display_data';\n",
              "          await google.colab.output.renderOutput(dataTable, element);\n",
              "          const docLink = document.createElement('div');\n",
              "          docLink.innerHTML = docLinkHtml;\n",
              "          element.appendChild(docLink);\n",
              "        }\n",
              "      </script>\n",
              "    </div>\n",
              "  </div>\n",
              "  "
            ]
          },
          "metadata": {},
          "execution_count": 23
        }
      ],
      "source": [
        "df1 = pd.read_csv('./data/train/train_0.csv')\n",
        "df1"
      ],
      "id": "qztrIeLd7Shj"
    },
    {
      "cell_type": "markdown",
      "source": [
        "# nan 제거"
      ],
      "metadata": {
        "id": "_b6BTkcfws0O"
      },
      "id": "_b6BTkcfws0O"
    },
    {
      "cell_type": "markdown",
      "source": [
        "- 시계열 데이터이므로 결측치 기준 전과 후의 데이터를 그대로 복사\n"
      ],
      "metadata": {
        "id": "UtW9Qz82cGW5"
      },
      "id": "UtW9Qz82cGW5"
    },
    {
      "cell_type": "code",
      "source": [
        "df2 = df1.fillna(method='ffill') # 결측치 위치 기준 윗 값 가져오기 \n",
        "df2 = df1.fillna(method='bfill') # 결측치 위치 기준 아랫 값 가져오기\n",
        "\n",
        "df2"
      ],
      "metadata": {
        "colab": {
          "base_uri": "https://localhost:8080/",
          "height": 502
        },
        "id": "WupXtrHwwcf6",
        "outputId": "93ab206a-6935-408a-a4a8-b835dadeb9e7"
      },
      "id": "WupXtrHwwcf6",
      "execution_count": 24,
      "outputs": [
        {
          "output_type": "execute_result",
          "data": {
            "text/plain": [
              "      datadate     단가(원)    거래량    거래대금(원)  경매건수    도매시장코드      도매법인코드  산지코드   \\\n",
              "0     20130101   6143.85    2.0    12312.3   1.0  371501.0  37150102.0  740.0   \n",
              "1     20130102   6143.85    2.0    12312.3   1.0  371501.0  37150102.0  740.0   \n",
              "2     20130103   1898.10   48.0    91108.8   1.0  230001.0  23000102.0  800.0   \n",
              "3     20130104   8488.48  120.0  1019018.0   3.0  230001.0  23000101.0  323.0   \n",
              "4     20130105   3556.44  540.0  1921077.0   4.0  371501.0  37150102.0  742.0   \n",
              "...        ...       ...    ...        ...   ...       ...         ...    ...   \n",
              "1456  20161227   2752.75   60.0   164835.0   4.0  230001.0  23000104.0  800.0   \n",
              "1457  20161228   2752.75   60.0   164835.0   4.0  230001.0  23000104.0  800.0   \n",
              "1458  20161229  10010.00   18.0   180180.0   1.0  230003.0  23000303.0  225.0   \n",
              "1459  20161230  11411.40    4.0    45645.6   1.0  350301.0  35030101.0  570.0   \n",
              "1460  20161231   9490.50  160.0  1518480.0   2.0  230003.0  23000302.0  323.0   \n",
              "\n",
              "      해당일자_전체평균가격(원)  해당일자_전체거래물량(kg)  ...  월구분_12월  월구분_1월  월구분_2월  월구분_3월  \\\n",
              "0       20712.240909             22.0  ...        0       1       0       0   \n",
              "1       20712.240909             22.0  ...        0       1       0       0   \n",
              "2        3401.863678            541.0  ...        0       1       0       0   \n",
              "3        6553.903226            279.0  ...        0       1       0       0   \n",
              "4        4299.079157           1233.0  ...        0       1       0       0   \n",
              "...              ...              ...  ...      ...     ...     ...     ...   \n",
              "1456     6128.845893           1595.0  ...        1       0       0       0   \n",
              "1457     6128.845893           1595.0  ...        1       0       0       0   \n",
              "1458     6644.034096            437.0  ...        1       0       0       0   \n",
              "1459     6572.480795            972.0  ...        1       0       0       0   \n",
              "1460     7503.706522            552.0  ...        1       0       0       0   \n",
              "\n",
              "      월구분_4월  월구분_5월  월구분_6월  월구분_7월  월구분_8월  월구분_9월  \n",
              "0          0       0       0       0       0       0  \n",
              "1          0       0       0       0       0       0  \n",
              "2          0       0       0       0       0       0  \n",
              "3          0       0       0       0       0       0  \n",
              "4          0       0       0       0       0       0  \n",
              "...      ...     ...     ...     ...     ...     ...  \n",
              "1456       0       0       0       0       0       0  \n",
              "1457       0       0       0       0       0       0  \n",
              "1458       0       0       0       0       0       0  \n",
              "1459       0       0       0       0       0       0  \n",
              "1460       0       0       0       0       0       0  \n",
              "\n",
              "[1461 rows x 58 columns]"
            ],
            "text/html": [
              "\n",
              "  <div id=\"df-db3838a6-b711-44bb-8043-0548eb44f0f3\">\n",
              "    <div class=\"colab-df-container\">\n",
              "      <div>\n",
              "<style scoped>\n",
              "    .dataframe tbody tr th:only-of-type {\n",
              "        vertical-align: middle;\n",
              "    }\n",
              "\n",
              "    .dataframe tbody tr th {\n",
              "        vertical-align: top;\n",
              "    }\n",
              "\n",
              "    .dataframe thead th {\n",
              "        text-align: right;\n",
              "    }\n",
              "</style>\n",
              "<table border=\"1\" class=\"dataframe\">\n",
              "  <thead>\n",
              "    <tr style=\"text-align: right;\">\n",
              "      <th></th>\n",
              "      <th>datadate</th>\n",
              "      <th>단가(원)</th>\n",
              "      <th>거래량</th>\n",
              "      <th>거래대금(원)</th>\n",
              "      <th>경매건수</th>\n",
              "      <th>도매시장코드</th>\n",
              "      <th>도매법인코드</th>\n",
              "      <th>산지코드</th>\n",
              "      <th>해당일자_전체평균가격(원)</th>\n",
              "      <th>해당일자_전체거래물량(kg)</th>\n",
              "      <th>...</th>\n",
              "      <th>월구분_12월</th>\n",
              "      <th>월구분_1월</th>\n",
              "      <th>월구분_2월</th>\n",
              "      <th>월구분_3월</th>\n",
              "      <th>월구분_4월</th>\n",
              "      <th>월구분_5월</th>\n",
              "      <th>월구분_6월</th>\n",
              "      <th>월구분_7월</th>\n",
              "      <th>월구분_8월</th>\n",
              "      <th>월구분_9월</th>\n",
              "    </tr>\n",
              "  </thead>\n",
              "  <tbody>\n",
              "    <tr>\n",
              "      <th>0</th>\n",
              "      <td>20130101</td>\n",
              "      <td>6143.85</td>\n",
              "      <td>2.0</td>\n",
              "      <td>12312.3</td>\n",
              "      <td>1.0</td>\n",
              "      <td>371501.0</td>\n",
              "      <td>37150102.0</td>\n",
              "      <td>740.0</td>\n",
              "      <td>20712.240909</td>\n",
              "      <td>22.0</td>\n",
              "      <td>...</td>\n",
              "      <td>0</td>\n",
              "      <td>1</td>\n",
              "      <td>0</td>\n",
              "      <td>0</td>\n",
              "      <td>0</td>\n",
              "      <td>0</td>\n",
              "      <td>0</td>\n",
              "      <td>0</td>\n",
              "      <td>0</td>\n",
              "      <td>0</td>\n",
              "    </tr>\n",
              "    <tr>\n",
              "      <th>1</th>\n",
              "      <td>20130102</td>\n",
              "      <td>6143.85</td>\n",
              "      <td>2.0</td>\n",
              "      <td>12312.3</td>\n",
              "      <td>1.0</td>\n",
              "      <td>371501.0</td>\n",
              "      <td>37150102.0</td>\n",
              "      <td>740.0</td>\n",
              "      <td>20712.240909</td>\n",
              "      <td>22.0</td>\n",
              "      <td>...</td>\n",
              "      <td>0</td>\n",
              "      <td>1</td>\n",
              "      <td>0</td>\n",
              "      <td>0</td>\n",
              "      <td>0</td>\n",
              "      <td>0</td>\n",
              "      <td>0</td>\n",
              "      <td>0</td>\n",
              "      <td>0</td>\n",
              "      <td>0</td>\n",
              "    </tr>\n",
              "    <tr>\n",
              "      <th>2</th>\n",
              "      <td>20130103</td>\n",
              "      <td>1898.10</td>\n",
              "      <td>48.0</td>\n",
              "      <td>91108.8</td>\n",
              "      <td>1.0</td>\n",
              "      <td>230001.0</td>\n",
              "      <td>23000102.0</td>\n",
              "      <td>800.0</td>\n",
              "      <td>3401.863678</td>\n",
              "      <td>541.0</td>\n",
              "      <td>...</td>\n",
              "      <td>0</td>\n",
              "      <td>1</td>\n",
              "      <td>0</td>\n",
              "      <td>0</td>\n",
              "      <td>0</td>\n",
              "      <td>0</td>\n",
              "      <td>0</td>\n",
              "      <td>0</td>\n",
              "      <td>0</td>\n",
              "      <td>0</td>\n",
              "    </tr>\n",
              "    <tr>\n",
              "      <th>3</th>\n",
              "      <td>20130104</td>\n",
              "      <td>8488.48</td>\n",
              "      <td>120.0</td>\n",
              "      <td>1019018.0</td>\n",
              "      <td>3.0</td>\n",
              "      <td>230001.0</td>\n",
              "      <td>23000101.0</td>\n",
              "      <td>323.0</td>\n",
              "      <td>6553.903226</td>\n",
              "      <td>279.0</td>\n",
              "      <td>...</td>\n",
              "      <td>0</td>\n",
              "      <td>1</td>\n",
              "      <td>0</td>\n",
              "      <td>0</td>\n",
              "      <td>0</td>\n",
              "      <td>0</td>\n",
              "      <td>0</td>\n",
              "      <td>0</td>\n",
              "      <td>0</td>\n",
              "      <td>0</td>\n",
              "    </tr>\n",
              "    <tr>\n",
              "      <th>4</th>\n",
              "      <td>20130105</td>\n",
              "      <td>3556.44</td>\n",
              "      <td>540.0</td>\n",
              "      <td>1921077.0</td>\n",
              "      <td>4.0</td>\n",
              "      <td>371501.0</td>\n",
              "      <td>37150102.0</td>\n",
              "      <td>742.0</td>\n",
              "      <td>4299.079157</td>\n",
              "      <td>1233.0</td>\n",
              "      <td>...</td>\n",
              "      <td>0</td>\n",
              "      <td>1</td>\n",
              "      <td>0</td>\n",
              "      <td>0</td>\n",
              "      <td>0</td>\n",
              "      <td>0</td>\n",
              "      <td>0</td>\n",
              "      <td>0</td>\n",
              "      <td>0</td>\n",
              "      <td>0</td>\n",
              "    </tr>\n",
              "    <tr>\n",
              "      <th>...</th>\n",
              "      <td>...</td>\n",
              "      <td>...</td>\n",
              "      <td>...</td>\n",
              "      <td>...</td>\n",
              "      <td>...</td>\n",
              "      <td>...</td>\n",
              "      <td>...</td>\n",
              "      <td>...</td>\n",
              "      <td>...</td>\n",
              "      <td>...</td>\n",
              "      <td>...</td>\n",
              "      <td>...</td>\n",
              "      <td>...</td>\n",
              "      <td>...</td>\n",
              "      <td>...</td>\n",
              "      <td>...</td>\n",
              "      <td>...</td>\n",
              "      <td>...</td>\n",
              "      <td>...</td>\n",
              "      <td>...</td>\n",
              "      <td>...</td>\n",
              "    </tr>\n",
              "    <tr>\n",
              "      <th>1456</th>\n",
              "      <td>20161227</td>\n",
              "      <td>2752.75</td>\n",
              "      <td>60.0</td>\n",
              "      <td>164835.0</td>\n",
              "      <td>4.0</td>\n",
              "      <td>230001.0</td>\n",
              "      <td>23000104.0</td>\n",
              "      <td>800.0</td>\n",
              "      <td>6128.845893</td>\n",
              "      <td>1595.0</td>\n",
              "      <td>...</td>\n",
              "      <td>1</td>\n",
              "      <td>0</td>\n",
              "      <td>0</td>\n",
              "      <td>0</td>\n",
              "      <td>0</td>\n",
              "      <td>0</td>\n",
              "      <td>0</td>\n",
              "      <td>0</td>\n",
              "      <td>0</td>\n",
              "      <td>0</td>\n",
              "    </tr>\n",
              "    <tr>\n",
              "      <th>1457</th>\n",
              "      <td>20161228</td>\n",
              "      <td>2752.75</td>\n",
              "      <td>60.0</td>\n",
              "      <td>164835.0</td>\n",
              "      <td>4.0</td>\n",
              "      <td>230001.0</td>\n",
              "      <td>23000104.0</td>\n",
              "      <td>800.0</td>\n",
              "      <td>6128.845893</td>\n",
              "      <td>1595.0</td>\n",
              "      <td>...</td>\n",
              "      <td>1</td>\n",
              "      <td>0</td>\n",
              "      <td>0</td>\n",
              "      <td>0</td>\n",
              "      <td>0</td>\n",
              "      <td>0</td>\n",
              "      <td>0</td>\n",
              "      <td>0</td>\n",
              "      <td>0</td>\n",
              "      <td>0</td>\n",
              "    </tr>\n",
              "    <tr>\n",
              "      <th>1458</th>\n",
              "      <td>20161229</td>\n",
              "      <td>10010.00</td>\n",
              "      <td>18.0</td>\n",
              "      <td>180180.0</td>\n",
              "      <td>1.0</td>\n",
              "      <td>230003.0</td>\n",
              "      <td>23000303.0</td>\n",
              "      <td>225.0</td>\n",
              "      <td>6644.034096</td>\n",
              "      <td>437.0</td>\n",
              "      <td>...</td>\n",
              "      <td>1</td>\n",
              "      <td>0</td>\n",
              "      <td>0</td>\n",
              "      <td>0</td>\n",
              "      <td>0</td>\n",
              "      <td>0</td>\n",
              "      <td>0</td>\n",
              "      <td>0</td>\n",
              "      <td>0</td>\n",
              "      <td>0</td>\n",
              "    </tr>\n",
              "    <tr>\n",
              "      <th>1459</th>\n",
              "      <td>20161230</td>\n",
              "      <td>11411.40</td>\n",
              "      <td>4.0</td>\n",
              "      <td>45645.6</td>\n",
              "      <td>1.0</td>\n",
              "      <td>350301.0</td>\n",
              "      <td>35030101.0</td>\n",
              "      <td>570.0</td>\n",
              "      <td>6572.480795</td>\n",
              "      <td>972.0</td>\n",
              "      <td>...</td>\n",
              "      <td>1</td>\n",
              "      <td>0</td>\n",
              "      <td>0</td>\n",
              "      <td>0</td>\n",
              "      <td>0</td>\n",
              "      <td>0</td>\n",
              "      <td>0</td>\n",
              "      <td>0</td>\n",
              "      <td>0</td>\n",
              "      <td>0</td>\n",
              "    </tr>\n",
              "    <tr>\n",
              "      <th>1460</th>\n",
              "      <td>20161231</td>\n",
              "      <td>9490.50</td>\n",
              "      <td>160.0</td>\n",
              "      <td>1518480.0</td>\n",
              "      <td>2.0</td>\n",
              "      <td>230003.0</td>\n",
              "      <td>23000302.0</td>\n",
              "      <td>323.0</td>\n",
              "      <td>7503.706522</td>\n",
              "      <td>552.0</td>\n",
              "      <td>...</td>\n",
              "      <td>1</td>\n",
              "      <td>0</td>\n",
              "      <td>0</td>\n",
              "      <td>0</td>\n",
              "      <td>0</td>\n",
              "      <td>0</td>\n",
              "      <td>0</td>\n",
              "      <td>0</td>\n",
              "      <td>0</td>\n",
              "      <td>0</td>\n",
              "    </tr>\n",
              "  </tbody>\n",
              "</table>\n",
              "<p>1461 rows × 58 columns</p>\n",
              "</div>\n",
              "      <button class=\"colab-df-convert\" onclick=\"convertToInteractive('df-db3838a6-b711-44bb-8043-0548eb44f0f3')\"\n",
              "              title=\"Convert this dataframe to an interactive table.\"\n",
              "              style=\"display:none;\">\n",
              "        \n",
              "  <svg xmlns=\"http://www.w3.org/2000/svg\" height=\"24px\"viewBox=\"0 0 24 24\"\n",
              "       width=\"24px\">\n",
              "    <path d=\"M0 0h24v24H0V0z\" fill=\"none\"/>\n",
              "    <path d=\"M18.56 5.44l.94 2.06.94-2.06 2.06-.94-2.06-.94-.94-2.06-.94 2.06-2.06.94zm-11 1L8.5 8.5l.94-2.06 2.06-.94-2.06-.94L8.5 2.5l-.94 2.06-2.06.94zm10 10l.94 2.06.94-2.06 2.06-.94-2.06-.94-.94-2.06-.94 2.06-2.06.94z\"/><path d=\"M17.41 7.96l-1.37-1.37c-.4-.4-.92-.59-1.43-.59-.52 0-1.04.2-1.43.59L10.3 9.45l-7.72 7.72c-.78.78-.78 2.05 0 2.83L4 21.41c.39.39.9.59 1.41.59.51 0 1.02-.2 1.41-.59l7.78-7.78 2.81-2.81c.8-.78.8-2.07 0-2.86zM5.41 20L4 18.59l7.72-7.72 1.47 1.35L5.41 20z\"/>\n",
              "  </svg>\n",
              "      </button>\n",
              "      \n",
              "  <style>\n",
              "    .colab-df-container {\n",
              "      display:flex;\n",
              "      flex-wrap:wrap;\n",
              "      gap: 12px;\n",
              "    }\n",
              "\n",
              "    .colab-df-convert {\n",
              "      background-color: #E8F0FE;\n",
              "      border: none;\n",
              "      border-radius: 50%;\n",
              "      cursor: pointer;\n",
              "      display: none;\n",
              "      fill: #1967D2;\n",
              "      height: 32px;\n",
              "      padding: 0 0 0 0;\n",
              "      width: 32px;\n",
              "    }\n",
              "\n",
              "    .colab-df-convert:hover {\n",
              "      background-color: #E2EBFA;\n",
              "      box-shadow: 0px 1px 2px rgba(60, 64, 67, 0.3), 0px 1px 3px 1px rgba(60, 64, 67, 0.15);\n",
              "      fill: #174EA6;\n",
              "    }\n",
              "\n",
              "    [theme=dark] .colab-df-convert {\n",
              "      background-color: #3B4455;\n",
              "      fill: #D2E3FC;\n",
              "    }\n",
              "\n",
              "    [theme=dark] .colab-df-convert:hover {\n",
              "      background-color: #434B5C;\n",
              "      box-shadow: 0px 1px 3px 1px rgba(0, 0, 0, 0.15);\n",
              "      filter: drop-shadow(0px 1px 2px rgba(0, 0, 0, 0.3));\n",
              "      fill: #FFFFFF;\n",
              "    }\n",
              "  </style>\n",
              "\n",
              "      <script>\n",
              "        const buttonEl =\n",
              "          document.querySelector('#df-db3838a6-b711-44bb-8043-0548eb44f0f3 button.colab-df-convert');\n",
              "        buttonEl.style.display =\n",
              "          google.colab.kernel.accessAllowed ? 'block' : 'none';\n",
              "\n",
              "        async function convertToInteractive(key) {\n",
              "          const element = document.querySelector('#df-db3838a6-b711-44bb-8043-0548eb44f0f3');\n",
              "          const dataTable =\n",
              "            await google.colab.kernel.invokeFunction('convertToInteractive',\n",
              "                                                     [key], {});\n",
              "          if (!dataTable) return;\n",
              "\n",
              "          const docLinkHtml = 'Like what you see? Visit the ' +\n",
              "            '<a target=\"_blank\" href=https://colab.research.google.com/notebooks/data_table.ipynb>data table notebook</a>'\n",
              "            + ' to learn more about interactive tables.';\n",
              "          element.innerHTML = '';\n",
              "          dataTable['output_type'] = 'display_data';\n",
              "          await google.colab.output.renderOutput(dataTable, element);\n",
              "          const docLink = document.createElement('div');\n",
              "          docLink.innerHTML = docLinkHtml;\n",
              "          element.appendChild(docLink);\n",
              "        }\n",
              "      </script>\n",
              "    </div>\n",
              "  </div>\n",
              "  "
            ]
          },
          "metadata": {},
          "execution_count": 24
        }
      ]
    },
    {
      "cell_type": "markdown",
      "source": [
        "2013-01-03 와 같은 형식으로 날짜 재 배열(pd.to_datetime 함수 사용)"
      ],
      "metadata": {
        "id": "HlTOzWD4cWIw"
      },
      "id": "HlTOzWD4cWIw"
    },
    {
      "cell_type": "code",
      "source": [
        "date = pd.to_datetime(df1['datadate'], format='%Y%m%d')\n",
        "df2['datadate'] = date \n",
        "df2.head()"
      ],
      "metadata": {
        "colab": {
          "base_uri": "https://localhost:8080/",
          "height": 401
        },
        "id": "n7dyev9oTPEf",
        "outputId": "367d6420-aeac-4800-98a0-b2f7d20c6f2c"
      },
      "id": "n7dyev9oTPEf",
      "execution_count": 25,
      "outputs": [
        {
          "output_type": "execute_result",
          "data": {
            "text/plain": [
              "    datadate    단가(원)    거래량    거래대금(원)  경매건수    도매시장코드      도매법인코드  산지코드   \\\n",
              "0 2013-01-01  6143.85    2.0    12312.3   1.0  371501.0  37150102.0  740.0   \n",
              "1 2013-01-02  6143.85    2.0    12312.3   1.0  371501.0  37150102.0  740.0   \n",
              "2 2013-01-03  1898.10   48.0    91108.8   1.0  230001.0  23000102.0  800.0   \n",
              "3 2013-01-04  8488.48  120.0  1019018.0   3.0  230001.0  23000101.0  323.0   \n",
              "4 2013-01-05  3556.44  540.0  1921077.0   4.0  371501.0  37150102.0  742.0   \n",
              "\n",
              "   해당일자_전체평균가격(원)  해당일자_전체거래물량(kg)  ...  월구분_12월  월구분_1월  월구분_2월  월구분_3월  \\\n",
              "0    20712.240909             22.0  ...        0       1       0       0   \n",
              "1    20712.240909             22.0  ...        0       1       0       0   \n",
              "2     3401.863678            541.0  ...        0       1       0       0   \n",
              "3     6553.903226            279.0  ...        0       1       0       0   \n",
              "4     4299.079157           1233.0  ...        0       1       0       0   \n",
              "\n",
              "   월구분_4월  월구분_5월  월구분_6월  월구분_7월  월구분_8월  월구분_9월  \n",
              "0       0       0       0       0       0       0  \n",
              "1       0       0       0       0       0       0  \n",
              "2       0       0       0       0       0       0  \n",
              "3       0       0       0       0       0       0  \n",
              "4       0       0       0       0       0       0  \n",
              "\n",
              "[5 rows x 58 columns]"
            ],
            "text/html": [
              "\n",
              "  <div id=\"df-6a4fb77f-1f6b-4d13-92e2-6bcb2bb73d10\">\n",
              "    <div class=\"colab-df-container\">\n",
              "      <div>\n",
              "<style scoped>\n",
              "    .dataframe tbody tr th:only-of-type {\n",
              "        vertical-align: middle;\n",
              "    }\n",
              "\n",
              "    .dataframe tbody tr th {\n",
              "        vertical-align: top;\n",
              "    }\n",
              "\n",
              "    .dataframe thead th {\n",
              "        text-align: right;\n",
              "    }\n",
              "</style>\n",
              "<table border=\"1\" class=\"dataframe\">\n",
              "  <thead>\n",
              "    <tr style=\"text-align: right;\">\n",
              "      <th></th>\n",
              "      <th>datadate</th>\n",
              "      <th>단가(원)</th>\n",
              "      <th>거래량</th>\n",
              "      <th>거래대금(원)</th>\n",
              "      <th>경매건수</th>\n",
              "      <th>도매시장코드</th>\n",
              "      <th>도매법인코드</th>\n",
              "      <th>산지코드</th>\n",
              "      <th>해당일자_전체평균가격(원)</th>\n",
              "      <th>해당일자_전체거래물량(kg)</th>\n",
              "      <th>...</th>\n",
              "      <th>월구분_12월</th>\n",
              "      <th>월구분_1월</th>\n",
              "      <th>월구분_2월</th>\n",
              "      <th>월구분_3월</th>\n",
              "      <th>월구분_4월</th>\n",
              "      <th>월구분_5월</th>\n",
              "      <th>월구분_6월</th>\n",
              "      <th>월구분_7월</th>\n",
              "      <th>월구분_8월</th>\n",
              "      <th>월구분_9월</th>\n",
              "    </tr>\n",
              "  </thead>\n",
              "  <tbody>\n",
              "    <tr>\n",
              "      <th>0</th>\n",
              "      <td>2013-01-01</td>\n",
              "      <td>6143.85</td>\n",
              "      <td>2.0</td>\n",
              "      <td>12312.3</td>\n",
              "      <td>1.0</td>\n",
              "      <td>371501.0</td>\n",
              "      <td>37150102.0</td>\n",
              "      <td>740.0</td>\n",
              "      <td>20712.240909</td>\n",
              "      <td>22.0</td>\n",
              "      <td>...</td>\n",
              "      <td>0</td>\n",
              "      <td>1</td>\n",
              "      <td>0</td>\n",
              "      <td>0</td>\n",
              "      <td>0</td>\n",
              "      <td>0</td>\n",
              "      <td>0</td>\n",
              "      <td>0</td>\n",
              "      <td>0</td>\n",
              "      <td>0</td>\n",
              "    </tr>\n",
              "    <tr>\n",
              "      <th>1</th>\n",
              "      <td>2013-01-02</td>\n",
              "      <td>6143.85</td>\n",
              "      <td>2.0</td>\n",
              "      <td>12312.3</td>\n",
              "      <td>1.0</td>\n",
              "      <td>371501.0</td>\n",
              "      <td>37150102.0</td>\n",
              "      <td>740.0</td>\n",
              "      <td>20712.240909</td>\n",
              "      <td>22.0</td>\n",
              "      <td>...</td>\n",
              "      <td>0</td>\n",
              "      <td>1</td>\n",
              "      <td>0</td>\n",
              "      <td>0</td>\n",
              "      <td>0</td>\n",
              "      <td>0</td>\n",
              "      <td>0</td>\n",
              "      <td>0</td>\n",
              "      <td>0</td>\n",
              "      <td>0</td>\n",
              "    </tr>\n",
              "    <tr>\n",
              "      <th>2</th>\n",
              "      <td>2013-01-03</td>\n",
              "      <td>1898.10</td>\n",
              "      <td>48.0</td>\n",
              "      <td>91108.8</td>\n",
              "      <td>1.0</td>\n",
              "      <td>230001.0</td>\n",
              "      <td>23000102.0</td>\n",
              "      <td>800.0</td>\n",
              "      <td>3401.863678</td>\n",
              "      <td>541.0</td>\n",
              "      <td>...</td>\n",
              "      <td>0</td>\n",
              "      <td>1</td>\n",
              "      <td>0</td>\n",
              "      <td>0</td>\n",
              "      <td>0</td>\n",
              "      <td>0</td>\n",
              "      <td>0</td>\n",
              "      <td>0</td>\n",
              "      <td>0</td>\n",
              "      <td>0</td>\n",
              "    </tr>\n",
              "    <tr>\n",
              "      <th>3</th>\n",
              "      <td>2013-01-04</td>\n",
              "      <td>8488.48</td>\n",
              "      <td>120.0</td>\n",
              "      <td>1019018.0</td>\n",
              "      <td>3.0</td>\n",
              "      <td>230001.0</td>\n",
              "      <td>23000101.0</td>\n",
              "      <td>323.0</td>\n",
              "      <td>6553.903226</td>\n",
              "      <td>279.0</td>\n",
              "      <td>...</td>\n",
              "      <td>0</td>\n",
              "      <td>1</td>\n",
              "      <td>0</td>\n",
              "      <td>0</td>\n",
              "      <td>0</td>\n",
              "      <td>0</td>\n",
              "      <td>0</td>\n",
              "      <td>0</td>\n",
              "      <td>0</td>\n",
              "      <td>0</td>\n",
              "    </tr>\n",
              "    <tr>\n",
              "      <th>4</th>\n",
              "      <td>2013-01-05</td>\n",
              "      <td>3556.44</td>\n",
              "      <td>540.0</td>\n",
              "      <td>1921077.0</td>\n",
              "      <td>4.0</td>\n",
              "      <td>371501.0</td>\n",
              "      <td>37150102.0</td>\n",
              "      <td>742.0</td>\n",
              "      <td>4299.079157</td>\n",
              "      <td>1233.0</td>\n",
              "      <td>...</td>\n",
              "      <td>0</td>\n",
              "      <td>1</td>\n",
              "      <td>0</td>\n",
              "      <td>0</td>\n",
              "      <td>0</td>\n",
              "      <td>0</td>\n",
              "      <td>0</td>\n",
              "      <td>0</td>\n",
              "      <td>0</td>\n",
              "      <td>0</td>\n",
              "    </tr>\n",
              "  </tbody>\n",
              "</table>\n",
              "<p>5 rows × 58 columns</p>\n",
              "</div>\n",
              "      <button class=\"colab-df-convert\" onclick=\"convertToInteractive('df-6a4fb77f-1f6b-4d13-92e2-6bcb2bb73d10')\"\n",
              "              title=\"Convert this dataframe to an interactive table.\"\n",
              "              style=\"display:none;\">\n",
              "        \n",
              "  <svg xmlns=\"http://www.w3.org/2000/svg\" height=\"24px\"viewBox=\"0 0 24 24\"\n",
              "       width=\"24px\">\n",
              "    <path d=\"M0 0h24v24H0V0z\" fill=\"none\"/>\n",
              "    <path d=\"M18.56 5.44l.94 2.06.94-2.06 2.06-.94-2.06-.94-.94-2.06-.94 2.06-2.06.94zm-11 1L8.5 8.5l.94-2.06 2.06-.94-2.06-.94L8.5 2.5l-.94 2.06-2.06.94zm10 10l.94 2.06.94-2.06 2.06-.94-2.06-.94-.94-2.06-.94 2.06-2.06.94z\"/><path d=\"M17.41 7.96l-1.37-1.37c-.4-.4-.92-.59-1.43-.59-.52 0-1.04.2-1.43.59L10.3 9.45l-7.72 7.72c-.78.78-.78 2.05 0 2.83L4 21.41c.39.39.9.59 1.41.59.51 0 1.02-.2 1.41-.59l7.78-7.78 2.81-2.81c.8-.78.8-2.07 0-2.86zM5.41 20L4 18.59l7.72-7.72 1.47 1.35L5.41 20z\"/>\n",
              "  </svg>\n",
              "      </button>\n",
              "      \n",
              "  <style>\n",
              "    .colab-df-container {\n",
              "      display:flex;\n",
              "      flex-wrap:wrap;\n",
              "      gap: 12px;\n",
              "    }\n",
              "\n",
              "    .colab-df-convert {\n",
              "      background-color: #E8F0FE;\n",
              "      border: none;\n",
              "      border-radius: 50%;\n",
              "      cursor: pointer;\n",
              "      display: none;\n",
              "      fill: #1967D2;\n",
              "      height: 32px;\n",
              "      padding: 0 0 0 0;\n",
              "      width: 32px;\n",
              "    }\n",
              "\n",
              "    .colab-df-convert:hover {\n",
              "      background-color: #E2EBFA;\n",
              "      box-shadow: 0px 1px 2px rgba(60, 64, 67, 0.3), 0px 1px 3px 1px rgba(60, 64, 67, 0.15);\n",
              "      fill: #174EA6;\n",
              "    }\n",
              "\n",
              "    [theme=dark] .colab-df-convert {\n",
              "      background-color: #3B4455;\n",
              "      fill: #D2E3FC;\n",
              "    }\n",
              "\n",
              "    [theme=dark] .colab-df-convert:hover {\n",
              "      background-color: #434B5C;\n",
              "      box-shadow: 0px 1px 3px 1px rgba(0, 0, 0, 0.15);\n",
              "      filter: drop-shadow(0px 1px 2px rgba(0, 0, 0, 0.3));\n",
              "      fill: #FFFFFF;\n",
              "    }\n",
              "  </style>\n",
              "\n",
              "      <script>\n",
              "        const buttonEl =\n",
              "          document.querySelector('#df-6a4fb77f-1f6b-4d13-92e2-6bcb2bb73d10 button.colab-df-convert');\n",
              "        buttonEl.style.display =\n",
              "          google.colab.kernel.accessAllowed ? 'block' : 'none';\n",
              "\n",
              "        async function convertToInteractive(key) {\n",
              "          const element = document.querySelector('#df-6a4fb77f-1f6b-4d13-92e2-6bcb2bb73d10');\n",
              "          const dataTable =\n",
              "            await google.colab.kernel.invokeFunction('convertToInteractive',\n",
              "                                                     [key], {});\n",
              "          if (!dataTable) return;\n",
              "\n",
              "          const docLinkHtml = 'Like what you see? Visit the ' +\n",
              "            '<a target=\"_blank\" href=https://colab.research.google.com/notebooks/data_table.ipynb>data table notebook</a>'\n",
              "            + ' to learn more about interactive tables.';\n",
              "          element.innerHTML = '';\n",
              "          dataTable['output_type'] = 'display_data';\n",
              "          await google.colab.output.renderOutput(dataTable, element);\n",
              "          const docLink = document.createElement('div');\n",
              "          docLink.innerHTML = docLinkHtml;\n",
              "          element.appendChild(docLink);\n",
              "        }\n",
              "      </script>\n",
              "    </div>\n",
              "  </div>\n",
              "  "
            ]
          },
          "metadata": {},
          "execution_count": 25
        }
      ]
    },
    {
      "cell_type": "markdown",
      "source": [
        "# 데이터프레임 재구성\n",
        "**0으로 채워져있는 사용할 수 없는 열들 제거**\n",
        "- X : 27개의 열들\n",
        "- Y : 단가 (원)"
      ],
      "metadata": {
        "id": "5A_vr6I1c8dl"
      },
      "id": "5A_vr6I1c8dl"
    },
    {
      "cell_type": "code",
      "source": [
        "df3 = df2.iloc[:, :28]\n",
        "df3"
      ],
      "metadata": {
        "colab": {
          "base_uri": "https://localhost:8080/",
          "height": 711
        },
        "id": "5sACW_C1oR0Y",
        "outputId": "34ea3364-7f1c-4bae-a474-70c4161bf358"
      },
      "id": "5sACW_C1oR0Y",
      "execution_count": 26,
      "outputs": [
        {
          "output_type": "execute_result",
          "data": {
            "text/plain": [
              "       datadate     단가(원)    거래량    거래대금(원)  경매건수    도매시장코드      도매법인코드  \\\n",
              "0    2013-01-01   6143.85    2.0    12312.3   1.0  371501.0  37150102.0   \n",
              "1    2013-01-02   6143.85    2.0    12312.3   1.0  371501.0  37150102.0   \n",
              "2    2013-01-03   1898.10   48.0    91108.8   1.0  230001.0  23000102.0   \n",
              "3    2013-01-04   8488.48  120.0  1019018.0   3.0  230001.0  23000101.0   \n",
              "4    2013-01-05   3556.44  540.0  1921077.0   4.0  371501.0  37150102.0   \n",
              "...         ...       ...    ...        ...   ...       ...         ...   \n",
              "1456 2016-12-27   2752.75   60.0   164835.0   4.0  230001.0  23000104.0   \n",
              "1457 2016-12-28   2752.75   60.0   164835.0   4.0  230001.0  23000104.0   \n",
              "1458 2016-12-29  10010.00   18.0   180180.0   1.0  230003.0  23000303.0   \n",
              "1459 2016-12-30  11411.40    4.0    45645.6   1.0  350301.0  35030101.0   \n",
              "1460 2016-12-31   9490.50  160.0  1518480.0   2.0  230003.0  23000302.0   \n",
              "\n",
              "      산지코드   해당일자_전체평균가격(원)  해당일자_전체거래물량(kg)  ...  일자별_소매가격_평균(원)  \\\n",
              "0     740.0    20712.240909             22.0  ...     4298.522727   \n",
              "1     740.0    20712.240909             22.0  ...     4298.522727   \n",
              "2     800.0     3401.863678            541.0  ...     4298.522727   \n",
              "3     323.0     6553.903226            279.0  ...     4298.522727   \n",
              "4     742.0     4299.079157           1233.0  ...     4298.522727   \n",
              "...     ...             ...              ...  ...             ...   \n",
              "1456  800.0     6128.845893           1595.0  ...     5327.441860   \n",
              "1457  800.0     6128.845893           1595.0  ...     5327.441860   \n",
              "1458  225.0     6644.034096            437.0  ...     5319.545455   \n",
              "1459  570.0     6572.480795            972.0  ...     5319.545455   \n",
              "1460  323.0     7503.706522            552.0  ...     5319.545455   \n",
              "\n",
              "      일자별_소매가격_최소(원)  수출중량(kg)  수출금액(달러)   수입중량(kg)   수입금액(달러)   무역수지(달러)  \\\n",
              "0             3210.0       0.0       0.0  1864728.0  1195211.0 -1195211.0   \n",
              "1             3210.0       0.0       0.0  1864728.0  1195211.0 -1195211.0   \n",
              "2             3210.0       0.0       0.0  1864728.0  1195211.0 -1195211.0   \n",
              "3             3210.0       0.0       0.0  1864728.0  1195211.0 -1195211.0   \n",
              "4             3210.0       0.0       0.0  1864728.0  1195211.0 -1195211.0   \n",
              "...              ...       ...       ...        ...        ...        ...   \n",
              "1456          3330.0       0.0       0.0  1465836.0  1154379.0 -1154379.0   \n",
              "1457          3330.0       0.0       0.0  1465836.0  1154379.0 -1154379.0   \n",
              "1458          3330.0       0.0       0.0  1465836.0  1154379.0 -1154379.0   \n",
              "1459          3330.0       0.0       0.0  1465836.0  1154379.0 -1154379.0   \n",
              "1460          3330.0       0.0       0.0  1465836.0  1154379.0 -1154379.0   \n",
              "\n",
              "      주산지_0_초기온도(℃)  주산지_0_최대온도(℃)  주산지_0_최저온도(℃)  \n",
              "0              -3.9            4.4           -7.7  \n",
              "1               2.8            6.7           -1.1  \n",
              "2              -1.2            5.0           -6.3  \n",
              "3              -1.7            6.8           -4.5  \n",
              "4              -4.6            6.2           -6.1  \n",
              "...             ...            ...            ...  \n",
              "1456           -7.6            7.0           -8.1  \n",
              "1457            1.6            9.4           -3.3  \n",
              "1458           -3.2           -1.0           -7.6  \n",
              "1459           -7.6           -7.6          -15.6  \n",
              "1460          -15.4           -6.1          -16.5  \n",
              "\n",
              "[1461 rows x 28 columns]"
            ],
            "text/html": [
              "\n",
              "  <div id=\"df-c7d5681e-d77a-45c8-ae6f-68d89c36ef29\">\n",
              "    <div class=\"colab-df-container\">\n",
              "      <div>\n",
              "<style scoped>\n",
              "    .dataframe tbody tr th:only-of-type {\n",
              "        vertical-align: middle;\n",
              "    }\n",
              "\n",
              "    .dataframe tbody tr th {\n",
              "        vertical-align: top;\n",
              "    }\n",
              "\n",
              "    .dataframe thead th {\n",
              "        text-align: right;\n",
              "    }\n",
              "</style>\n",
              "<table border=\"1\" class=\"dataframe\">\n",
              "  <thead>\n",
              "    <tr style=\"text-align: right;\">\n",
              "      <th></th>\n",
              "      <th>datadate</th>\n",
              "      <th>단가(원)</th>\n",
              "      <th>거래량</th>\n",
              "      <th>거래대금(원)</th>\n",
              "      <th>경매건수</th>\n",
              "      <th>도매시장코드</th>\n",
              "      <th>도매법인코드</th>\n",
              "      <th>산지코드</th>\n",
              "      <th>해당일자_전체평균가격(원)</th>\n",
              "      <th>해당일자_전체거래물량(kg)</th>\n",
              "      <th>...</th>\n",
              "      <th>일자별_소매가격_평균(원)</th>\n",
              "      <th>일자별_소매가격_최소(원)</th>\n",
              "      <th>수출중량(kg)</th>\n",
              "      <th>수출금액(달러)</th>\n",
              "      <th>수입중량(kg)</th>\n",
              "      <th>수입금액(달러)</th>\n",
              "      <th>무역수지(달러)</th>\n",
              "      <th>주산지_0_초기온도(℃)</th>\n",
              "      <th>주산지_0_최대온도(℃)</th>\n",
              "      <th>주산지_0_최저온도(℃)</th>\n",
              "    </tr>\n",
              "  </thead>\n",
              "  <tbody>\n",
              "    <tr>\n",
              "      <th>0</th>\n",
              "      <td>2013-01-01</td>\n",
              "      <td>6143.85</td>\n",
              "      <td>2.0</td>\n",
              "      <td>12312.3</td>\n",
              "      <td>1.0</td>\n",
              "      <td>371501.0</td>\n",
              "      <td>37150102.0</td>\n",
              "      <td>740.0</td>\n",
              "      <td>20712.240909</td>\n",
              "      <td>22.0</td>\n",
              "      <td>...</td>\n",
              "      <td>4298.522727</td>\n",
              "      <td>3210.0</td>\n",
              "      <td>0.0</td>\n",
              "      <td>0.0</td>\n",
              "      <td>1864728.0</td>\n",
              "      <td>1195211.0</td>\n",
              "      <td>-1195211.0</td>\n",
              "      <td>-3.9</td>\n",
              "      <td>4.4</td>\n",
              "      <td>-7.7</td>\n",
              "    </tr>\n",
              "    <tr>\n",
              "      <th>1</th>\n",
              "      <td>2013-01-02</td>\n",
              "      <td>6143.85</td>\n",
              "      <td>2.0</td>\n",
              "      <td>12312.3</td>\n",
              "      <td>1.0</td>\n",
              "      <td>371501.0</td>\n",
              "      <td>37150102.0</td>\n",
              "      <td>740.0</td>\n",
              "      <td>20712.240909</td>\n",
              "      <td>22.0</td>\n",
              "      <td>...</td>\n",
              "      <td>4298.522727</td>\n",
              "      <td>3210.0</td>\n",
              "      <td>0.0</td>\n",
              "      <td>0.0</td>\n",
              "      <td>1864728.0</td>\n",
              "      <td>1195211.0</td>\n",
              "      <td>-1195211.0</td>\n",
              "      <td>2.8</td>\n",
              "      <td>6.7</td>\n",
              "      <td>-1.1</td>\n",
              "    </tr>\n",
              "    <tr>\n",
              "      <th>2</th>\n",
              "      <td>2013-01-03</td>\n",
              "      <td>1898.10</td>\n",
              "      <td>48.0</td>\n",
              "      <td>91108.8</td>\n",
              "      <td>1.0</td>\n",
              "      <td>230001.0</td>\n",
              "      <td>23000102.0</td>\n",
              "      <td>800.0</td>\n",
              "      <td>3401.863678</td>\n",
              "      <td>541.0</td>\n",
              "      <td>...</td>\n",
              "      <td>4298.522727</td>\n",
              "      <td>3210.0</td>\n",
              "      <td>0.0</td>\n",
              "      <td>0.0</td>\n",
              "      <td>1864728.0</td>\n",
              "      <td>1195211.0</td>\n",
              "      <td>-1195211.0</td>\n",
              "      <td>-1.2</td>\n",
              "      <td>5.0</td>\n",
              "      <td>-6.3</td>\n",
              "    </tr>\n",
              "    <tr>\n",
              "      <th>3</th>\n",
              "      <td>2013-01-04</td>\n",
              "      <td>8488.48</td>\n",
              "      <td>120.0</td>\n",
              "      <td>1019018.0</td>\n",
              "      <td>3.0</td>\n",
              "      <td>230001.0</td>\n",
              "      <td>23000101.0</td>\n",
              "      <td>323.0</td>\n",
              "      <td>6553.903226</td>\n",
              "      <td>279.0</td>\n",
              "      <td>...</td>\n",
              "      <td>4298.522727</td>\n",
              "      <td>3210.0</td>\n",
              "      <td>0.0</td>\n",
              "      <td>0.0</td>\n",
              "      <td>1864728.0</td>\n",
              "      <td>1195211.0</td>\n",
              "      <td>-1195211.0</td>\n",
              "      <td>-1.7</td>\n",
              "      <td>6.8</td>\n",
              "      <td>-4.5</td>\n",
              "    </tr>\n",
              "    <tr>\n",
              "      <th>4</th>\n",
              "      <td>2013-01-05</td>\n",
              "      <td>3556.44</td>\n",
              "      <td>540.0</td>\n",
              "      <td>1921077.0</td>\n",
              "      <td>4.0</td>\n",
              "      <td>371501.0</td>\n",
              "      <td>37150102.0</td>\n",
              "      <td>742.0</td>\n",
              "      <td>4299.079157</td>\n",
              "      <td>1233.0</td>\n",
              "      <td>...</td>\n",
              "      <td>4298.522727</td>\n",
              "      <td>3210.0</td>\n",
              "      <td>0.0</td>\n",
              "      <td>0.0</td>\n",
              "      <td>1864728.0</td>\n",
              "      <td>1195211.0</td>\n",
              "      <td>-1195211.0</td>\n",
              "      <td>-4.6</td>\n",
              "      <td>6.2</td>\n",
              "      <td>-6.1</td>\n",
              "    </tr>\n",
              "    <tr>\n",
              "      <th>...</th>\n",
              "      <td>...</td>\n",
              "      <td>...</td>\n",
              "      <td>...</td>\n",
              "      <td>...</td>\n",
              "      <td>...</td>\n",
              "      <td>...</td>\n",
              "      <td>...</td>\n",
              "      <td>...</td>\n",
              "      <td>...</td>\n",
              "      <td>...</td>\n",
              "      <td>...</td>\n",
              "      <td>...</td>\n",
              "      <td>...</td>\n",
              "      <td>...</td>\n",
              "      <td>...</td>\n",
              "      <td>...</td>\n",
              "      <td>...</td>\n",
              "      <td>...</td>\n",
              "      <td>...</td>\n",
              "      <td>...</td>\n",
              "      <td>...</td>\n",
              "    </tr>\n",
              "    <tr>\n",
              "      <th>1456</th>\n",
              "      <td>2016-12-27</td>\n",
              "      <td>2752.75</td>\n",
              "      <td>60.0</td>\n",
              "      <td>164835.0</td>\n",
              "      <td>4.0</td>\n",
              "      <td>230001.0</td>\n",
              "      <td>23000104.0</td>\n",
              "      <td>800.0</td>\n",
              "      <td>6128.845893</td>\n",
              "      <td>1595.0</td>\n",
              "      <td>...</td>\n",
              "      <td>5327.441860</td>\n",
              "      <td>3330.0</td>\n",
              "      <td>0.0</td>\n",
              "      <td>0.0</td>\n",
              "      <td>1465836.0</td>\n",
              "      <td>1154379.0</td>\n",
              "      <td>-1154379.0</td>\n",
              "      <td>-7.6</td>\n",
              "      <td>7.0</td>\n",
              "      <td>-8.1</td>\n",
              "    </tr>\n",
              "    <tr>\n",
              "      <th>1457</th>\n",
              "      <td>2016-12-28</td>\n",
              "      <td>2752.75</td>\n",
              "      <td>60.0</td>\n",
              "      <td>164835.0</td>\n",
              "      <td>4.0</td>\n",
              "      <td>230001.0</td>\n",
              "      <td>23000104.0</td>\n",
              "      <td>800.0</td>\n",
              "      <td>6128.845893</td>\n",
              "      <td>1595.0</td>\n",
              "      <td>...</td>\n",
              "      <td>5327.441860</td>\n",
              "      <td>3330.0</td>\n",
              "      <td>0.0</td>\n",
              "      <td>0.0</td>\n",
              "      <td>1465836.0</td>\n",
              "      <td>1154379.0</td>\n",
              "      <td>-1154379.0</td>\n",
              "      <td>1.6</td>\n",
              "      <td>9.4</td>\n",
              "      <td>-3.3</td>\n",
              "    </tr>\n",
              "    <tr>\n",
              "      <th>1458</th>\n",
              "      <td>2016-12-29</td>\n",
              "      <td>10010.00</td>\n",
              "      <td>18.0</td>\n",
              "      <td>180180.0</td>\n",
              "      <td>1.0</td>\n",
              "      <td>230003.0</td>\n",
              "      <td>23000303.0</td>\n",
              "      <td>225.0</td>\n",
              "      <td>6644.034096</td>\n",
              "      <td>437.0</td>\n",
              "      <td>...</td>\n",
              "      <td>5319.545455</td>\n",
              "      <td>3330.0</td>\n",
              "      <td>0.0</td>\n",
              "      <td>0.0</td>\n",
              "      <td>1465836.0</td>\n",
              "      <td>1154379.0</td>\n",
              "      <td>-1154379.0</td>\n",
              "      <td>-3.2</td>\n",
              "      <td>-1.0</td>\n",
              "      <td>-7.6</td>\n",
              "    </tr>\n",
              "    <tr>\n",
              "      <th>1459</th>\n",
              "      <td>2016-12-30</td>\n",
              "      <td>11411.40</td>\n",
              "      <td>4.0</td>\n",
              "      <td>45645.6</td>\n",
              "      <td>1.0</td>\n",
              "      <td>350301.0</td>\n",
              "      <td>35030101.0</td>\n",
              "      <td>570.0</td>\n",
              "      <td>6572.480795</td>\n",
              "      <td>972.0</td>\n",
              "      <td>...</td>\n",
              "      <td>5319.545455</td>\n",
              "      <td>3330.0</td>\n",
              "      <td>0.0</td>\n",
              "      <td>0.0</td>\n",
              "      <td>1465836.0</td>\n",
              "      <td>1154379.0</td>\n",
              "      <td>-1154379.0</td>\n",
              "      <td>-7.6</td>\n",
              "      <td>-7.6</td>\n",
              "      <td>-15.6</td>\n",
              "    </tr>\n",
              "    <tr>\n",
              "      <th>1460</th>\n",
              "      <td>2016-12-31</td>\n",
              "      <td>9490.50</td>\n",
              "      <td>160.0</td>\n",
              "      <td>1518480.0</td>\n",
              "      <td>2.0</td>\n",
              "      <td>230003.0</td>\n",
              "      <td>23000302.0</td>\n",
              "      <td>323.0</td>\n",
              "      <td>7503.706522</td>\n",
              "      <td>552.0</td>\n",
              "      <td>...</td>\n",
              "      <td>5319.545455</td>\n",
              "      <td>3330.0</td>\n",
              "      <td>0.0</td>\n",
              "      <td>0.0</td>\n",
              "      <td>1465836.0</td>\n",
              "      <td>1154379.0</td>\n",
              "      <td>-1154379.0</td>\n",
              "      <td>-15.4</td>\n",
              "      <td>-6.1</td>\n",
              "      <td>-16.5</td>\n",
              "    </tr>\n",
              "  </tbody>\n",
              "</table>\n",
              "<p>1461 rows × 28 columns</p>\n",
              "</div>\n",
              "      <button class=\"colab-df-convert\" onclick=\"convertToInteractive('df-c7d5681e-d77a-45c8-ae6f-68d89c36ef29')\"\n",
              "              title=\"Convert this dataframe to an interactive table.\"\n",
              "              style=\"display:none;\">\n",
              "        \n",
              "  <svg xmlns=\"http://www.w3.org/2000/svg\" height=\"24px\"viewBox=\"0 0 24 24\"\n",
              "       width=\"24px\">\n",
              "    <path d=\"M0 0h24v24H0V0z\" fill=\"none\"/>\n",
              "    <path d=\"M18.56 5.44l.94 2.06.94-2.06 2.06-.94-2.06-.94-.94-2.06-.94 2.06-2.06.94zm-11 1L8.5 8.5l.94-2.06 2.06-.94-2.06-.94L8.5 2.5l-.94 2.06-2.06.94zm10 10l.94 2.06.94-2.06 2.06-.94-2.06-.94-.94-2.06-.94 2.06-2.06.94z\"/><path d=\"M17.41 7.96l-1.37-1.37c-.4-.4-.92-.59-1.43-.59-.52 0-1.04.2-1.43.59L10.3 9.45l-7.72 7.72c-.78.78-.78 2.05 0 2.83L4 21.41c.39.39.9.59 1.41.59.51 0 1.02-.2 1.41-.59l7.78-7.78 2.81-2.81c.8-.78.8-2.07 0-2.86zM5.41 20L4 18.59l7.72-7.72 1.47 1.35L5.41 20z\"/>\n",
              "  </svg>\n",
              "      </button>\n",
              "      \n",
              "  <style>\n",
              "    .colab-df-container {\n",
              "      display:flex;\n",
              "      flex-wrap:wrap;\n",
              "      gap: 12px;\n",
              "    }\n",
              "\n",
              "    .colab-df-convert {\n",
              "      background-color: #E8F0FE;\n",
              "      border: none;\n",
              "      border-radius: 50%;\n",
              "      cursor: pointer;\n",
              "      display: none;\n",
              "      fill: #1967D2;\n",
              "      height: 32px;\n",
              "      padding: 0 0 0 0;\n",
              "      width: 32px;\n",
              "    }\n",
              "\n",
              "    .colab-df-convert:hover {\n",
              "      background-color: #E2EBFA;\n",
              "      box-shadow: 0px 1px 2px rgba(60, 64, 67, 0.3), 0px 1px 3px 1px rgba(60, 64, 67, 0.15);\n",
              "      fill: #174EA6;\n",
              "    }\n",
              "\n",
              "    [theme=dark] .colab-df-convert {\n",
              "      background-color: #3B4455;\n",
              "      fill: #D2E3FC;\n",
              "    }\n",
              "\n",
              "    [theme=dark] .colab-df-convert:hover {\n",
              "      background-color: #434B5C;\n",
              "      box-shadow: 0px 1px 3px 1px rgba(0, 0, 0, 0.15);\n",
              "      filter: drop-shadow(0px 1px 2px rgba(0, 0, 0, 0.3));\n",
              "      fill: #FFFFFF;\n",
              "    }\n",
              "  </style>\n",
              "\n",
              "      <script>\n",
              "        const buttonEl =\n",
              "          document.querySelector('#df-c7d5681e-d77a-45c8-ae6f-68d89c36ef29 button.colab-df-convert');\n",
              "        buttonEl.style.display =\n",
              "          google.colab.kernel.accessAllowed ? 'block' : 'none';\n",
              "\n",
              "        async function convertToInteractive(key) {\n",
              "          const element = document.querySelector('#df-c7d5681e-d77a-45c8-ae6f-68d89c36ef29');\n",
              "          const dataTable =\n",
              "            await google.colab.kernel.invokeFunction('convertToInteractive',\n",
              "                                                     [key], {});\n",
              "          if (!dataTable) return;\n",
              "\n",
              "          const docLinkHtml = 'Like what you see? Visit the ' +\n",
              "            '<a target=\"_blank\" href=https://colab.research.google.com/notebooks/data_table.ipynb>data table notebook</a>'\n",
              "            + ' to learn more about interactive tables.';\n",
              "          element.innerHTML = '';\n",
              "          dataTable['output_type'] = 'display_data';\n",
              "          await google.colab.output.renderOutput(dataTable, element);\n",
              "          const docLink = document.createElement('div');\n",
              "          docLink.innerHTML = docLinkHtml;\n",
              "          element.appendChild(docLink);\n",
              "        }\n",
              "      </script>\n",
              "    </div>\n",
              "  </div>\n",
              "  "
            ]
          },
          "metadata": {},
          "execution_count": 26
        }
      ]
    },
    {
      "cell_type": "markdown",
      "source": [
        "# 열 이름 확인\n",
        "- train과 val으로 나누기 위함"
      ],
      "metadata": {
        "id": "DzS9D0OIdghl"
      },
      "id": "DzS9D0OIdghl"
    },
    {
      "cell_type": "code",
      "source": [
        "df3.columns"
      ],
      "metadata": {
        "colab": {
          "base_uri": "https://localhost:8080/"
        },
        "id": "oRbm-yXo2i5h",
        "outputId": "ae8dc323-2f2c-4be3-9c16-fc688bd957d4"
      },
      "id": "oRbm-yXo2i5h",
      "execution_count": 27,
      "outputs": [
        {
          "output_type": "execute_result",
          "data": {
            "text/plain": [
              "Index(['datadate', '단가(원)', '거래량', '거래대금(원)', '경매건수', '도매시장코드', '도매법인코드',\n",
              "       '산지코드 ', '해당일자_전체평균가격(원)', '해당일자_전체거래물량(kg)', '하위가격 평균가(원)',\n",
              "       '상위가격 평균가(원)', '하위가격 거래물량(kg)', '상위가격 거래물량(kg)', '일자별_도매가격_최대(원)',\n",
              "       '일자별_도매가격_평균(원)', '일자별_도매가격_최소(원)', '일자별_소매가격_최대(원)', '일자별_소매가격_평균(원)',\n",
              "       '일자별_소매가격_최소(원)', '수출중량(kg)', '수출금액(달러)', '수입중량(kg)', '수입금액(달러)',\n",
              "       '무역수지(달러)', '주산지_0_초기온도(℃)', '주산지_0_최대온도(℃)', '주산지_0_최저온도(℃)'],\n",
              "      dtype='object')"
            ]
          },
          "metadata": {},
          "execution_count": 27
        }
      ]
    },
    {
      "cell_type": "markdown",
      "source": [
        "# 연도 열 추가"
      ],
      "metadata": {
        "id": "MvyBrJOVC5U7"
      },
      "id": "MvyBrJOVC5U7"
    },
    {
      "cell_type": "code",
      "source": [
        "df3.head()"
      ],
      "metadata": {
        "colab": {
          "base_uri": "https://localhost:8080/",
          "height": 418
        },
        "id": "mHtNVTbLCrLL",
        "outputId": "5b6e0d82-a027-4283-8901-1811de91d1b6"
      },
      "id": "mHtNVTbLCrLL",
      "execution_count": 28,
      "outputs": [
        {
          "output_type": "execute_result",
          "data": {
            "text/plain": [
              "    datadate    단가(원)    거래량    거래대금(원)  경매건수    도매시장코드      도매법인코드  산지코드   \\\n",
              "0 2013-01-01  6143.85    2.0    12312.3   1.0  371501.0  37150102.0  740.0   \n",
              "1 2013-01-02  6143.85    2.0    12312.3   1.0  371501.0  37150102.0  740.0   \n",
              "2 2013-01-03  1898.10   48.0    91108.8   1.0  230001.0  23000102.0  800.0   \n",
              "3 2013-01-04  8488.48  120.0  1019018.0   3.0  230001.0  23000101.0  323.0   \n",
              "4 2013-01-05  3556.44  540.0  1921077.0   4.0  371501.0  37150102.0  742.0   \n",
              "\n",
              "   해당일자_전체평균가격(원)  해당일자_전체거래물량(kg)  ...  일자별_소매가격_평균(원)  일자별_소매가격_최소(원)  \\\n",
              "0    20712.240909             22.0  ...     4298.522727          3210.0   \n",
              "1    20712.240909             22.0  ...     4298.522727          3210.0   \n",
              "2     3401.863678            541.0  ...     4298.522727          3210.0   \n",
              "3     6553.903226            279.0  ...     4298.522727          3210.0   \n",
              "4     4299.079157           1233.0  ...     4298.522727          3210.0   \n",
              "\n",
              "   수출중량(kg)  수출금액(달러)   수입중량(kg)   수입금액(달러)   무역수지(달러)  주산지_0_초기온도(℃)  \\\n",
              "0       0.0       0.0  1864728.0  1195211.0 -1195211.0           -3.9   \n",
              "1       0.0       0.0  1864728.0  1195211.0 -1195211.0            2.8   \n",
              "2       0.0       0.0  1864728.0  1195211.0 -1195211.0           -1.2   \n",
              "3       0.0       0.0  1864728.0  1195211.0 -1195211.0           -1.7   \n",
              "4       0.0       0.0  1864728.0  1195211.0 -1195211.0           -4.6   \n",
              "\n",
              "   주산지_0_최대온도(℃)  주산지_0_최저온도(℃)  \n",
              "0            4.4           -7.7  \n",
              "1            6.7           -1.1  \n",
              "2            5.0           -6.3  \n",
              "3            6.8           -4.5  \n",
              "4            6.2           -6.1  \n",
              "\n",
              "[5 rows x 28 columns]"
            ],
            "text/html": [
              "\n",
              "  <div id=\"df-c85ae6b3-f80a-43b4-915f-864380070adb\">\n",
              "    <div class=\"colab-df-container\">\n",
              "      <div>\n",
              "<style scoped>\n",
              "    .dataframe tbody tr th:only-of-type {\n",
              "        vertical-align: middle;\n",
              "    }\n",
              "\n",
              "    .dataframe tbody tr th {\n",
              "        vertical-align: top;\n",
              "    }\n",
              "\n",
              "    .dataframe thead th {\n",
              "        text-align: right;\n",
              "    }\n",
              "</style>\n",
              "<table border=\"1\" class=\"dataframe\">\n",
              "  <thead>\n",
              "    <tr style=\"text-align: right;\">\n",
              "      <th></th>\n",
              "      <th>datadate</th>\n",
              "      <th>단가(원)</th>\n",
              "      <th>거래량</th>\n",
              "      <th>거래대금(원)</th>\n",
              "      <th>경매건수</th>\n",
              "      <th>도매시장코드</th>\n",
              "      <th>도매법인코드</th>\n",
              "      <th>산지코드</th>\n",
              "      <th>해당일자_전체평균가격(원)</th>\n",
              "      <th>해당일자_전체거래물량(kg)</th>\n",
              "      <th>...</th>\n",
              "      <th>일자별_소매가격_평균(원)</th>\n",
              "      <th>일자별_소매가격_최소(원)</th>\n",
              "      <th>수출중량(kg)</th>\n",
              "      <th>수출금액(달러)</th>\n",
              "      <th>수입중량(kg)</th>\n",
              "      <th>수입금액(달러)</th>\n",
              "      <th>무역수지(달러)</th>\n",
              "      <th>주산지_0_초기온도(℃)</th>\n",
              "      <th>주산지_0_최대온도(℃)</th>\n",
              "      <th>주산지_0_최저온도(℃)</th>\n",
              "    </tr>\n",
              "  </thead>\n",
              "  <tbody>\n",
              "    <tr>\n",
              "      <th>0</th>\n",
              "      <td>2013-01-01</td>\n",
              "      <td>6143.85</td>\n",
              "      <td>2.0</td>\n",
              "      <td>12312.3</td>\n",
              "      <td>1.0</td>\n",
              "      <td>371501.0</td>\n",
              "      <td>37150102.0</td>\n",
              "      <td>740.0</td>\n",
              "      <td>20712.240909</td>\n",
              "      <td>22.0</td>\n",
              "      <td>...</td>\n",
              "      <td>4298.522727</td>\n",
              "      <td>3210.0</td>\n",
              "      <td>0.0</td>\n",
              "      <td>0.0</td>\n",
              "      <td>1864728.0</td>\n",
              "      <td>1195211.0</td>\n",
              "      <td>-1195211.0</td>\n",
              "      <td>-3.9</td>\n",
              "      <td>4.4</td>\n",
              "      <td>-7.7</td>\n",
              "    </tr>\n",
              "    <tr>\n",
              "      <th>1</th>\n",
              "      <td>2013-01-02</td>\n",
              "      <td>6143.85</td>\n",
              "      <td>2.0</td>\n",
              "      <td>12312.3</td>\n",
              "      <td>1.0</td>\n",
              "      <td>371501.0</td>\n",
              "      <td>37150102.0</td>\n",
              "      <td>740.0</td>\n",
              "      <td>20712.240909</td>\n",
              "      <td>22.0</td>\n",
              "      <td>...</td>\n",
              "      <td>4298.522727</td>\n",
              "      <td>3210.0</td>\n",
              "      <td>0.0</td>\n",
              "      <td>0.0</td>\n",
              "      <td>1864728.0</td>\n",
              "      <td>1195211.0</td>\n",
              "      <td>-1195211.0</td>\n",
              "      <td>2.8</td>\n",
              "      <td>6.7</td>\n",
              "      <td>-1.1</td>\n",
              "    </tr>\n",
              "    <tr>\n",
              "      <th>2</th>\n",
              "      <td>2013-01-03</td>\n",
              "      <td>1898.10</td>\n",
              "      <td>48.0</td>\n",
              "      <td>91108.8</td>\n",
              "      <td>1.0</td>\n",
              "      <td>230001.0</td>\n",
              "      <td>23000102.0</td>\n",
              "      <td>800.0</td>\n",
              "      <td>3401.863678</td>\n",
              "      <td>541.0</td>\n",
              "      <td>...</td>\n",
              "      <td>4298.522727</td>\n",
              "      <td>3210.0</td>\n",
              "      <td>0.0</td>\n",
              "      <td>0.0</td>\n",
              "      <td>1864728.0</td>\n",
              "      <td>1195211.0</td>\n",
              "      <td>-1195211.0</td>\n",
              "      <td>-1.2</td>\n",
              "      <td>5.0</td>\n",
              "      <td>-6.3</td>\n",
              "    </tr>\n",
              "    <tr>\n",
              "      <th>3</th>\n",
              "      <td>2013-01-04</td>\n",
              "      <td>8488.48</td>\n",
              "      <td>120.0</td>\n",
              "      <td>1019018.0</td>\n",
              "      <td>3.0</td>\n",
              "      <td>230001.0</td>\n",
              "      <td>23000101.0</td>\n",
              "      <td>323.0</td>\n",
              "      <td>6553.903226</td>\n",
              "      <td>279.0</td>\n",
              "      <td>...</td>\n",
              "      <td>4298.522727</td>\n",
              "      <td>3210.0</td>\n",
              "      <td>0.0</td>\n",
              "      <td>0.0</td>\n",
              "      <td>1864728.0</td>\n",
              "      <td>1195211.0</td>\n",
              "      <td>-1195211.0</td>\n",
              "      <td>-1.7</td>\n",
              "      <td>6.8</td>\n",
              "      <td>-4.5</td>\n",
              "    </tr>\n",
              "    <tr>\n",
              "      <th>4</th>\n",
              "      <td>2013-01-05</td>\n",
              "      <td>3556.44</td>\n",
              "      <td>540.0</td>\n",
              "      <td>1921077.0</td>\n",
              "      <td>4.0</td>\n",
              "      <td>371501.0</td>\n",
              "      <td>37150102.0</td>\n",
              "      <td>742.0</td>\n",
              "      <td>4299.079157</td>\n",
              "      <td>1233.0</td>\n",
              "      <td>...</td>\n",
              "      <td>4298.522727</td>\n",
              "      <td>3210.0</td>\n",
              "      <td>0.0</td>\n",
              "      <td>0.0</td>\n",
              "      <td>1864728.0</td>\n",
              "      <td>1195211.0</td>\n",
              "      <td>-1195211.0</td>\n",
              "      <td>-4.6</td>\n",
              "      <td>6.2</td>\n",
              "      <td>-6.1</td>\n",
              "    </tr>\n",
              "  </tbody>\n",
              "</table>\n",
              "<p>5 rows × 28 columns</p>\n",
              "</div>\n",
              "      <button class=\"colab-df-convert\" onclick=\"convertToInteractive('df-c85ae6b3-f80a-43b4-915f-864380070adb')\"\n",
              "              title=\"Convert this dataframe to an interactive table.\"\n",
              "              style=\"display:none;\">\n",
              "        \n",
              "  <svg xmlns=\"http://www.w3.org/2000/svg\" height=\"24px\"viewBox=\"0 0 24 24\"\n",
              "       width=\"24px\">\n",
              "    <path d=\"M0 0h24v24H0V0z\" fill=\"none\"/>\n",
              "    <path d=\"M18.56 5.44l.94 2.06.94-2.06 2.06-.94-2.06-.94-.94-2.06-.94 2.06-2.06.94zm-11 1L8.5 8.5l.94-2.06 2.06-.94-2.06-.94L8.5 2.5l-.94 2.06-2.06.94zm10 10l.94 2.06.94-2.06 2.06-.94-2.06-.94-.94-2.06-.94 2.06-2.06.94z\"/><path d=\"M17.41 7.96l-1.37-1.37c-.4-.4-.92-.59-1.43-.59-.52 0-1.04.2-1.43.59L10.3 9.45l-7.72 7.72c-.78.78-.78 2.05 0 2.83L4 21.41c.39.39.9.59 1.41.59.51 0 1.02-.2 1.41-.59l7.78-7.78 2.81-2.81c.8-.78.8-2.07 0-2.86zM5.41 20L4 18.59l7.72-7.72 1.47 1.35L5.41 20z\"/>\n",
              "  </svg>\n",
              "      </button>\n",
              "      \n",
              "  <style>\n",
              "    .colab-df-container {\n",
              "      display:flex;\n",
              "      flex-wrap:wrap;\n",
              "      gap: 12px;\n",
              "    }\n",
              "\n",
              "    .colab-df-convert {\n",
              "      background-color: #E8F0FE;\n",
              "      border: none;\n",
              "      border-radius: 50%;\n",
              "      cursor: pointer;\n",
              "      display: none;\n",
              "      fill: #1967D2;\n",
              "      height: 32px;\n",
              "      padding: 0 0 0 0;\n",
              "      width: 32px;\n",
              "    }\n",
              "\n",
              "    .colab-df-convert:hover {\n",
              "      background-color: #E2EBFA;\n",
              "      box-shadow: 0px 1px 2px rgba(60, 64, 67, 0.3), 0px 1px 3px 1px rgba(60, 64, 67, 0.15);\n",
              "      fill: #174EA6;\n",
              "    }\n",
              "\n",
              "    [theme=dark] .colab-df-convert {\n",
              "      background-color: #3B4455;\n",
              "      fill: #D2E3FC;\n",
              "    }\n",
              "\n",
              "    [theme=dark] .colab-df-convert:hover {\n",
              "      background-color: #434B5C;\n",
              "      box-shadow: 0px 1px 3px 1px rgba(0, 0, 0, 0.15);\n",
              "      filter: drop-shadow(0px 1px 2px rgba(0, 0, 0, 0.3));\n",
              "      fill: #FFFFFF;\n",
              "    }\n",
              "  </style>\n",
              "\n",
              "      <script>\n",
              "        const buttonEl =\n",
              "          document.querySelector('#df-c85ae6b3-f80a-43b4-915f-864380070adb button.colab-df-convert');\n",
              "        buttonEl.style.display =\n",
              "          google.colab.kernel.accessAllowed ? 'block' : 'none';\n",
              "\n",
              "        async function convertToInteractive(key) {\n",
              "          const element = document.querySelector('#df-c85ae6b3-f80a-43b4-915f-864380070adb');\n",
              "          const dataTable =\n",
              "            await google.colab.kernel.invokeFunction('convertToInteractive',\n",
              "                                                     [key], {});\n",
              "          if (!dataTable) return;\n",
              "\n",
              "          const docLinkHtml = 'Like what you see? Visit the ' +\n",
              "            '<a target=\"_blank\" href=https://colab.research.google.com/notebooks/data_table.ipynb>data table notebook</a>'\n",
              "            + ' to learn more about interactive tables.';\n",
              "          element.innerHTML = '';\n",
              "          dataTable['output_type'] = 'display_data';\n",
              "          await google.colab.output.renderOutput(dataTable, element);\n",
              "          const docLink = document.createElement('div');\n",
              "          docLink.innerHTML = docLinkHtml;\n",
              "          element.appendChild(docLink);\n",
              "        }\n",
              "      </script>\n",
              "    </div>\n",
              "  </div>\n",
              "  "
            ]
          },
          "metadata": {},
          "execution_count": 28
        }
      ]
    },
    {
      "cell_type": "markdown",
      "source": [
        "# 데이터 시각화"
      ],
      "metadata": {
        "id": "DOgWLI3sDioQ"
      },
      "id": "DOgWLI3sDioQ"
    },
    {
      "cell_type": "code",
      "source": [
        "import matplotlib.pylab as plt\n",
        "import seaborn as sns"
      ],
      "metadata": {
        "id": "4GjL02g4D32c"
      },
      "id": "4GjL02g4D32c",
      "execution_count": 29,
      "outputs": []
    },
    {
      "cell_type": "code",
      "source": [
        "plt.figure(figsize = (20, 9))\n",
        "sns.lineplot(x = date, y = df3['해당일자_전체평균가격(원)'])\n",
        "plt.xlabel('time')\n",
        "plt.ylabel('price')\n",
        "plt.show()"
      ],
      "metadata": {
        "colab": {
          "base_uri": "https://localhost:8080/",
          "height": 551
        },
        "id": "VYqbq2vKDmLP",
        "outputId": "af360fbc-6a51-4eed-ba7f-d875aefc0571"
      },
      "id": "VYqbq2vKDmLP",
      "execution_count": 31,
      "outputs": [
        {
          "output_type": "display_data",
          "data": {
            "text/plain": [
              "<Figure size 1440x648 with 1 Axes>"
            ],
            "image/png": "[encoded data removed]"
          },
          "metadata": {
            "needs_background": "light"
          }
        }
      ]
    },
    {
      "cell_type": "markdown",
      "source": [
        "# Normalization\n",
        "- 학습이 잘 되도록 데이터를 한번 normalization(정규화) 해준다."
      ],
      "metadata": {
        "id": "F6YeT-vwX0uG"
      },
      "id": "F6YeT-vwX0uG"
    },
    {
      "cell_type": "code",
      "source": [
        "from sklearn.preprocessing import MinMaxScaler\n",
        "\n",
        "scaler = MinMaxScaler()\n",
        "scale_cols = ['단가(원)', '거래량', '거래대금(원)', '경매건수', '도매시장코드', '도매법인코드', '산지코드 ', '해당일자_전체평균가격(원)', '해당일자_전체거래물량(kg)',\n",
        "              '하위가격 평균가(원)', '상위가격 평균가(원)', '하위가격 거래물량(kg)', '상위가격 거래물량(kg)', '일자별_도매가격_최대(원)',\n",
        "                '일자별_도매가격_평균(원)', '일자별_도매가격_최소(원)', '일자별_소매가격_최대(원)', '일자별_소매가격_평균(원)',\n",
        "                '일자별_소매가격_최소(원)', '수출중량(kg)', '수출금액(달러)', '수입중량(kg)', '수입금액(달러)',\n",
        "                '무역수지(달러)', '주산지_0_초기온도(℃)', '주산지_0_최대온도(℃)', '주산지_0_최저온도(℃)']\n",
        "df_scaled = scaler.fit_transform(df3[scale_cols])\n",
        "\n",
        "df_scaled = pd.DataFrame(df_scaled)\n",
        "df_scaled.columns = scale_cols\n",
        "\n",
        "df_scaled"
      ],
      "metadata": {
        "id": "yE8DdDDPpRQ9",
        "colab": {
          "base_uri": "https://localhost:8080/",
          "height": 554
        },
        "outputId": "a72138a9-bd14-48e0-e610-9ff725a3c1c2"
      },
      "id": "yE8DdDDPpRQ9",
      "execution_count": 32,
      "outputs": [
        {
          "output_type": "execute_result",
          "data": {
            "text/plain": [
              "         단가(원)       거래량   거래대금(원)      경매건수    도매시장코드    도매법인코드     산지코드   \\\n",
              "0     0.126323  0.000198  0.001130  0.000000  0.967086  0.967086  0.717647   \n",
              "1     0.126323  0.000198  0.001130  0.000000  0.967086  0.967086  0.717647   \n",
              "2     0.035635  0.009309  0.010118  0.000000  0.443787  0.443787  0.788235   \n",
              "3     0.176403  0.023569  0.115962  0.064516  0.443787  0.443787  0.227059   \n",
              "4     0.071057  0.106754  0.218856  0.096774  0.967086  0.967086  0.720000   \n",
              "...        ...       ...       ...       ...       ...       ...       ...   \n",
              "1456  0.053890  0.011685  0.018528  0.096774  0.443787  0.443787  0.788235   \n",
              "1457  0.053890  0.011685  0.018528  0.096774  0.443787  0.443787  0.788235   \n",
              "1458  0.208902  0.003367  0.020278  0.000000  0.443794  0.443794  0.111765   \n",
              "1459  0.238836  0.000594  0.004933  0.000000  0.888683  0.888683  0.517647   \n",
              "1460  0.197806  0.031491  0.172934  0.032258  0.443794  0.443794  0.227059   \n",
              "\n",
              "      해당일자_전체평균가격(원)  해당일자_전체거래물량(kg)  하위가격 평균가(원)  ...  일자별_소매가격_평균(원)  \\\n",
              "0           0.666642         0.000357     0.665472  ...        0.164136   \n",
              "1           0.666642         0.000357     0.665472  ...        0.164136   \n",
              "2           0.092854         0.013582     0.267436  ...        0.164136   \n",
              "3           0.197334         0.006906     0.307677  ...        0.164136   \n",
              "4           0.122594         0.031217     0.401915  ...        0.164136   \n",
              "...              ...              ...          ...  ...             ...   \n",
              "1456        0.183245         0.040441     0.361351  ...        0.964442   \n",
              "1457        0.183245         0.040441     0.361351  ...        0.964442   \n",
              "1458        0.200322         0.010932     0.562846  ...        0.958300   \n",
              "1459        0.197950         0.024566     0.524421  ...        0.958300   \n",
              "1460        0.228818         0.013863     0.619632  ...        0.958300   \n",
              "\n",
              "      일자별_소매가격_최소(원)  수출중량(kg)  수출금액(달러)  수입중량(kg)  수입금액(달러)  무역수지(달러)  \\\n",
              "0           0.773585       0.0       0.0   1.00000  0.765419  0.234479   \n",
              "1           0.773585       0.0       0.0   1.00000  0.765419  0.234479   \n",
              "2           0.773585       0.0       0.0   1.00000  0.765419  0.234479   \n",
              "3           0.773585       0.0       0.0   1.00000  0.765419  0.234479   \n",
              "4           0.773585       0.0       0.0   1.00000  0.765419  0.234479   \n",
              "...              ...       ...       ...       ...       ...       ...   \n",
              "1456        1.000000       0.0       0.0   0.72019  0.729881  0.270002   \n",
              "1457        1.000000       0.0       0.0   0.72019  0.729881  0.270002   \n",
              "1458        1.000000       0.0       0.0   0.72019  0.729881  0.270002   \n",
              "1459        1.000000       0.0       0.0   0.72019  0.729881  0.270002   \n",
              "1460        1.000000       0.0       0.0   0.72019  0.729881  0.270002   \n",
              "\n",
              "      주산지_0_초기온도(℃)  주산지_0_최대온도(℃)  주산지_0_최저온도(℃)  \n",
              "0          0.391473       0.345703       0.364865  \n",
              "1          0.521318       0.390625       0.492278  \n",
              "2          0.443798       0.357422       0.391892  \n",
              "3          0.434109       0.392578       0.426641  \n",
              "4          0.377907       0.380859       0.395753  \n",
              "...             ...            ...            ...  \n",
              "1456       0.319767       0.396484       0.357143  \n",
              "1457       0.498062       0.443359       0.449807  \n",
              "1458       0.405039       0.240234       0.366795  \n",
              "1459       0.319767       0.111328       0.212355  \n",
              "1460       0.168605       0.140625       0.194981  \n",
              "\n",
              "[1461 rows x 27 columns]"
            ],
            "text/html": [
              "\n",
              "  <div id=\"df-d6fd0b39-13cd-4862-af35-404cfbf15818\">\n",
              "    <div class=\"colab-df-container\">\n",
              "      <div>\n",
              "<style scoped>\n",
              "    .dataframe tbody tr th:only-of-type {\n",
              "        vertical-align: middle;\n",
              "    }\n",
              "\n",
              "    .dataframe tbody tr th {\n",
              "        vertical-align: top;\n",
              "    }\n",
              "\n",
              "    .dataframe thead th {\n",
              "        text-align: right;\n",
              "    }\n",
              "</style>\n",
              "<table border=\"1\" class=\"dataframe\">\n",
              "  <thead>\n",
              "    <tr style=\"text-align: right;\">\n",
              "      <th></th>\n",
              "      <th>단가(원)</th>\n",
              "      <th>거래량</th>\n",
              "      <th>거래대금(원)</th>\n",
              "      <th>경매건수</th>\n",
              "      <th>도매시장코드</th>\n",
              "      <th>도매법인코드</th>\n",
              "      <th>산지코드</th>\n",
              "      <th>해당일자_전체평균가격(원)</th>\n",
              "      <th>해당일자_전체거래물량(kg)</th>\n",
              "      <th>하위가격 평균가(원)</th>\n",
              "      <th>...</th>\n",
              "      <th>일자별_소매가격_평균(원)</th>\n",
              "      <th>일자별_소매가격_최소(원)</th>\n",
              "      <th>수출중량(kg)</th>\n",
              "      <th>수출금액(달러)</th>\n",
              "      <th>수입중량(kg)</th>\n",
              "      <th>수입금액(달러)</th>\n",
              "      <th>무역수지(달러)</th>\n",
              "      <th>주산지_0_초기온도(℃)</th>\n",
              "      <th>주산지_0_최대온도(℃)</th>\n",
              "      <th>주산지_0_최저온도(℃)</th>\n",
              "    </tr>\n",
              "  </thead>\n",
              "  <tbody>\n",
              "    <tr>\n",
              "      <th>0</th>\n",
              "      <td>0.126323</td>\n",
              "      <td>0.000198</td>\n",
              "      <td>0.001130</td>\n",
              "      <td>0.000000</td>\n",
              "      <td>0.967086</td>\n",
              "      <td>0.967086</td>\n",
              "      <td>0.717647</td>\n",
              "      <td>0.666642</td>\n",
              "      <td>0.000357</td>\n",
              "      <td>0.665472</td>\n",
              "      <td>...</td>\n",
              "      <td>0.164136</td>\n",
              "      <td>0.773585</td>\n",
              "      <td>0.0</td>\n",
              "      <td>0.0</td>\n",
              "      <td>1.00000</td>\n",
              "      <td>0.765419</td>\n",
              "      <td>0.234479</td>\n",
              "      <td>0.391473</td>\n",
              "      <td>0.345703</td>\n",
              "      <td>0.364865</td>\n",
              "    </tr>\n",
              "    <tr>\n",
              "      <th>1</th>\n",
              "      <td>0.126323</td>\n",
              "      <td>0.000198</td>\n",
              "      <td>0.001130</td>\n",
              "      <td>0.000000</td>\n",
              "      <td>0.967086</td>\n",
              "      <td>0.967086</td>\n",
              "      <td>0.717647</td>\n",
              "      <td>0.666642</td>\n",
              "      <td>0.000357</td>\n",
              "      <td>0.665472</td>\n",
              "      <td>...</td>\n",
              "      <td>0.164136</td>\n",
              "      <td>0.773585</td>\n",
              "      <td>0.0</td>\n",
              "      <td>0.0</td>\n",
              "      <td>1.00000</td>\n",
              "      <td>0.765419</td>\n",
              "      <td>0.234479</td>\n",
              "      <td>0.521318</td>\n",
              "      <td>0.390625</td>\n",
              "      <td>0.492278</td>\n",
              "    </tr>\n",
              "    <tr>\n",
              "      <th>2</th>\n",
              "      <td>0.035635</td>\n",
              "      <td>0.009309</td>\n",
              "      <td>0.010118</td>\n",
              "      <td>0.000000</td>\n",
              "      <td>0.443787</td>\n",
              "      <td>0.443787</td>\n",
              "      <td>0.788235</td>\n",
              "      <td>0.092854</td>\n",
              "      <td>0.013582</td>\n",
              "      <td>0.267436</td>\n",
              "      <td>...</td>\n",
              "      <td>0.164136</td>\n",
              "      <td>0.773585</td>\n",
              "      <td>0.0</td>\n",
              "      <td>0.0</td>\n",
              "      <td>1.00000</td>\n",
              "      <td>0.765419</td>\n",
              "      <td>0.234479</td>\n",
              "      <td>0.443798</td>\n",
              "      <td>0.357422</td>\n",
              "      <td>0.391892</td>\n",
              "    </tr>\n",
              "    <tr>\n",
              "      <th>3</th>\n",
              "      <td>0.176403</td>\n",
              "      <td>0.023569</td>\n",
              "      <td>0.115962</td>\n",
              "      <td>0.064516</td>\n",
              "      <td>0.443787</td>\n",
              "      <td>0.443787</td>\n",
              "      <td>0.227059</td>\n",
              "      <td>0.197334</td>\n",
              "      <td>0.006906</td>\n",
              "      <td>0.307677</td>\n",
              "      <td>...</td>\n",
              "      <td>0.164136</td>\n",
              "      <td>0.773585</td>\n",
              "      <td>0.0</td>\n",
              "      <td>0.0</td>\n",
              "      <td>1.00000</td>\n",
              "      <td>0.765419</td>\n",
              "      <td>0.234479</td>\n",
              "      <td>0.434109</td>\n",
              "      <td>0.392578</td>\n",
              "      <td>0.426641</td>\n",
              "    </tr>\n",
              "    <tr>\n",
              "      <th>4</th>\n",
              "      <td>0.071057</td>\n",
              "      <td>0.106754</td>\n",
              "      <td>0.218856</td>\n",
              "      <td>0.096774</td>\n",
              "      <td>0.967086</td>\n",
              "      <td>0.967086</td>\n",
              "      <td>0.720000</td>\n",
              "      <td>0.122594</td>\n",
              "      <td>0.031217</td>\n",
              "      <td>0.401915</td>\n",
              "      <td>...</td>\n",
              "      <td>0.164136</td>\n",
              "      <td>0.773585</td>\n",
              "      <td>0.0</td>\n",
              "      <td>0.0</td>\n",
              "      <td>1.00000</td>\n",
              "      <td>0.765419</td>\n",
              "      <td>0.234479</td>\n",
              "      <td>0.377907</td>\n",
              "      <td>0.380859</td>\n",
              "      <td>0.395753</td>\n",
              "    </tr>\n",
              "    <tr>\n",
              "      <th>...</th>\n",
              "      <td>...</td>\n",
              "      <td>...</td>\n",
              "      <td>...</td>\n",
              "      <td>...</td>\n",
              "      <td>...</td>\n",
              "      <td>...</td>\n",
              "      <td>...</td>\n",
              "      <td>...</td>\n",
              "      <td>...</td>\n",
              "      <td>...</td>\n",
              "      <td>...</td>\n",
              "      <td>...</td>\n",
              "      <td>...</td>\n",
              "      <td>...</td>\n",
              "      <td>...</td>\n",
              "      <td>...</td>\n",
              "      <td>...</td>\n",
              "      <td>...</td>\n",
              "      <td>...</td>\n",
              "      <td>...</td>\n",
              "      <td>...</td>\n",
              "    </tr>\n",
              "    <tr>\n",
              "      <th>1456</th>\n",
              "      <td>0.053890</td>\n",
              "      <td>0.011685</td>\n",
              "      <td>0.018528</td>\n",
              "      <td>0.096774</td>\n",
              "      <td>0.443787</td>\n",
              "      <td>0.443787</td>\n",
              "      <td>0.788235</td>\n",
              "      <td>0.183245</td>\n",
              "      <td>0.040441</td>\n",
              "      <td>0.361351</td>\n",
              "      <td>...</td>\n",
              "      <td>0.964442</td>\n",
              "      <td>1.000000</td>\n",
              "      <td>0.0</td>\n",
              "      <td>0.0</td>\n",
              "      <td>0.72019</td>\n",
              "      <td>0.729881</td>\n",
              "      <td>0.270002</td>\n",
              "      <td>0.319767</td>\n",
              "      <td>0.396484</td>\n",
              "      <td>0.357143</td>\n",
              "    </tr>\n",
              "    <tr>\n",
              "      <th>1457</th>\n",
              "      <td>0.053890</td>\n",
              "      <td>0.011685</td>\n",
              "      <td>0.018528</td>\n",
              "      <td>0.096774</td>\n",
              "      <td>0.443787</td>\n",
              "      <td>0.443787</td>\n",
              "      <td>0.788235</td>\n",
              "      <td>0.183245</td>\n",
              "      <td>0.040441</td>\n",
              "      <td>0.361351</td>\n",
              "      <td>...</td>\n",
              "      <td>0.964442</td>\n",
              "      <td>1.000000</td>\n",
              "      <td>0.0</td>\n",
              "      <td>0.0</td>\n",
              "      <td>0.72019</td>\n",
              "      <td>0.729881</td>\n",
              "      <td>0.270002</td>\n",
              "      <td>0.498062</td>\n",
              "      <td>0.443359</td>\n",
              "      <td>0.449807</td>\n",
              "    </tr>\n",
              "    <tr>\n",
              "      <th>1458</th>\n",
              "      <td>0.208902</td>\n",
              "      <td>0.003367</td>\n",
              "      <td>0.020278</td>\n",
              "      <td>0.000000</td>\n",
              "      <td>0.443794</td>\n",
              "      <td>0.443794</td>\n",
              "      <td>0.111765</td>\n",
              "      <td>0.200322</td>\n",
              "      <td>0.010932</td>\n",
              "      <td>0.562846</td>\n",
              "      <td>...</td>\n",
              "      <td>0.958300</td>\n",
              "      <td>1.000000</td>\n",
              "      <td>0.0</td>\n",
              "      <td>0.0</td>\n",
              "      <td>0.72019</td>\n",
              "      <td>0.729881</td>\n",
              "      <td>0.270002</td>\n",
              "      <td>0.405039</td>\n",
              "      <td>0.240234</td>\n",
              "      <td>0.366795</td>\n",
              "    </tr>\n",
              "    <tr>\n",
              "      <th>1459</th>\n",
              "      <td>0.238836</td>\n",
              "      <td>0.000594</td>\n",
              "      <td>0.004933</td>\n",
              "      <td>0.000000</td>\n",
              "      <td>0.888683</td>\n",
              "      <td>0.888683</td>\n",
              "      <td>0.517647</td>\n",
              "      <td>0.197950</td>\n",
              "      <td>0.024566</td>\n",
              "      <td>0.524421</td>\n",
              "      <td>...</td>\n",
              "      <td>0.958300</td>\n",
              "      <td>1.000000</td>\n",
              "      <td>0.0</td>\n",
              "      <td>0.0</td>\n",
              "      <td>0.72019</td>\n",
              "      <td>0.729881</td>\n",
              "      <td>0.270002</td>\n",
              "      <td>0.319767</td>\n",
              "      <td>0.111328</td>\n",
              "      <td>0.212355</td>\n",
              "    </tr>\n",
              "    <tr>\n",
              "      <th>1460</th>\n",
              "      <td>0.197806</td>\n",
              "      <td>0.031491</td>\n",
              "      <td>0.172934</td>\n",
              "      <td>0.032258</td>\n",
              "      <td>0.443794</td>\n",
              "      <td>0.443794</td>\n",
              "      <td>0.227059</td>\n",
              "      <td>0.228818</td>\n",
              "      <td>0.013863</td>\n",
              "      <td>0.619632</td>\n",
              "      <td>...</td>\n",
              "      <td>0.958300</td>\n",
              "      <td>1.000000</td>\n",
              "      <td>0.0</td>\n",
              "      <td>0.0</td>\n",
              "      <td>0.72019</td>\n",
              "      <td>0.729881</td>\n",
              "      <td>0.270002</td>\n",
              "      <td>0.168605</td>\n",
              "      <td>0.140625</td>\n",
              "      <td>0.194981</td>\n",
              "    </tr>\n",
              "  </tbody>\n",
              "</table>\n",
              "<p>1461 rows × 27 columns</p>\n",
              "</div>\n",
              "      <button class=\"colab-df-convert\" onclick=\"convertToInteractive('df-d6fd0b39-13cd-4862-af35-404cfbf15818')\"\n",
              "              title=\"Convert this dataframe to an interactive table.\"\n",
              "              style=\"display:none;\">\n",
              "        \n",
              "  <svg xmlns=\"http://www.w3.org/2000/svg\" height=\"24px\"viewBox=\"0 0 24 24\"\n",
              "       width=\"24px\">\n",
              "    <path d=\"M0 0h24v24H0V0z\" fill=\"none\"/>\n",
              "    <path d=\"M18.56 5.44l.94 2.06.94-2.06 2.06-.94-2.06-.94-.94-2.06-.94 2.06-2.06.94zm-11 1L8.5 8.5l.94-2.06 2.06-.94-2.06-.94L8.5 2.5l-.94 2.06-2.06.94zm10 10l.94 2.06.94-2.06 2.06-.94-2.06-.94-.94-2.06-.94 2.06-2.06.94z\"/><path d=\"M17.41 7.96l-1.37-1.37c-.4-.4-.92-.59-1.43-.59-.52 0-1.04.2-1.43.59L10.3 9.45l-7.72 7.72c-.78.78-.78 2.05 0 2.83L4 21.41c.39.39.9.59 1.41.59.51 0 1.02-.2 1.41-.59l7.78-7.78 2.81-2.81c.8-.78.8-2.07 0-2.86zM5.41 20L4 18.59l7.72-7.72 1.47 1.35L5.41 20z\"/>\n",
              "  </svg>\n",
              "      </button>\n",
              "      \n",
              "  <style>\n",
              "    .colab-df-container {\n",
              "      display:flex;\n",
              "      flex-wrap:wrap;\n",
              "      gap: 12px;\n",
              "    }\n",
              "\n",
              "    .colab-df-convert {\n",
              "      background-color: #E8F0FE;\n",
              "      border: none;\n",
              "      border-radius: 50%;\n",
              "      cursor: pointer;\n",
              "      display: none;\n",
              "      fill: #1967D2;\n",
              "      height: 32px;\n",
              "      padding: 0 0 0 0;\n",
              "      width: 32px;\n",
              "    }\n",
              "\n",
              "    .colab-df-convert:hover {\n",
              "      background-color: #E2EBFA;\n",
              "      box-shadow: 0px 1px 2px rgba(60, 64, 67, 0.3), 0px 1px 3px 1px rgba(60, 64, 67, 0.15);\n",
              "      fill: #174EA6;\n",
              "    }\n",
              "\n",
              "    [theme=dark] .colab-df-convert {\n",
              "      background-color: #3B4455;\n",
              "      fill: #D2E3FC;\n",
              "    }\n",
              "\n",
              "    [theme=dark] .colab-df-convert:hover {\n",
              "      background-color: #434B5C;\n",
              "      box-shadow: 0px 1px 3px 1px rgba(0, 0, 0, 0.15);\n",
              "      filter: drop-shadow(0px 1px 2px rgba(0, 0, 0, 0.3));\n",
              "      fill: #FFFFFF;\n",
              "    }\n",
              "  </style>\n",
              "\n",
              "      <script>\n",
              "        const buttonEl =\n",
              "          document.querySelector('#df-d6fd0b39-13cd-4862-af35-404cfbf15818 button.colab-df-convert');\n",
              "        buttonEl.style.display =\n",
              "          google.colab.kernel.accessAllowed ? 'block' : 'none';\n",
              "\n",
              "        async function convertToInteractive(key) {\n",
              "          const element = document.querySelector('#df-d6fd0b39-13cd-4862-af35-404cfbf15818');\n",
              "          const dataTable =\n",
              "            await google.colab.kernel.invokeFunction('convertToInteractive',\n",
              "                                                     [key], {});\n",
              "          if (!dataTable) return;\n",
              "\n",
              "          const docLinkHtml = 'Like what you see? Visit the ' +\n",
              "            '<a target=\"_blank\" href=https://colab.research.google.com/notebooks/data_table.ipynb>data table notebook</a>'\n",
              "            + ' to learn more about interactive tables.';\n",
              "          element.innerHTML = '';\n",
              "          dataTable['output_type'] = 'display_data';\n",
              "          await google.colab.output.renderOutput(dataTable, element);\n",
              "          const docLink = document.createElement('div');\n",
              "          docLink.innerHTML = docLinkHtml;\n",
              "          element.appendChild(docLink);\n",
              "        }\n",
              "      </script>\n",
              "    </div>\n",
              "  </div>\n",
              "  "
            ]
          },
          "metadata": {},
          "execution_count": 32
        }
      ]
    },
    {
      "cell_type": "markdown",
      "source": [
        "# 데이터셋 생성"
      ],
      "metadata": {
        "id": "sycgP0UtpFl4"
      },
      "id": "sycgP0UtpFl4"
    },
    {
      "cell_type": "code",
      "source": [
        "TEST_SIZE = 14  # 2주간 데이터 예측\n",
        "\n",
        "train = df_scaled[:-TEST_SIZE]\n",
        "test = df_scaled[-TEST_SIZE:]"
      ],
      "metadata": {
        "id": "7kkomvEZpFl-"
      },
      "execution_count": 57,
      "outputs": [],
      "id": "7kkomvEZpFl-"
    },
    {
      "cell_type": "code",
      "source": [
        "def make_dataset(data, label, window_size=4):\n",
        "    feature_list = []\n",
        "    label_list = []\n",
        "    for i in range(len(data) - window_size):\n",
        "        feature_list.append(np.array(data.iloc[i:i+window_size]))\n",
        "        label_list.append(np.array(label.iloc[i+window_size]))\n",
        "    return np.array(feature_list), np.array(label_list)"
      ],
      "metadata": {
        "id": "PYBw7zyBpFl_"
      },
      "execution_count": 68,
      "outputs": [],
      "id": "PYBw7zyBpFl_"
    },
    {
      "cell_type": "code",
      "source": [
        "feature_cols = ['단가(원)', '거래량', '거래대금(원)', '경매건수', '도매시장코드', '도매법인코드', '산지코드 ', '해당일자_전체거래물량(kg)',\n",
        "                '하위가격 평균가(원)', '상위가격 평균가(원)', '하위가격 거래물량(kg)', '상위가격 거래물량(kg)', '일자별_도매가격_최대(원)',\n",
        "                '일자별_도매가격_평균(원)', '일자별_도매가격_최소(원)', '일자별_소매가격_최대(원)', '일자별_소매가격_평균(원)',\n",
        "                '일자별_소매가격_최소(원)', '수출중량(kg)', '수출금액(달러)', '수입중량(kg)', '수입금액(달러)',\n",
        "                '무역수지(달러)', '주산지_0_초기온도(℃)', '주산지_0_최대온도(℃)', '주산지_0_최저온도(℃)']\n",
        "label_cols = ['해당일자_전체평균가격(원)']\n",
        "\n",
        "train_feature = train[feature_cols]\n",
        "train_label = train[label_cols]\n",
        "\n",
        "test_feature = test[feature_cols]\n",
        "test_label = test[label_cols]\n",
        "\n",
        "# train dataset\n",
        "train_feature, train_label = make_dataset(train_feature, train_label)\n",
        "\n",
        "# train, validation set 생성\n",
        "from sklearn.model_selection import train_test_split\n",
        "x_train, x_valid, y_train, y_valid = train_test_split(train_feature, train_label, test_size=0.2)\n",
        "\n",
        "x_train.shape, x_valid.shape\n",
        "# ((1154, 4, 26), (289, 4, 26))\n",
        "\n",
        "# test dataset (실제 예측 해볼 데이터)\n",
        "test_feature, test_label = make_dataset(test_feature, test_label)\n",
        "test_feature.shape, test_label.shape\n",
        "# ((10, 4, 26), (10, 1))"
      ],
      "metadata": {
        "colab": {
          "base_uri": "https://localhost:8080/"
        },
        "outputId": "b6d39d91-13fc-4b6f-e1cc-f0af047340dc",
        "id": "6quSY-TlpFl_"
      },
      "execution_count": 71,
      "outputs": [
        {
          "output_type": "execute_result",
          "data": {
            "text/plain": [
              "((10, 4, 26), (10, 1))"
            ]
          },
          "metadata": {},
          "execution_count": 71
        }
      ],
      "id": "6quSY-TlpFl_"
    },
    {
      "cell_type": "markdown",
      "source": [
        "# LSTM 모델 생성"
      ],
      "metadata": {
        "id": "LqPBXeMnpFl_"
      },
      "id": "LqPBXeMnpFl_"
    },
    {
      "cell_type": "code",
      "source": [
        "from keras.models import Sequential\n",
        "from keras.layers import Dense\n",
        "from keras.callbacks import EarlyStopping, ModelCheckpoint\n",
        "from keras.layers import LSTM\n",
        "from tensorflow.keras import optimizers\n",
        "\n",
        "\n",
        "\n",
        "model = Sequential()\n",
        "model.add(LSTM(16, \n",
        "               input_shape=(train_feature.shape[1], train_feature.shape[2]), \n",
        "               activation='relu', \n",
        "               return_sequences=False))\n",
        "model.add(Dense(1))"
      ],
      "metadata": {
        "id": "ZoFpcpj7pFl_"
      },
      "execution_count": 72,
      "outputs": [],
      "id": "ZoFpcpj7pFl_"
    },
    {
      "cell_type": "code",
      "source": [
        "model_path = '/content/drive/MyDrive/DNA/농넷_AIFactory'\n",
        "\n",
        "\n",
        "model.compile(loss='mean_squared_error', \n",
        "              optimizer=optimizers.Adam(lr=1e-4, \n",
        "                                        beta_1=0.9, \n",
        "                                        beta_2=0.999, \n",
        "                                        decay=1e-6))\n",
        "\n",
        "\n",
        "\n",
        "early_stop = EarlyStopping(monitor='val_loss',  # 모니터 기준 설정 (val loss)\n",
        "                           patience=10)   # 10회 Epoch동안 개선되지 않는다면 종료\n",
        "\n",
        "\n",
        "filename = os.path.join(model_path, 'tmp_checkpoint.h10')\n",
        "\n",
        "checkpoint = ModelCheckpoint(filename,  # 파일명 지정\n",
        "                             monitor='val_loss', # val_loss 값이 개선되었을때 호출\n",
        "                             verbose=1,  # 로그를 출력\n",
        "                             save_best_only=True,   # 가장 best 값만 저장\n",
        "                             mode='auto')     # auto는 알아서 best를 찾는다. min/max\n",
        "\n",
        "\n",
        "history = model.fit(x_train, y_train, \n",
        "                    epochs=200, \n",
        "                    batch_size=16,\n",
        "                    validation_data=(x_valid, y_valid), \n",
        "                    callbacks=[early_stop, checkpoint])"
      ],
      "metadata": {
        "colab": {
          "base_uri": "https://localhost:8080/"
        },
        "outputId": "9ad81383-e7de-46cd-c0b9-d4111c637ace",
        "id": "BmvuQ7wxpFl_"
      },
      "execution_count": 73,
      "outputs": [
        {
          "output_type": "stream",
          "name": "stdout",
          "text": [
            "Epoch 1/200\n",
            "71/73 [============================>.] - ETA: 0s - loss: 0.0252\n",
            "Epoch 1: val_loss improved from inf to 0.01432, saving model to /content/drive/MyDrive/DNA/농넷_AIFactory/tmp_checkpoint.h10\n"
          ]
        },
        {
          "output_type": "stream",
          "name": "stderr",
          "text": [
            "WARNING:absl:<keras.layers.recurrent.LSTMCell object at 0x7fe497f6b910> has the same name 'LSTMCell' as a built-in Keras object. Consider renaming <class 'keras.layers.recurrent.LSTMCell'> to avoid naming conflicts when loading with `tf.keras.models.load_model`. If renaming is not possible, pass the object in the `custom_objects` parameter of the load function.\n"
          ]
        },
        {
          "output_type": "stream",
          "name": "stdout",
          "text": [
            "\b\b\b\b\b\b\b\b\b\b\b\b\b\b\b\b\b\b\b\b\b\b\b\b\b\b\b\b\b\b\b\b\b\b\b\b\b\b\b\b\b\b\b\b\b\b\b\b\b\b\b\b\b\b\b\b\b\b\b\b\b\b\b\r73/73 [==============================] - 3s 30ms/step - loss: 0.0250 - val_loss: 0.0143\n",
            "Epoch 2/200\n",
            "67/73 [==========================>...] - ETA: 0s - loss: 0.0109\n",
            "Epoch 2: val_loss improved from 0.01432 to 0.01077, saving model to /content/drive/MyDrive/DNA/농넷_AIFactory/tmp_checkpoint.h10\n"
          ]
        },
        {
          "output_type": "stream",
          "name": "stderr",
          "text": [
            "WARNING:absl:<keras.layers.recurrent.LSTMCell object at 0x7fe497f6b910> has the same name 'LSTMCell' as a built-in Keras object. Consider renaming <class 'keras.layers.recurrent.LSTMCell'> to avoid naming conflicts when loading with `tf.keras.models.load_model`. If renaming is not possible, pass the object in the `custom_objects` parameter of the load function.\n"
          ]
        },
        {
          "output_type": "stream",
          "name": "stdout",
          "text": [
            "\b\b\b\b\b\b\b\b\b\b\b\b\b\b\b\b\b\b\b\b\b\b\b\b\b\b\b\b\b\b\b\b\b\b\b\b\b\b\b\b\b\b\b\b\b\b\b\b\b\b\b\b\b\b\b\b\b\b\b\b\b\b\b\r73/73 [==============================] - 2s 33ms/step - loss: 0.0108 - val_loss: 0.0108\n",
            "Epoch 3/200\n",
            "66/73 [==========================>...] - ETA: 0s - loss: 0.0088\n",
            "Epoch 3: val_loss improved from 0.01077 to 0.00920, saving model to /content/drive/MyDrive/DNA/농넷_AIFactory/tmp_checkpoint.h10\n"
          ]
        },
        {
          "output_type": "stream",
          "name": "stderr",
          "text": [
            "WARNING:absl:<keras.layers.recurrent.LSTMCell object at 0x7fe497f6b910> has the same name 'LSTMCell' as a built-in Keras object. Consider renaming <class 'keras.layers.recurrent.LSTMCell'> to avoid naming conflicts when loading with `tf.keras.models.load_model`. If renaming is not possible, pass the object in the `custom_objects` parameter of the load function.\n"
          ]
        },
        {
          "output_type": "stream",
          "name": "stdout",
          "text": [
            "\b\b\b\b\b\b\b\b\b\b\b\b\b\b\b\b\b\b\b\b\b\b\b\b\b\b\b\b\b\b\b\b\b\b\b\b\b\b\b\b\b\b\b\b\b\b\b\b\b\b\b\b\b\b\b\b\b\b\b\b\b\b\b\r73/73 [==============================] - 2s 28ms/step - loss: 0.0086 - val_loss: 0.0092\n",
            "Epoch 4/200\n",
            "65/73 [=========================>....] - ETA: 0s - loss: 0.0065\n",
            "Epoch 4: val_loss improved from 0.00920 to 0.00784, saving model to /content/drive/MyDrive/DNA/농넷_AIFactory/tmp_checkpoint.h10\n"
          ]
        },
        {
          "output_type": "stream",
          "name": "stderr",
          "text": [
            "WARNING:absl:<keras.layers.recurrent.LSTMCell object at 0x7fe497f6b910> has the same name 'LSTMCell' as a built-in Keras object. Consider renaming <class 'keras.layers.recurrent.LSTMCell'> to avoid naming conflicts when loading with `tf.keras.models.load_model`. If renaming is not possible, pass the object in the `custom_objects` parameter of the load function.\n"
          ]
        },
        {
          "output_type": "stream",
          "name": "stdout",
          "text": [
            "\b\b\b\b\b\b\b\b\b\b\b\b\b\b\b\b\b\b\b\b\b\b\b\b\b\b\b\b\b\b\b\b\b\b\b\b\b\b\b\b\b\b\b\b\b\b\b\b\b\b\b\b\b\b\b\b\b\b\b\b\b\b\b\r73/73 [==============================] - 2s 28ms/step - loss: 0.0071 - val_loss: 0.0078\n",
            "Epoch 5/200\n",
            "64/73 [=========================>....] - ETA: 0s - loss: 0.0061\n",
            "Epoch 5: val_loss improved from 0.00784 to 0.00679, saving model to /content/drive/MyDrive/DNA/농넷_AIFactory/tmp_checkpoint.h10\n"
          ]
        },
        {
          "output_type": "stream",
          "name": "stderr",
          "text": [
            "WARNING:absl:<keras.layers.recurrent.LSTMCell object at 0x7fe497f6b910> has the same name 'LSTMCell' as a built-in Keras object. Consider renaming <class 'keras.layers.recurrent.LSTMCell'> to avoid naming conflicts when loading with `tf.keras.models.load_model`. If renaming is not possible, pass the object in the `custom_objects` parameter of the load function.\n"
          ]
        },
        {
          "output_type": "stream",
          "name": "stdout",
          "text": [
            "\b\b\b\b\b\b\b\b\b\b\b\b\b\b\b\b\b\b\b\b\b\b\b\b\b\b\b\b\b\b\b\b\b\b\b\b\b\b\b\b\b\b\b\b\b\b\b\b\b\b\b\b\b\b\b\b\b\b\b\b\b\b\b\r73/73 [==============================] - 2s 32ms/step - loss: 0.0059 - val_loss: 0.0068\n",
            "Epoch 6/200\n",
            "68/73 [==========================>...] - ETA: 0s - loss: 0.0052\n",
            "Epoch 6: val_loss improved from 0.00679 to 0.00606, saving model to /content/drive/MyDrive/DNA/농넷_AIFactory/tmp_checkpoint.h10\n"
          ]
        },
        {
          "output_type": "stream",
          "name": "stderr",
          "text": [
            "WARNING:absl:<keras.layers.recurrent.LSTMCell object at 0x7fe497f6b910> has the same name 'LSTMCell' as a built-in Keras object. Consider renaming <class 'keras.layers.recurrent.LSTMCell'> to avoid naming conflicts when loading with `tf.keras.models.load_model`. If renaming is not possible, pass the object in the `custom_objects` parameter of the load function.\n"
          ]
        },
        {
          "output_type": "stream",
          "name": "stdout",
          "text": [
            "\b\b\b\b\b\b\b\b\b\b\b\b\b\b\b\b\b\b\b\b\b\b\b\b\b\b\b\b\b\b\b\b\b\b\b\b\b\b\b\b\b\b\b\b\b\b\b\b\b\b\b\b\b\b\b\b\b\b\b\b\b\b\b\r73/73 [==============================] - 2s 29ms/step - loss: 0.0051 - val_loss: 0.0061\n",
            "Epoch 7/200\n",
            "73/73 [==============================] - ETA: 0s - loss: 0.0045\n",
            "Epoch 7: val_loss improved from 0.00606 to 0.00557, saving model to /content/drive/MyDrive/DNA/농넷_AIFactory/tmp_checkpoint.h10\n"
          ]
        },
        {
          "output_type": "stream",
          "name": "stderr",
          "text": [
            "WARNING:absl:<keras.layers.recurrent.LSTMCell object at 0x7fe497f6b910> has the same name 'LSTMCell' as a built-in Keras object. Consider renaming <class 'keras.layers.recurrent.LSTMCell'> to avoid naming conflicts when loading with `tf.keras.models.load_model`. If renaming is not possible, pass the object in the `custom_objects` parameter of the load function.\n"
          ]
        },
        {
          "output_type": "stream",
          "name": "stdout",
          "text": [
            "\b\b\b\b\b\b\b\b\b\b\b\b\b\b\b\b\b\b\b\b\b\b\b\b\b\b\b\b\b\b\b\b\b\b\b\b\b\b\b\b\b\b\b\b\b\b\b\b\b\b\b\b\b\b\b\b\b\b\b\b\b\b\b\r73/73 [==============================] - 2s 28ms/step - loss: 0.0045 - val_loss: 0.0056\n",
            "Epoch 8/200\n",
            "72/73 [============================>.] - ETA: 0s - loss: 0.0042\n",
            "Epoch 8: val_loss improved from 0.00557 to 0.00525, saving model to /content/drive/MyDrive/DNA/농넷_AIFactory/tmp_checkpoint.h10\n"
          ]
        },
        {
          "output_type": "stream",
          "name": "stderr",
          "text": [
            "WARNING:absl:<keras.layers.recurrent.LSTMCell object at 0x7fe497f6b910> has the same name 'LSTMCell' as a built-in Keras object. Consider renaming <class 'keras.layers.recurrent.LSTMCell'> to avoid naming conflicts when loading with `tf.keras.models.load_model`. If renaming is not possible, pass the object in the `custom_objects` parameter of the load function.\n"
          ]
        },
        {
          "output_type": "stream",
          "name": "stdout",
          "text": [
            "\b\b\b\b\b\b\b\b\b\b\b\b\b\b\b\b\b\b\b\b\b\b\b\b\b\b\b\b\b\b\b\b\b\b\b\b\b\b\b\b\b\b\b\b\b\b\b\b\b\b\b\b\b\b\b\b\b\b\b\b\b\b\b\r73/73 [==============================] - 2s 28ms/step - loss: 0.0042 - val_loss: 0.0052\n",
            "Epoch 9/200\n",
            "71/73 [============================>.] - ETA: 0s - loss: 0.0039\n",
            "Epoch 9: val_loss improved from 0.00525 to 0.00501, saving model to /content/drive/MyDrive/DNA/농넷_AIFactory/tmp_checkpoint.h10\n"
          ]
        },
        {
          "output_type": "stream",
          "name": "stderr",
          "text": [
            "WARNING:absl:<keras.layers.recurrent.LSTMCell object at 0x7fe497f6b910> has the same name 'LSTMCell' as a built-in Keras object. Consider renaming <class 'keras.layers.recurrent.LSTMCell'> to avoid naming conflicts when loading with `tf.keras.models.load_model`. If renaming is not possible, pass the object in the `custom_objects` parameter of the load function.\n"
          ]
        },
        {
          "output_type": "stream",
          "name": "stdout",
          "text": [
            "\b\b\b\b\b\b\b\b\b\b\b\b\b\b\b\b\b\b\b\b\b\b\b\b\b\b\b\b\b\b\b\b\b\b\b\b\b\b\b\b\b\b\b\b\b\b\b\b\b\b\b\b\b\b\b\b\b\b\b\b\b\b\b\r73/73 [==============================] - 2s 32ms/step - loss: 0.0039 - val_loss: 0.0050\n",
            "Epoch 10/200\n",
            "72/73 [============================>.] - ETA: 0s - loss: 0.0038\n",
            "Epoch 10: val_loss improved from 0.00501 to 0.00483, saving model to /content/drive/MyDrive/DNA/농넷_AIFactory/tmp_checkpoint.h10\n"
          ]
        },
        {
          "output_type": "stream",
          "name": "stderr",
          "text": [
            "WARNING:absl:<keras.layers.recurrent.LSTMCell object at 0x7fe497f6b910> has the same name 'LSTMCell' as a built-in Keras object. Consider renaming <class 'keras.layers.recurrent.LSTMCell'> to avoid naming conflicts when loading with `tf.keras.models.load_model`. If renaming is not possible, pass the object in the `custom_objects` parameter of the load function.\n"
          ]
        },
        {
          "output_type": "stream",
          "name": "stdout",
          "text": [
            "\b\b\b\b\b\b\b\b\b\b\b\b\b\b\b\b\b\b\b\b\b\b\b\b\b\b\b\b\b\b\b\b\b\b\b\b\b\b\b\b\b\b\b\b\b\b\b\b\b\b\b\b\b\b\b\b\b\b\b\b\b\b\b\r73/73 [==============================] - 2s 28ms/step - loss: 0.0037 - val_loss: 0.0048\n",
            "Epoch 11/200\n",
            "68/73 [==========================>...] - ETA: 0s - loss: 0.0037\n",
            "Epoch 11: val_loss improved from 0.00483 to 0.00470, saving model to /content/drive/MyDrive/DNA/농넷_AIFactory/tmp_checkpoint.h10\n"
          ]
        },
        {
          "output_type": "stream",
          "name": "stderr",
          "text": [
            "WARNING:absl:<keras.layers.recurrent.LSTMCell object at 0x7fe497f6b910> has the same name 'LSTMCell' as a built-in Keras object. Consider renaming <class 'keras.layers.recurrent.LSTMCell'> to avoid naming conflicts when loading with `tf.keras.models.load_model`. If renaming is not possible, pass the object in the `custom_objects` parameter of the load function.\n"
          ]
        },
        {
          "output_type": "stream",
          "name": "stdout",
          "text": [
            "\b\b\b\b\b\b\b\b\b\b\b\b\b\b\b\b\b\b\b\b\b\b\b\b\b\b\b\b\b\b\b\b\b\b\b\b\b\b\b\b\b\b\b\b\b\b\b\b\b\b\b\b\b\b\b\b\b\b\b\b\b\b\b\r73/73 [==============================] - 2s 28ms/step - loss: 0.0036 - val_loss: 0.0047\n",
            "Epoch 12/200\n",
            "67/73 [==========================>...] - ETA: 0s - loss: 0.0036\n",
            "Epoch 12: val_loss improved from 0.00470 to 0.00457, saving model to /content/drive/MyDrive/DNA/농넷_AIFactory/tmp_checkpoint.h10\n"
          ]
        },
        {
          "output_type": "stream",
          "name": "stderr",
          "text": [
            "WARNING:absl:<keras.layers.recurrent.LSTMCell object at 0x7fe497f6b910> has the same name 'LSTMCell' as a built-in Keras object. Consider renaming <class 'keras.layers.recurrent.LSTMCell'> to avoid naming conflicts when loading with `tf.keras.models.load_model`. If renaming is not possible, pass the object in the `custom_objects` parameter of the load function.\n"
          ]
        },
        {
          "output_type": "stream",
          "name": "stdout",
          "text": [
            "\b\b\b\b\b\b\b\b\b\b\b\b\b\b\b\b\b\b\b\b\b\b\b\b\b\b\b\b\b\b\b\b\b\b\b\b\b\b\b\b\b\b\b\b\b\b\b\b\b\b\b\b\b\b\b\b\b\b\b\b\b\b\b\r73/73 [==============================] - 2s 32ms/step - loss: 0.0035 - val_loss: 0.0046\n",
            "Epoch 13/200\n",
            "71/73 [============================>.] - ETA: 0s - loss: 0.0034\n",
            "Epoch 13: val_loss improved from 0.00457 to 0.00451, saving model to /content/drive/MyDrive/DNA/농넷_AIFactory/tmp_checkpoint.h10\n"
          ]
        },
        {
          "output_type": "stream",
          "name": "stderr",
          "text": [
            "WARNING:absl:<keras.layers.recurrent.LSTMCell object at 0x7fe497f6b910> has the same name 'LSTMCell' as a built-in Keras object. Consider renaming <class 'keras.layers.recurrent.LSTMCell'> to avoid naming conflicts when loading with `tf.keras.models.load_model`. If renaming is not possible, pass the object in the `custom_objects` parameter of the load function.\n"
          ]
        },
        {
          "output_type": "stream",
          "name": "stdout",
          "text": [
            "\b\b\b\b\b\b\b\b\b\b\b\b\b\b\b\b\b\b\b\b\b\b\b\b\b\b\b\b\b\b\b\b\b\b\b\b\b\b\b\b\b\b\b\b\b\b\b\b\b\b\b\b\b\b\b\b\b\b\b\b\b\b\b\r73/73 [==============================] - 2s 28ms/step - loss: 0.0034 - val_loss: 0.0045\n",
            "Epoch 14/200\n",
            "70/73 [===========================>..] - ETA: 0s - loss: 0.0034\n",
            "Epoch 14: val_loss improved from 0.00451 to 0.00443, saving model to /content/drive/MyDrive/DNA/농넷_AIFactory/tmp_checkpoint.h10\n"
          ]
        },
        {
          "output_type": "stream",
          "name": "stderr",
          "text": [
            "WARNING:absl:<keras.layers.recurrent.LSTMCell object at 0x7fe497f6b910> has the same name 'LSTMCell' as a built-in Keras object. Consider renaming <class 'keras.layers.recurrent.LSTMCell'> to avoid naming conflicts when loading with `tf.keras.models.load_model`. If renaming is not possible, pass the object in the `custom_objects` parameter of the load function.\n"
          ]
        },
        {
          "output_type": "stream",
          "name": "stdout",
          "text": [
            "\b\b\b\b\b\b\b\b\b\b\b\b\b\b\b\b\b\b\b\b\b\b\b\b\b\b\b\b\b\b\b\b\b\b\b\b\b\b\b\b\b\b\b\b\b\b\b\b\b\b\b\b\b\b\b\b\b\b\b\b\b\b\b\r73/73 [==============================] - 2s 28ms/step - loss: 0.0033 - val_loss: 0.0044\n",
            "Epoch 15/200\n",
            "70/73 [===========================>..] - ETA: 0s - loss: 0.0033\n",
            "Epoch 15: val_loss improved from 0.00443 to 0.00432, saving model to /content/drive/MyDrive/DNA/농넷_AIFactory/tmp_checkpoint.h10\n"
          ]
        },
        {
          "output_type": "stream",
          "name": "stderr",
          "text": [
            "WARNING:absl:<keras.layers.recurrent.LSTMCell object at 0x7fe497f6b910> has the same name 'LSTMCell' as a built-in Keras object. Consider renaming <class 'keras.layers.recurrent.LSTMCell'> to avoid naming conflicts when loading with `tf.keras.models.load_model`. If renaming is not possible, pass the object in the `custom_objects` parameter of the load function.\n"
          ]
        },
        {
          "output_type": "stream",
          "name": "stdout",
          "text": [
            "\b\b\b\b\b\b\b\b\b\b\b\b\b\b\b\b\b\b\b\b\b\b\b\b\b\b\b\b\b\b\b\b\b\b\b\b\b\b\b\b\b\b\b\b\b\b\b\b\b\b\b\b\b\b\b\b\b\b\b\b\b\b\b\r73/73 [==============================] - 2s 28ms/step - loss: 0.0032 - val_loss: 0.0043\n",
            "Epoch 16/200\n",
            "71/73 [============================>.] - ETA: 0s - loss: 0.0032\n",
            "Epoch 16: val_loss improved from 0.00432 to 0.00426, saving model to /content/drive/MyDrive/DNA/농넷_AIFactory/tmp_checkpoint.h10\n"
          ]
        },
        {
          "output_type": "stream",
          "name": "stderr",
          "text": [
            "WARNING:absl:<keras.layers.recurrent.LSTMCell object at 0x7fe497f6b910> has the same name 'LSTMCell' as a built-in Keras object. Consider renaming <class 'keras.layers.recurrent.LSTMCell'> to avoid naming conflicts when loading with `tf.keras.models.load_model`. If renaming is not possible, pass the object in the `custom_objects` parameter of the load function.\n"
          ]
        },
        {
          "output_type": "stream",
          "name": "stdout",
          "text": [
            "\b\b\b\b\b\b\b\b\b\b\b\b\b\b\b\b\b\b\b\b\b\b\b\b\b\b\b\b\b\b\b\b\b\b\b\b\b\b\b\b\b\b\b\b\b\b\b\b\b\b\b\b\b\b\b\b\b\b\b\b\b\b\b\r73/73 [==============================] - 2s 33ms/step - loss: 0.0032 - val_loss: 0.0043\n",
            "Epoch 17/200\n",
            "61/73 [========================>.....] - ETA: 0s - loss: 0.0034\n",
            "Epoch 17: val_loss improved from 0.00426 to 0.00419, saving model to /content/drive/MyDrive/DNA/농넷_AIFactory/tmp_checkpoint.h10\n"
          ]
        },
        {
          "output_type": "stream",
          "name": "stderr",
          "text": [
            "WARNING:absl:<keras.layers.recurrent.LSTMCell object at 0x7fe497f6b910> has the same name 'LSTMCell' as a built-in Keras object. Consider renaming <class 'keras.layers.recurrent.LSTMCell'> to avoid naming conflicts when loading with `tf.keras.models.load_model`. If renaming is not possible, pass the object in the `custom_objects` parameter of the load function.\n"
          ]
        },
        {
          "output_type": "stream",
          "name": "stdout",
          "text": [
            "\b\b\b\b\b\b\b\b\b\b\b\b\b\b\b\b\b\b\b\b\b\b\b\b\b\b\b\b\b\b\b\b\b\b\b\b\b\b\b\b\b\b\b\b\b\b\b\b\b\b\b\b\b\b\b\b\b\b\b\b\b\b\b\r73/73 [==============================] - 2s 28ms/step - loss: 0.0031 - val_loss: 0.0042\n",
            "Epoch 18/200\n",
            "69/73 [===========================>..] - ETA: 0s - loss: 0.0024\n",
            "Epoch 18: val_loss improved from 0.00419 to 0.00414, saving model to /content/drive/MyDrive/DNA/농넷_AIFactory/tmp_checkpoint.h10\n"
          ]
        },
        {
          "output_type": "stream",
          "name": "stderr",
          "text": [
            "WARNING:absl:<keras.layers.recurrent.LSTMCell object at 0x7fe497f6b910> has the same name 'LSTMCell' as a built-in Keras object. Consider renaming <class 'keras.layers.recurrent.LSTMCell'> to avoid naming conflicts when loading with `tf.keras.models.load_model`. If renaming is not possible, pass the object in the `custom_objects` parameter of the load function.\n"
          ]
        },
        {
          "output_type": "stream",
          "name": "stdout",
          "text": [
            "\b\b\b\b\b\b\b\b\b\b\b\b\b\b\b\b\b\b\b\b\b\b\b\b\b\b\b\b\b\b\b\b\b\b\b\b\b\b\b\b\b\b\b\b\b\b\b\b\b\b\b\b\b\b\b\b\b\b\b\b\b\b\b\r73/73 [==============================] - 2s 28ms/step - loss: 0.0031 - val_loss: 0.0041\n",
            "Epoch 19/200\n",
            "65/73 [=========================>....] - ETA: 0s - loss: 0.0024\n",
            "Epoch 19: val_loss improved from 0.00414 to 0.00410, saving model to /content/drive/MyDrive/DNA/농넷_AIFactory/tmp_checkpoint.h10\n"
          ]
        },
        {
          "output_type": "stream",
          "name": "stderr",
          "text": [
            "WARNING:absl:<keras.layers.recurrent.LSTMCell object at 0x7fe497f6b910> has the same name 'LSTMCell' as a built-in Keras object. Consider renaming <class 'keras.layers.recurrent.LSTMCell'> to avoid naming conflicts when loading with `tf.keras.models.load_model`. If renaming is not possible, pass the object in the `custom_objects` parameter of the load function.\n"
          ]
        },
        {
          "output_type": "stream",
          "name": "stdout",
          "text": [
            "\b\b\b\b\b\b\b\b\b\b\b\b\b\b\b\b\b\b\b\b\b\b\b\b\b\b\b\b\b\b\b\b\b\b\b\b\b\b\b\b\b\b\b\b\b\b\b\b\b\b\b\b\b\b\b\b\b\b\b\b\b\b\b\r73/73 [==============================] - 2s 28ms/step - loss: 0.0030 - val_loss: 0.0041\n",
            "Epoch 20/200\n",
            "64/73 [=========================>....] - ETA: 0s - loss: 0.0032\n",
            "Epoch 20: val_loss improved from 0.00410 to 0.00406, saving model to /content/drive/MyDrive/DNA/농넷_AIFactory/tmp_checkpoint.h10\n"
          ]
        },
        {
          "output_type": "stream",
          "name": "stderr",
          "text": [
            "WARNING:absl:<keras.layers.recurrent.LSTMCell object at 0x7fe497f6b910> has the same name 'LSTMCell' as a built-in Keras object. Consider renaming <class 'keras.layers.recurrent.LSTMCell'> to avoid naming conflicts when loading with `tf.keras.models.load_model`. If renaming is not possible, pass the object in the `custom_objects` parameter of the load function.\n"
          ]
        },
        {
          "output_type": "stream",
          "name": "stdout",
          "text": [
            "\b\b\b\b\b\b\b\b\b\b\b\b\b\b\b\b\b\b\b\b\b\b\b\b\b\b\b\b\b\b\b\b\b\b\b\b\b\b\b\b\b\b\b\b\b\b\b\b\b\b\b\b\b\b\b\b\b\b\b\b\b\b\b\r73/73 [==============================] - 2s 33ms/step - loss: 0.0030 - val_loss: 0.0041\n",
            "Epoch 21/200\n",
            "71/73 [============================>.] - ETA: 0s - loss: 0.0030\n",
            "Epoch 21: val_loss improved from 0.00406 to 0.00400, saving model to /content/drive/MyDrive/DNA/농넷_AIFactory/tmp_checkpoint.h10\n"
          ]
        },
        {
          "output_type": "stream",
          "name": "stderr",
          "text": [
            "WARNING:absl:<keras.layers.recurrent.LSTMCell object at 0x7fe497f6b910> has the same name 'LSTMCell' as a built-in Keras object. Consider renaming <class 'keras.layers.recurrent.LSTMCell'> to avoid naming conflicts when loading with `tf.keras.models.load_model`. If renaming is not possible, pass the object in the `custom_objects` parameter of the load function.\n"
          ]
        },
        {
          "output_type": "stream",
          "name": "stdout",
          "text": [
            "\b\b\b\b\b\b\b\b\b\b\b\b\b\b\b\b\b\b\b\b\b\b\b\b\b\b\b\b\b\b\b\b\b\b\b\b\b\b\b\b\b\b\b\b\b\b\b\b\b\b\b\b\b\b\b\b\b\b\b\b\b\b\b\r73/73 [==============================] - 2s 28ms/step - loss: 0.0029 - val_loss: 0.0040\n",
            "Epoch 22/200\n",
            "68/73 [==========================>...] - ETA: 0s - loss: 0.0030\n",
            "Epoch 22: val_loss improved from 0.00400 to 0.00396, saving model to /content/drive/MyDrive/DNA/농넷_AIFactory/tmp_checkpoint.h10\n"
          ]
        },
        {
          "output_type": "stream",
          "name": "stderr",
          "text": [
            "WARNING:absl:<keras.layers.recurrent.LSTMCell object at 0x7fe497f6b910> has the same name 'LSTMCell' as a built-in Keras object. Consider renaming <class 'keras.layers.recurrent.LSTMCell'> to avoid naming conflicts when loading with `tf.keras.models.load_model`. If renaming is not possible, pass the object in the `custom_objects` parameter of the load function.\n"
          ]
        },
        {
          "output_type": "stream",
          "name": "stdout",
          "text": [
            "\b\b\b\b\b\b\b\b\b\b\b\b\b\b\b\b\b\b\b\b\b\b\b\b\b\b\b\b\b\b\b\b\b\b\b\b\b\b\b\b\b\b\b\b\b\b\b\b\b\b\b\b\b\b\b\b\b\b\b\b\b\b\b\r73/73 [==============================] - 2s 28ms/step - loss: 0.0029 - val_loss: 0.0040\n",
            "Epoch 23/200\n",
            "69/73 [===========================>..] - ETA: 0s - loss: 0.0029\n",
            "Epoch 23: val_loss improved from 0.00396 to 0.00393, saving model to /content/drive/MyDrive/DNA/농넷_AIFactory/tmp_checkpoint.h10\n"
          ]
        },
        {
          "output_type": "stream",
          "name": "stderr",
          "text": [
            "WARNING:absl:<keras.layers.recurrent.LSTMCell object at 0x7fe497f6b910> has the same name 'LSTMCell' as a built-in Keras object. Consider renaming <class 'keras.layers.recurrent.LSTMCell'> to avoid naming conflicts when loading with `tf.keras.models.load_model`. If renaming is not possible, pass the object in the `custom_objects` parameter of the load function.\n"
          ]
        },
        {
          "output_type": "stream",
          "name": "stdout",
          "text": [
            "\b\b\b\b\b\b\b\b\b\b\b\b\b\b\b\b\b\b\b\b\b\b\b\b\b\b\b\b\b\b\b\b\b\b\b\b\b\b\b\b\b\b\b\b\b\b\b\b\b\b\b\b\b\b\b\b\b\b\b\b\b\b\b\r73/73 [==============================] - 2s 27ms/step - loss: 0.0029 - val_loss: 0.0039\n",
            "Epoch 24/200\n",
            "70/73 [===========================>..] - ETA: 0s - loss: 0.0029\n",
            "Epoch 24: val_loss improved from 0.00393 to 0.00390, saving model to /content/drive/MyDrive/DNA/농넷_AIFactory/tmp_checkpoint.h10\n"
          ]
        },
        {
          "output_type": "stream",
          "name": "stderr",
          "text": [
            "WARNING:absl:<keras.layers.recurrent.LSTMCell object at 0x7fe497f6b910> has the same name 'LSTMCell' as a built-in Keras object. Consider renaming <class 'keras.layers.recurrent.LSTMCell'> to avoid naming conflicts when loading with `tf.keras.models.load_model`. If renaming is not possible, pass the object in the `custom_objects` parameter of the load function.\n"
          ]
        },
        {
          "output_type": "stream",
          "name": "stdout",
          "text": [
            "\b\b\b\b\b\b\b\b\b\b\b\b\b\b\b\b\b\b\b\b\b\b\b\b\b\b\b\b\b\b\b\b\b\b\b\b\b\b\b\b\b\b\b\b\b\b\b\b\b\b\b\b\b\b\b\b\b\b\b\b\b\b\b\r73/73 [==============================] - 2s 33ms/step - loss: 0.0028 - val_loss: 0.0039\n",
            "Epoch 25/200\n",
            "73/73 [==============================] - ETA: 0s - loss: 0.0028\n",
            "Epoch 25: val_loss improved from 0.00390 to 0.00387, saving model to /content/drive/MyDrive/DNA/농넷_AIFactory/tmp_checkpoint.h10\n"
          ]
        },
        {
          "output_type": "stream",
          "name": "stderr",
          "text": [
            "WARNING:absl:<keras.layers.recurrent.LSTMCell object at 0x7fe497f6b910> has the same name 'LSTMCell' as a built-in Keras object. Consider renaming <class 'keras.layers.recurrent.LSTMCell'> to avoid naming conflicts when loading with `tf.keras.models.load_model`. If renaming is not possible, pass the object in the `custom_objects` parameter of the load function.\n"
          ]
        },
        {
          "output_type": "stream",
          "name": "stdout",
          "text": [
            "\b\b\b\b\b\b\b\b\b\b\b\b\b\b\b\b\b\b\b\b\b\b\b\b\b\b\b\b\b\b\b\b\b\b\b\b\b\b\b\b\b\b\b\b\b\b\b\b\b\b\b\b\b\b\b\b\b\b\b\b\b\b\b\r73/73 [==============================] - 2s 28ms/step - loss: 0.0028 - val_loss: 0.0039\n",
            "Epoch 26/200\n",
            "72/73 [============================>.] - ETA: 0s - loss: 0.0028\n",
            "Epoch 26: val_loss improved from 0.00387 to 0.00383, saving model to /content/drive/MyDrive/DNA/농넷_AIFactory/tmp_checkpoint.h10\n"
          ]
        },
        {
          "output_type": "stream",
          "name": "stderr",
          "text": [
            "WARNING:absl:<keras.layers.recurrent.LSTMCell object at 0x7fe497f6b910> has the same name 'LSTMCell' as a built-in Keras object. Consider renaming <class 'keras.layers.recurrent.LSTMCell'> to avoid naming conflicts when loading with `tf.keras.models.load_model`. If renaming is not possible, pass the object in the `custom_objects` parameter of the load function.\n"
          ]
        },
        {
          "output_type": "stream",
          "name": "stdout",
          "text": [
            "\b\b\b\b\b\b\b\b\b\b\b\b\b\b\b\b\b\b\b\b\b\b\b\b\b\b\b\b\b\b\b\b\b\b\b\b\b\b\b\b\b\b\b\b\b\b\b\b\b\b\b\b\b\b\b\b\b\b\b\b\b\b\b\r73/73 [==============================] - 2s 28ms/step - loss: 0.0028 - val_loss: 0.0038\n",
            "Epoch 27/200\n",
            "71/73 [============================>.] - ETA: 0s - loss: 0.0028\n",
            "Epoch 27: val_loss improved from 0.00383 to 0.00381, saving model to /content/drive/MyDrive/DNA/농넷_AIFactory/tmp_checkpoint.h10\n"
          ]
        },
        {
          "output_type": "stream",
          "name": "stderr",
          "text": [
            "WARNING:absl:<keras.layers.recurrent.LSTMCell object at 0x7fe497f6b910> has the same name 'LSTMCell' as a built-in Keras object. Consider renaming <class 'keras.layers.recurrent.LSTMCell'> to avoid naming conflicts when loading with `tf.keras.models.load_model`. If renaming is not possible, pass the object in the `custom_objects` parameter of the load function.\n"
          ]
        },
        {
          "output_type": "stream",
          "name": "stdout",
          "text": [
            "\b\b\b\b\b\b\b\b\b\b\b\b\b\b\b\b\b\b\b\b\b\b\b\b\b\b\b\b\b\b\b\b\b\b\b\b\b\b\b\b\b\b\b\b\b\b\b\b\b\b\b\b\b\b\b\b\b\b\b\b\b\b\b\r73/73 [==============================] - 2s 32ms/step - loss: 0.0027 - val_loss: 0.0038\n",
            "Epoch 28/200\n",
            "70/73 [===========================>..] - ETA: 0s - loss: 0.0028\n",
            "Epoch 28: val_loss improved from 0.00381 to 0.00376, saving model to /content/drive/MyDrive/DNA/농넷_AIFactory/tmp_checkpoint.h10\n"
          ]
        },
        {
          "output_type": "stream",
          "name": "stderr",
          "text": [
            "WARNING:absl:<keras.layers.recurrent.LSTMCell object at 0x7fe497f6b910> has the same name 'LSTMCell' as a built-in Keras object. Consider renaming <class 'keras.layers.recurrent.LSTMCell'> to avoid naming conflicts when loading with `tf.keras.models.load_model`. If renaming is not possible, pass the object in the `custom_objects` parameter of the load function.\n"
          ]
        },
        {
          "output_type": "stream",
          "name": "stdout",
          "text": [
            "\b\b\b\b\b\b\b\b\b\b\b\b\b\b\b\b\b\b\b\b\b\b\b\b\b\b\b\b\b\b\b\b\b\b\b\b\b\b\b\b\b\b\b\b\b\b\b\b\b\b\b\b\b\b\b\b\b\b\b\b\b\b\b\r73/73 [==============================] - 2s 28ms/step - loss: 0.0027 - val_loss: 0.0038\n",
            "Epoch 29/200\n",
            "71/73 [============================>.] - ETA: 0s - loss: 0.0027\n",
            "Epoch 29: val_loss did not improve from 0.00376\n",
            "73/73 [==============================] - 0s 4ms/step - loss: 0.0027 - val_loss: 0.0038\n",
            "Epoch 30/200\n",
            "67/73 [==========================>...] - ETA: 0s - loss: 0.0028\n",
            "Epoch 30: val_loss did not improve from 0.00376\n",
            "73/73 [==============================] - 0s 4ms/step - loss: 0.0027 - val_loss: 0.0038\n",
            "Epoch 31/200\n",
            "72/73 [============================>.] - ETA: 0s - loss: 0.0027\n",
            "Epoch 31: val_loss improved from 0.00376 to 0.00369, saving model to /content/drive/MyDrive/DNA/농넷_AIFactory/tmp_checkpoint.h10\n"
          ]
        },
        {
          "output_type": "stream",
          "name": "stderr",
          "text": [
            "WARNING:absl:<keras.layers.recurrent.LSTMCell object at 0x7fe497f6b910> has the same name 'LSTMCell' as a built-in Keras object. Consider renaming <class 'keras.layers.recurrent.LSTMCell'> to avoid naming conflicts when loading with `tf.keras.models.load_model`. If renaming is not possible, pass the object in the `custom_objects` parameter of the load function.\n"
          ]
        },
        {
          "output_type": "stream",
          "name": "stdout",
          "text": [
            "\b\b\b\b\b\b\b\b\b\b\b\b\b\b\b\b\b\b\b\b\b\b\b\b\b\b\b\b\b\b\b\b\b\b\b\b\b\b\b\b\b\b\b\b\b\b\b\b\b\b\b\b\b\b\b\b\b\b\b\b\b\b\b\r73/73 [==============================] - 2s 28ms/step - loss: 0.0026 - val_loss: 0.0037\n",
            "Epoch 32/200\n",
            "70/73 [===========================>..] - ETA: 0s - loss: 0.0027\n",
            "Epoch 32: val_loss improved from 0.00369 to 0.00367, saving model to /content/drive/MyDrive/DNA/농넷_AIFactory/tmp_checkpoint.h10\n"
          ]
        },
        {
          "output_type": "stream",
          "name": "stderr",
          "text": [
            "WARNING:absl:<keras.layers.recurrent.LSTMCell object at 0x7fe497f6b910> has the same name 'LSTMCell' as a built-in Keras object. Consider renaming <class 'keras.layers.recurrent.LSTMCell'> to avoid naming conflicts when loading with `tf.keras.models.load_model`. If renaming is not possible, pass the object in the `custom_objects` parameter of the load function.\n"
          ]
        },
        {
          "output_type": "stream",
          "name": "stdout",
          "text": [
            "\b\b\b\b\b\b\b\b\b\b\b\b\b\b\b\b\b\b\b\b\b\b\b\b\b\b\b\b\b\b\b\b\b\b\b\b\b\b\b\b\b\b\b\b\b\b\b\b\b\b\b\b\b\b\b\b\b\b\b\b\b\b\b\r73/73 [==============================] - 2s 28ms/step - loss: 0.0026 - val_loss: 0.0037\n",
            "Epoch 33/200\n",
            "71/73 [============================>.] - ETA: 0s - loss: 0.0026\n",
            "Epoch 33: val_loss improved from 0.00367 to 0.00365, saving model to /content/drive/MyDrive/DNA/농넷_AIFactory/tmp_checkpoint.h10\n"
          ]
        },
        {
          "output_type": "stream",
          "name": "stderr",
          "text": [
            "WARNING:absl:<keras.layers.recurrent.LSTMCell object at 0x7fe497f6b910> has the same name 'LSTMCell' as a built-in Keras object. Consider renaming <class 'keras.layers.recurrent.LSTMCell'> to avoid naming conflicts when loading with `tf.keras.models.load_model`. If renaming is not possible, pass the object in the `custom_objects` parameter of the load function.\n"
          ]
        },
        {
          "output_type": "stream",
          "name": "stdout",
          "text": [
            "\b\b\b\b\b\b\b\b\b\b\b\b\b\b\b\b\b\b\b\b\b\b\b\b\b\b\b\b\b\b\b\b\b\b\b\b\b\b\b\b\b\b\b\b\b\b\b\b\b\b\b\b\b\b\b\b\b\b\b\b\b\b\b\r73/73 [==============================] - 2s 33ms/step - loss: 0.0026 - val_loss: 0.0036\n",
            "Epoch 34/200\n",
            "69/73 [===========================>..] - ETA: 0s - loss: 0.0027\n",
            "Epoch 34: val_loss improved from 0.00365 to 0.00363, saving model to /content/drive/MyDrive/DNA/농넷_AIFactory/tmp_checkpoint.h10\n"
          ]
        },
        {
          "output_type": "stream",
          "name": "stderr",
          "text": [
            "WARNING:absl:<keras.layers.recurrent.LSTMCell object at 0x7fe497f6b910> has the same name 'LSTMCell' as a built-in Keras object. Consider renaming <class 'keras.layers.recurrent.LSTMCell'> to avoid naming conflicts when loading with `tf.keras.models.load_model`. If renaming is not possible, pass the object in the `custom_objects` parameter of the load function.\n"
          ]
        },
        {
          "output_type": "stream",
          "name": "stdout",
          "text": [
            "\b\b\b\b\b\b\b\b\b\b\b\b\b\b\b\b\b\b\b\b\b\b\b\b\b\b\b\b\b\b\b\b\b\b\b\b\b\b\b\b\b\b\b\b\b\b\b\b\b\b\b\b\b\b\b\b\b\b\b\b\b\b\b\r73/73 [==============================] - 2s 29ms/step - loss: 0.0026 - val_loss: 0.0036\n",
            "Epoch 35/200\n",
            "68/73 [==========================>...] - ETA: 0s - loss: 0.0027\n",
            "Epoch 35: val_loss did not improve from 0.00363\n",
            "73/73 [==============================] - 0s 4ms/step - loss: 0.0026 - val_loss: 0.0037\n",
            "Epoch 36/200\n",
            "72/73 [============================>.] - ETA: 0s - loss: 0.0026\n",
            "Epoch 36: val_loss improved from 0.00363 to 0.00359, saving model to /content/drive/MyDrive/DNA/농넷_AIFactory/tmp_checkpoint.h10\n"
          ]
        },
        {
          "output_type": "stream",
          "name": "stderr",
          "text": [
            "WARNING:absl:<keras.layers.recurrent.LSTMCell object at 0x7fe497f6b910> has the same name 'LSTMCell' as a built-in Keras object. Consider renaming <class 'keras.layers.recurrent.LSTMCell'> to avoid naming conflicts when loading with `tf.keras.models.load_model`. If renaming is not possible, pass the object in the `custom_objects` parameter of the load function.\n"
          ]
        },
        {
          "output_type": "stream",
          "name": "stdout",
          "text": [
            "\b\b\b\b\b\b\b\b\b\b\b\b\b\b\b\b\b\b\b\b\b\b\b\b\b\b\b\b\b\b\b\b\b\b\b\b\b\b\b\b\b\b\b\b\b\b\b\b\b\b\b\b\b\b\b\b\b\b\b\b\b\b\b\r73/73 [==============================] - 2s 31ms/step - loss: 0.0026 - val_loss: 0.0036\n",
            "Epoch 37/200\n",
            "66/73 [==========================>...] - ETA: 0s - loss: 0.0027\n",
            "Epoch 37: val_loss improved from 0.00359 to 0.00356, saving model to /content/drive/MyDrive/DNA/농넷_AIFactory/tmp_checkpoint.h10\n"
          ]
        },
        {
          "output_type": "stream",
          "name": "stderr",
          "text": [
            "WARNING:absl:<keras.layers.recurrent.LSTMCell object at 0x7fe497f6b910> has the same name 'LSTMCell' as a built-in Keras object. Consider renaming <class 'keras.layers.recurrent.LSTMCell'> to avoid naming conflicts when loading with `tf.keras.models.load_model`. If renaming is not possible, pass the object in the `custom_objects` parameter of the load function.\n"
          ]
        },
        {
          "output_type": "stream",
          "name": "stdout",
          "text": [
            "\b\b\b\b\b\b\b\b\b\b\b\b\b\b\b\b\b\b\b\b\b\b\b\b\b\b\b\b\b\b\b\b\b\b\b\b\b\b\b\b\b\b\b\b\b\b\b\b\b\b\b\b\b\b\b\b\b\b\b\b\b\b\b\r73/73 [==============================] - 4s 57ms/step - loss: 0.0025 - val_loss: 0.0036\n",
            "Epoch 38/200\n",
            "71/73 [============================>.] - ETA: 0s - loss: 0.0025\n",
            "Epoch 38: val_loss improved from 0.00356 to 0.00355, saving model to /content/drive/MyDrive/DNA/농넷_AIFactory/tmp_checkpoint.h10\n"
          ]
        },
        {
          "output_type": "stream",
          "name": "stderr",
          "text": [
            "WARNING:absl:<keras.layers.recurrent.LSTMCell object at 0x7fe497f6b910> has the same name 'LSTMCell' as a built-in Keras object. Consider renaming <class 'keras.layers.recurrent.LSTMCell'> to avoid naming conflicts when loading with `tf.keras.models.load_model`. If renaming is not possible, pass the object in the `custom_objects` parameter of the load function.\n"
          ]
        },
        {
          "output_type": "stream",
          "name": "stdout",
          "text": [
            "\b\b\b\b\b\b\b\b\b\b\b\b\b\b\b\b\b\b\b\b\b\b\b\b\b\b\b\b\b\b\b\b\b\b\b\b\b\b\b\b\b\b\b\b\b\b\b\b\b\b\b\b\b\b\b\b\b\b\b\b\b\b\b\r73/73 [==============================] - 2s 29ms/step - loss: 0.0025 - val_loss: 0.0036\n",
            "Epoch 39/200\n",
            "71/73 [============================>.] - ETA: 0s - loss: 0.0025\n",
            "Epoch 39: val_loss improved from 0.00355 to 0.00353, saving model to /content/drive/MyDrive/DNA/농넷_AIFactory/tmp_checkpoint.h10\n"
          ]
        },
        {
          "output_type": "stream",
          "name": "stderr",
          "text": [
            "WARNING:absl:<keras.layers.recurrent.LSTMCell object at 0x7fe497f6b910> has the same name 'LSTMCell' as a built-in Keras object. Consider renaming <class 'keras.layers.recurrent.LSTMCell'> to avoid naming conflicts when loading with `tf.keras.models.load_model`. If renaming is not possible, pass the object in the `custom_objects` parameter of the load function.\n"
          ]
        },
        {
          "output_type": "stream",
          "name": "stdout",
          "text": [
            "\b\b\b\b\b\b\b\b\b\b\b\b\b\b\b\b\b\b\b\b\b\b\b\b\b\b\b\b\b\b\b\b\b\b\b\b\b\b\b\b\b\b\b\b\b\b\b\b\b\b\b\b\b\b\b\b\b\b\b\b\b\b\b\r73/73 [==============================] - 2s 28ms/step - loss: 0.0025 - val_loss: 0.0035\n",
            "Epoch 40/200\n",
            "72/73 [============================>.] - ETA: 0s - loss: 0.0025\n",
            "Epoch 40: val_loss improved from 0.00353 to 0.00351, saving model to /content/drive/MyDrive/DNA/농넷_AIFactory/tmp_checkpoint.h10\n"
          ]
        },
        {
          "output_type": "stream",
          "name": "stderr",
          "text": [
            "WARNING:absl:<keras.layers.recurrent.LSTMCell object at 0x7fe497f6b910> has the same name 'LSTMCell' as a built-in Keras object. Consider renaming <class 'keras.layers.recurrent.LSTMCell'> to avoid naming conflicts when loading with `tf.keras.models.load_model`. If renaming is not possible, pass the object in the `custom_objects` parameter of the load function.\n"
          ]
        },
        {
          "output_type": "stream",
          "name": "stdout",
          "text": [
            "\b\b\b\b\b\b\b\b\b\b\b\b\b\b\b\b\b\b\b\b\b\b\b\b\b\b\b\b\b\b\b\b\b\b\b\b\b\b\b\b\b\b\b\b\b\b\b\b\b\b\b\b\b\b\b\b\b\b\b\b\b\b\b\r73/73 [==============================] - 2s 27ms/step - loss: 0.0025 - val_loss: 0.0035\n",
            "Epoch 41/200\n",
            "72/73 [============================>.] - ETA: 0s - loss: 0.0025\n",
            "Epoch 41: val_loss improved from 0.00351 to 0.00350, saving model to /content/drive/MyDrive/DNA/농넷_AIFactory/tmp_checkpoint.h10\n"
          ]
        },
        {
          "output_type": "stream",
          "name": "stderr",
          "text": [
            "WARNING:absl:<keras.layers.recurrent.LSTMCell object at 0x7fe497f6b910> has the same name 'LSTMCell' as a built-in Keras object. Consider renaming <class 'keras.layers.recurrent.LSTMCell'> to avoid naming conflicts when loading with `tf.keras.models.load_model`. If renaming is not possible, pass the object in the `custom_objects` parameter of the load function.\n"
          ]
        },
        {
          "output_type": "stream",
          "name": "stdout",
          "text": [
            "\b\b\b\b\b\b\b\b\b\b\b\b\b\b\b\b\b\b\b\b\b\b\b\b\b\b\b\b\b\b\b\b\b\b\b\b\b\b\b\b\b\b\b\b\b\b\b\b\b\b\b\b\b\b\b\b\b\b\b\b\b\b\b\r73/73 [==============================] - 2s 33ms/step - loss: 0.0025 - val_loss: 0.0035\n",
            "Epoch 42/200\n",
            "71/73 [============================>.] - ETA: 0s - loss: 0.0025\n",
            "Epoch 42: val_loss improved from 0.00350 to 0.00349, saving model to /content/drive/MyDrive/DNA/농넷_AIFactory/tmp_checkpoint.h10\n"
          ]
        },
        {
          "output_type": "stream",
          "name": "stderr",
          "text": [
            "WARNING:absl:<keras.layers.recurrent.LSTMCell object at 0x7fe497f6b910> has the same name 'LSTMCell' as a built-in Keras object. Consider renaming <class 'keras.layers.recurrent.LSTMCell'> to avoid naming conflicts when loading with `tf.keras.models.load_model`. If renaming is not possible, pass the object in the `custom_objects` parameter of the load function.\n"
          ]
        },
        {
          "output_type": "stream",
          "name": "stdout",
          "text": [
            "\b\b\b\b\b\b\b\b\b\b\b\b\b\b\b\b\b\b\b\b\b\b\b\b\b\b\b\b\b\b\b\b\b\b\b\b\b\b\b\b\b\b\b\b\b\b\b\b\b\b\b\b\b\b\b\b\b\b\b\b\b\b\b\r73/73 [==============================] - 2s 28ms/step - loss: 0.0025 - val_loss: 0.0035\n",
            "Epoch 43/200\n",
            "62/73 [========================>.....] - ETA: 0s - loss: 0.0019\n",
            "Epoch 43: val_loss improved from 0.00349 to 0.00348, saving model to /content/drive/MyDrive/DNA/농넷_AIFactory/tmp_checkpoint.h10\n"
          ]
        },
        {
          "output_type": "stream",
          "name": "stderr",
          "text": [
            "WARNING:absl:<keras.layers.recurrent.LSTMCell object at 0x7fe497f6b910> has the same name 'LSTMCell' as a built-in Keras object. Consider renaming <class 'keras.layers.recurrent.LSTMCell'> to avoid naming conflicts when loading with `tf.keras.models.load_model`. If renaming is not possible, pass the object in the `custom_objects` parameter of the load function.\n"
          ]
        },
        {
          "output_type": "stream",
          "name": "stdout",
          "text": [
            "\b\b\b\b\b\b\b\b\b\b\b\b\b\b\b\b\b\b\b\b\b\b\b\b\b\b\b\b\b\b\b\b\b\b\b\b\b\b\b\b\b\b\b\b\b\b\b\b\b\b\b\b\b\b\b\b\b\b\b\b\b\b\b\r73/73 [==============================] - 2s 28ms/step - loss: 0.0025 - val_loss: 0.0035\n",
            "Epoch 44/200\n",
            "68/73 [==========================>...] - ETA: 0s - loss: 0.0025\n",
            "Epoch 44: val_loss improved from 0.00348 to 0.00348, saving model to /content/drive/MyDrive/DNA/농넷_AIFactory/tmp_checkpoint.h10\n"
          ]
        },
        {
          "output_type": "stream",
          "name": "stderr",
          "text": [
            "WARNING:absl:<keras.layers.recurrent.LSTMCell object at 0x7fe497f6b910> has the same name 'LSTMCell' as a built-in Keras object. Consider renaming <class 'keras.layers.recurrent.LSTMCell'> to avoid naming conflicts when loading with `tf.keras.models.load_model`. If renaming is not possible, pass the object in the `custom_objects` parameter of the load function.\n"
          ]
        },
        {
          "output_type": "stream",
          "name": "stdout",
          "text": [
            "\b\b\b\b\b\b\b\b\b\b\b\b\b\b\b\b\b\b\b\b\b\b\b\b\b\b\b\b\b\b\b\b\b\b\b\b\b\b\b\b\b\b\b\b\b\b\b\b\b\b\b\b\b\b\b\b\b\b\b\b\b\b\b\r73/73 [==============================] - 2s 28ms/step - loss: 0.0024 - val_loss: 0.0035\n",
            "Epoch 45/200\n",
            "72/73 [============================>.] - ETA: 0s - loss: 0.0024\n",
            "Epoch 45: val_loss improved from 0.00348 to 0.00346, saving model to /content/drive/MyDrive/DNA/농넷_AIFactory/tmp_checkpoint.h10\n"
          ]
        },
        {
          "output_type": "stream",
          "name": "stderr",
          "text": [
            "WARNING:absl:<keras.layers.recurrent.LSTMCell object at 0x7fe497f6b910> has the same name 'LSTMCell' as a built-in Keras object. Consider renaming <class 'keras.layers.recurrent.LSTMCell'> to avoid naming conflicts when loading with `tf.keras.models.load_model`. If renaming is not possible, pass the object in the `custom_objects` parameter of the load function.\n"
          ]
        },
        {
          "output_type": "stream",
          "name": "stdout",
          "text": [
            "\b\b\b\b\b\b\b\b\b\b\b\b\b\b\b\b\b\b\b\b\b\b\b\b\b\b\b\b\b\b\b\b\b\b\b\b\b\b\b\b\b\b\b\b\b\b\b\b\b\b\b\b\b\b\b\b\b\b\b\b\b\b\b\r73/73 [==============================] - 2s 33ms/step - loss: 0.0024 - val_loss: 0.0035\n",
            "Epoch 46/200\n",
            "64/73 [=========================>....] - ETA: 0s - loss: 0.0026\n",
            "Epoch 46: val_loss improved from 0.00346 to 0.00343, saving model to /content/drive/MyDrive/DNA/농넷_AIFactory/tmp_checkpoint.h10\n"
          ]
        },
        {
          "output_type": "stream",
          "name": "stderr",
          "text": [
            "WARNING:absl:<keras.layers.recurrent.LSTMCell object at 0x7fe497f6b910> has the same name 'LSTMCell' as a built-in Keras object. Consider renaming <class 'keras.layers.recurrent.LSTMCell'> to avoid naming conflicts when loading with `tf.keras.models.load_model`. If renaming is not possible, pass the object in the `custom_objects` parameter of the load function.\n"
          ]
        },
        {
          "output_type": "stream",
          "name": "stdout",
          "text": [
            "\b\b\b\b\b\b\b\b\b\b\b\b\b\b\b\b\b\b\b\b\b\b\b\b\b\b\b\b\b\b\b\b\b\b\b\b\b\b\b\b\b\b\b\b\b\b\b\b\b\b\b\b\b\b\b\b\b\b\b\b\b\b\b\r73/73 [==============================] - 2s 28ms/step - loss: 0.0024 - val_loss: 0.0034\n",
            "Epoch 47/200\n",
            "67/73 [==========================>...] - ETA: 0s - loss: 0.0025\n",
            "Epoch 47: val_loss improved from 0.00343 to 0.00343, saving model to /content/drive/MyDrive/DNA/농넷_AIFactory/tmp_checkpoint.h10\n"
          ]
        },
        {
          "output_type": "stream",
          "name": "stderr",
          "text": [
            "WARNING:absl:<keras.layers.recurrent.LSTMCell object at 0x7fe497f6b910> has the same name 'LSTMCell' as a built-in Keras object. Consider renaming <class 'keras.layers.recurrent.LSTMCell'> to avoid naming conflicts when loading with `tf.keras.models.load_model`. If renaming is not possible, pass the object in the `custom_objects` parameter of the load function.\n"
          ]
        },
        {
          "output_type": "stream",
          "name": "stdout",
          "text": [
            "\b\b\b\b\b\b\b\b\b\b\b\b\b\b\b\b\b\b\b\b\b\b\b\b\b\b\b\b\b\b\b\b\b\b\b\b\b\b\b\b\b\b\b\b\b\b\b\b\b\b\b\b\b\b\b\b\b\b\b\b\b\b\b\r73/73 [==============================] - 2s 28ms/step - loss: 0.0024 - val_loss: 0.0034\n",
            "Epoch 48/200\n",
            "68/73 [==========================>...] - ETA: 0s - loss: 0.0025\n",
            "Epoch 48: val_loss improved from 0.00343 to 0.00341, saving model to /content/drive/MyDrive/DNA/농넷_AIFactory/tmp_checkpoint.h10\n"
          ]
        },
        {
          "output_type": "stream",
          "name": "stderr",
          "text": [
            "WARNING:absl:<keras.layers.recurrent.LSTMCell object at 0x7fe497f6b910> has the same name 'LSTMCell' as a built-in Keras object. Consider renaming <class 'keras.layers.recurrent.LSTMCell'> to avoid naming conflicts when loading with `tf.keras.models.load_model`. If renaming is not possible, pass the object in the `custom_objects` parameter of the load function.\n"
          ]
        },
        {
          "output_type": "stream",
          "name": "stdout",
          "text": [
            "\b\b\b\b\b\b\b\b\b\b\b\b\b\b\b\b\b\b\b\b\b\b\b\b\b\b\b\b\b\b\b\b\b\b\b\b\b\b\b\b\b\b\b\b\b\b\b\b\b\b\b\b\b\b\b\b\b\b\b\b\b\b\b\r73/73 [==============================] - 2s 32ms/step - loss: 0.0024 - val_loss: 0.0034\n",
            "Epoch 49/200\n",
            "71/73 [============================>.] - ETA: 0s - loss: 0.0024\n",
            "Epoch 49: val_loss did not improve from 0.00341\n",
            "73/73 [==============================] - 0s 4ms/step - loss: 0.0024 - val_loss: 0.0034\n",
            "Epoch 50/200\n",
            "72/73 [============================>.] - ETA: 0s - loss: 0.0024\n",
            "Epoch 50: val_loss did not improve from 0.00341\n",
            "73/73 [==============================] - 0s 4ms/step - loss: 0.0024 - val_loss: 0.0034\n",
            "Epoch 51/200\n",
            "70/73 [===========================>..] - ETA: 0s - loss: 0.0024\n",
            "Epoch 51: val_loss improved from 0.00341 to 0.00338, saving model to /content/drive/MyDrive/DNA/농넷_AIFactory/tmp_checkpoint.h10\n"
          ]
        },
        {
          "output_type": "stream",
          "name": "stderr",
          "text": [
            "WARNING:absl:<keras.layers.recurrent.LSTMCell object at 0x7fe497f6b910> has the same name 'LSTMCell' as a built-in Keras object. Consider renaming <class 'keras.layers.recurrent.LSTMCell'> to avoid naming conflicts when loading with `tf.keras.models.load_model`. If renaming is not possible, pass the object in the `custom_objects` parameter of the load function.\n"
          ]
        },
        {
          "output_type": "stream",
          "name": "stdout",
          "text": [
            "\b\b\b\b\b\b\b\b\b\b\b\b\b\b\b\b\b\b\b\b\b\b\b\b\b\b\b\b\b\b\b\b\b\b\b\b\b\b\b\b\b\b\b\b\b\b\b\b\b\b\b\b\b\b\b\b\b\b\b\b\b\b\b\r73/73 [==============================] - 2s 28ms/step - loss: 0.0024 - val_loss: 0.0034\n",
            "Epoch 52/200\n",
            "70/73 [===========================>..] - ETA: 0s - loss: 0.0024\n",
            "Epoch 52: val_loss improved from 0.00338 to 0.00337, saving model to /content/drive/MyDrive/DNA/농넷_AIFactory/tmp_checkpoint.h10\n"
          ]
        },
        {
          "output_type": "stream",
          "name": "stderr",
          "text": [
            "WARNING:absl:<keras.layers.recurrent.LSTMCell object at 0x7fe497f6b910> has the same name 'LSTMCell' as a built-in Keras object. Consider renaming <class 'keras.layers.recurrent.LSTMCell'> to avoid naming conflicts when loading with `tf.keras.models.load_model`. If renaming is not possible, pass the object in the `custom_objects` parameter of the load function.\n"
          ]
        },
        {
          "output_type": "stream",
          "name": "stdout",
          "text": [
            "\b\b\b\b\b\b\b\b\b\b\b\b\b\b\b\b\b\b\b\b\b\b\b\b\b\b\b\b\b\b\b\b\b\b\b\b\b\b\b\b\b\b\b\b\b\b\b\b\b\b\b\b\b\b\b\b\b\b\b\b\b\b\b\r73/73 [==============================] - 2s 27ms/step - loss: 0.0024 - val_loss: 0.0034\n",
            "Epoch 53/200\n",
            "69/73 [===========================>..] - ETA: 0s - loss: 0.0017\n",
            "Epoch 53: val_loss improved from 0.00337 to 0.00336, saving model to /content/drive/MyDrive/DNA/농넷_AIFactory/tmp_checkpoint.h10\n"
          ]
        },
        {
          "output_type": "stream",
          "name": "stderr",
          "text": [
            "WARNING:absl:<keras.layers.recurrent.LSTMCell object at 0x7fe497f6b910> has the same name 'LSTMCell' as a built-in Keras object. Consider renaming <class 'keras.layers.recurrent.LSTMCell'> to avoid naming conflicts when loading with `tf.keras.models.load_model`. If renaming is not possible, pass the object in the `custom_objects` parameter of the load function.\n"
          ]
        },
        {
          "output_type": "stream",
          "name": "stdout",
          "text": [
            "\b\b\b\b\b\b\b\b\b\b\b\b\b\b\b\b\b\b\b\b\b\b\b\b\b\b\b\b\b\b\b\b\b\b\b\b\b\b\b\b\b\b\b\b\b\b\b\b\b\b\b\b\b\b\b\b\b\b\b\b\b\b\b\r73/73 [==============================] - 2s 28ms/step - loss: 0.0024 - val_loss: 0.0034\n",
            "Epoch 54/200\n",
            "70/73 [===========================>..] - ETA: 0s - loss: 0.0024\n",
            "Epoch 54: val_loss improved from 0.00336 to 0.00335, saving model to /content/drive/MyDrive/DNA/농넷_AIFactory/tmp_checkpoint.h10\n"
          ]
        },
        {
          "output_type": "stream",
          "name": "stderr",
          "text": [
            "WARNING:absl:<keras.layers.recurrent.LSTMCell object at 0x7fe497f6b910> has the same name 'LSTMCell' as a built-in Keras object. Consider renaming <class 'keras.layers.recurrent.LSTMCell'> to avoid naming conflicts when loading with `tf.keras.models.load_model`. If renaming is not possible, pass the object in the `custom_objects` parameter of the load function.\n"
          ]
        },
        {
          "output_type": "stream",
          "name": "stdout",
          "text": [
            "\b\b\b\b\b\b\b\b\b\b\b\b\b\b\b\b\b\b\b\b\b\b\b\b\b\b\b\b\b\b\b\b\b\b\b\b\b\b\b\b\b\b\b\b\b\b\b\b\b\b\b\b\b\b\b\b\b\b\b\b\b\b\b\r73/73 [==============================] - 2s 32ms/step - loss: 0.0024 - val_loss: 0.0034\n",
            "Epoch 55/200\n",
            "63/73 [========================>.....] - ETA: 0s - loss: 0.0026\n",
            "Epoch 55: val_loss improved from 0.00335 to 0.00334, saving model to /content/drive/MyDrive/DNA/농넷_AIFactory/tmp_checkpoint.h10\n"
          ]
        },
        {
          "output_type": "stream",
          "name": "stderr",
          "text": [
            "WARNING:absl:<keras.layers.recurrent.LSTMCell object at 0x7fe497f6b910> has the same name 'LSTMCell' as a built-in Keras object. Consider renaming <class 'keras.layers.recurrent.LSTMCell'> to avoid naming conflicts when loading with `tf.keras.models.load_model`. If renaming is not possible, pass the object in the `custom_objects` parameter of the load function.\n"
          ]
        },
        {
          "output_type": "stream",
          "name": "stdout",
          "text": [
            "\b\b\b\b\b\b\b\b\b\b\b\b\b\b\b\b\b\b\b\b\b\b\b\b\b\b\b\b\b\b\b\b\b\b\b\b\b\b\b\b\b\b\b\b\b\b\b\b\b\b\b\b\b\b\b\b\b\b\b\b\b\b\b\r73/73 [==============================] - 2s 28ms/step - loss: 0.0024 - val_loss: 0.0033\n",
            "Epoch 56/200\n",
            "66/73 [==========================>...] - ETA: 0s - loss: 0.0018\n",
            "Epoch 56: val_loss did not improve from 0.00334\n",
            "73/73 [==============================] - 0s 4ms/step - loss: 0.0024 - val_loss: 0.0033\n",
            "Epoch 57/200\n",
            "68/73 [==========================>...] - ETA: 0s - loss: 0.0024\n",
            "Epoch 57: val_loss did not improve from 0.00334\n",
            "73/73 [==============================] - 0s 4ms/step - loss: 0.0024 - val_loss: 0.0033\n",
            "Epoch 58/200\n",
            "65/73 [=========================>....] - ETA: 0s - loss: 0.0025\n",
            "Epoch 58: val_loss did not improve from 0.00334\n",
            "73/73 [==============================] - 0s 4ms/step - loss: 0.0024 - val_loss: 0.0034\n",
            "Epoch 59/200\n",
            "65/73 [=========================>....] - ETA: 0s - loss: 0.0025    \n",
            "Epoch 59: val_loss improved from 0.00334 to 0.00331, saving model to /content/drive/MyDrive/DNA/농넷_AIFactory/tmp_checkpoint.h10\n"
          ]
        },
        {
          "output_type": "stream",
          "name": "stderr",
          "text": [
            "WARNING:absl:<keras.layers.recurrent.LSTMCell object at 0x7fe497f6b910> has the same name 'LSTMCell' as a built-in Keras object. Consider renaming <class 'keras.layers.recurrent.LSTMCell'> to avoid naming conflicts when loading with `tf.keras.models.load_model`. If renaming is not possible, pass the object in the `custom_objects` parameter of the load function.\n"
          ]
        },
        {
          "output_type": "stream",
          "name": "stdout",
          "text": [
            "\b\b\b\b\b\b\b\b\b\b\b\b\b\b\b\b\b\b\b\b\b\b\b\b\b\b\b\b\b\b\b\b\b\b\b\b\b\b\b\b\b\b\b\b\b\b\b\b\b\b\b\b\b\b\b\b\b\b\b\b\b\b\b\r73/73 [==============================] - 2s 27ms/step - loss: 0.0024 - val_loss: 0.0033\n",
            "Epoch 60/200\n",
            "64/73 [=========================>....] - ETA: 0s - loss: 0.0025\n",
            "Epoch 60: val_loss improved from 0.00331 to 0.00330, saving model to /content/drive/MyDrive/DNA/농넷_AIFactory/tmp_checkpoint.h10\n"
          ]
        },
        {
          "output_type": "stream",
          "name": "stderr",
          "text": [
            "WARNING:absl:<keras.layers.recurrent.LSTMCell object at 0x7fe497f6b910> has the same name 'LSTMCell' as a built-in Keras object. Consider renaming <class 'keras.layers.recurrent.LSTMCell'> to avoid naming conflicts when loading with `tf.keras.models.load_model`. If renaming is not possible, pass the object in the `custom_objects` parameter of the load function.\n"
          ]
        },
        {
          "output_type": "stream",
          "name": "stdout",
          "text": [
            "\b\b\b\b\b\b\b\b\b\b\b\b\b\b\b\b\b\b\b\b\b\b\b\b\b\b\b\b\b\b\b\b\b\b\b\b\b\b\b\b\b\b\b\b\b\b\b\b\b\b\b\b\b\b\b\b\b\b\b\b\b\b\b\r73/73 [==============================] - 2s 33ms/step - loss: 0.0023 - val_loss: 0.0033\n",
            "Epoch 61/200\n",
            "71/73 [============================>.] - ETA: 0s - loss: 0.0024\n",
            "Epoch 61: val_loss did not improve from 0.00330\n",
            "73/73 [==============================] - 0s 4ms/step - loss: 0.0023 - val_loss: 0.0033\n",
            "Epoch 62/200\n",
            "70/73 [===========================>..] - ETA: 0s - loss: 0.0024\n",
            "Epoch 62: val_loss improved from 0.00330 to 0.00328, saving model to /content/drive/MyDrive/DNA/농넷_AIFactory/tmp_checkpoint.h10\n"
          ]
        },
        {
          "output_type": "stream",
          "name": "stderr",
          "text": [
            "WARNING:absl:<keras.layers.recurrent.LSTMCell object at 0x7fe497f6b910> has the same name 'LSTMCell' as a built-in Keras object. Consider renaming <class 'keras.layers.recurrent.LSTMCell'> to avoid naming conflicts when loading with `tf.keras.models.load_model`. If renaming is not possible, pass the object in the `custom_objects` parameter of the load function.\n"
          ]
        },
        {
          "output_type": "stream",
          "name": "stdout",
          "text": [
            "\b\b\b\b\b\b\b\b\b\b\b\b\b\b\b\b\b\b\b\b\b\b\b\b\b\b\b\b\b\b\b\b\b\b\b\b\b\b\b\b\b\b\b\b\b\b\b\b\b\b\b\b\b\b\b\b\b\b\b\b\b\b\b\r73/73 [==============================] - 2s 28ms/step - loss: 0.0023 - val_loss: 0.0033\n",
            "Epoch 63/200\n",
            "69/73 [===========================>..] - ETA: 0s - loss: 0.0024\n",
            "Epoch 63: val_loss did not improve from 0.00328\n",
            "73/73 [==============================] - 0s 4ms/step - loss: 0.0023 - val_loss: 0.0033\n",
            "Epoch 64/200\n",
            "68/73 [==========================>...] - ETA: 0s - loss: 0.0024\n",
            "Epoch 64: val_loss did not improve from 0.00328\n",
            "73/73 [==============================] - 0s 4ms/step - loss: 0.0023 - val_loss: 0.0033\n",
            "Epoch 65/200\n",
            "65/73 [=========================>....] - ETA: 0s - loss: 0.0025\n",
            "Epoch 65: val_loss improved from 0.00328 to 0.00327, saving model to /content/drive/MyDrive/DNA/농넷_AIFactory/tmp_checkpoint.h10\n"
          ]
        },
        {
          "output_type": "stream",
          "name": "stderr",
          "text": [
            "WARNING:absl:<keras.layers.recurrent.LSTMCell object at 0x7fe497f6b910> has the same name 'LSTMCell' as a built-in Keras object. Consider renaming <class 'keras.layers.recurrent.LSTMCell'> to avoid naming conflicts when loading with `tf.keras.models.load_model`. If renaming is not possible, pass the object in the `custom_objects` parameter of the load function.\n"
          ]
        },
        {
          "output_type": "stream",
          "name": "stdout",
          "text": [
            "\b\b\b\b\b\b\b\b\b\b\b\b\b\b\b\b\b\b\b\b\b\b\b\b\b\b\b\b\b\b\b\b\b\b\b\b\b\b\b\b\b\b\b\b\b\b\b\b\b\b\b\b\b\b\b\b\b\b\b\b\b\b\b\r73/73 [==============================] - 2s 28ms/step - loss: 0.0023 - val_loss: 0.0033\n",
            "Epoch 66/200\n",
            "65/73 [=========================>....] - ETA: 0s - loss: 0.0025\n",
            "Epoch 66: val_loss did not improve from 0.00327\n",
            "73/73 [==============================] - 0s 4ms/step - loss: 0.0023 - val_loss: 0.0033\n",
            "Epoch 67/200\n",
            "67/73 [==========================>...] - ETA: 0s - loss: 0.0024\n",
            "Epoch 67: val_loss improved from 0.00327 to 0.00326, saving model to /content/drive/MyDrive/DNA/농넷_AIFactory/tmp_checkpoint.h10\n"
          ]
        },
        {
          "output_type": "stream",
          "name": "stderr",
          "text": [
            "WARNING:absl:<keras.layers.recurrent.LSTMCell object at 0x7fe497f6b910> has the same name 'LSTMCell' as a built-in Keras object. Consider renaming <class 'keras.layers.recurrent.LSTMCell'> to avoid naming conflicts when loading with `tf.keras.models.load_model`. If renaming is not possible, pass the object in the `custom_objects` parameter of the load function.\n"
          ]
        },
        {
          "output_type": "stream",
          "name": "stdout",
          "text": [
            "\b\b\b\b\b\b\b\b\b\b\b\b\b\b\b\b\b\b\b\b\b\b\b\b\b\b\b\b\b\b\b\b\b\b\b\b\b\b\b\b\b\b\b\b\b\b\b\b\b\b\b\b\b\b\b\b\b\b\b\b\b\b\b\r73/73 [==============================] - 2s 28ms/step - loss: 0.0023 - val_loss: 0.0033\n",
            "Epoch 68/200\n",
            "65/73 [=========================>....] - ETA: 0s - loss: 0.0024\n",
            "Epoch 68: val_loss did not improve from 0.00326\n",
            "73/73 [==============================] - 0s 4ms/step - loss: 0.0023 - val_loss: 0.0033\n",
            "Epoch 69/200\n",
            "67/73 [==========================>...] - ETA: 0s - loss: 0.0024\n",
            "Epoch 69: val_loss improved from 0.00326 to 0.00325, saving model to /content/drive/MyDrive/DNA/농넷_AIFactory/tmp_checkpoint.h10\n"
          ]
        },
        {
          "output_type": "stream",
          "name": "stderr",
          "text": [
            "WARNING:absl:<keras.layers.recurrent.LSTMCell object at 0x7fe497f6b910> has the same name 'LSTMCell' as a built-in Keras object. Consider renaming <class 'keras.layers.recurrent.LSTMCell'> to avoid naming conflicts when loading with `tf.keras.models.load_model`. If renaming is not possible, pass the object in the `custom_objects` parameter of the load function.\n"
          ]
        },
        {
          "output_type": "stream",
          "name": "stdout",
          "text": [
            "\b\b\b\b\b\b\b\b\b\b\b\b\b\b\b\b\b\b\b\b\b\b\b\b\b\b\b\b\b\b\b\b\b\b\b\b\b\b\b\b\b\b\b\b\b\b\b\b\b\b\b\b\b\b\b\b\b\b\b\b\b\b\b\r73/73 [==============================] - 2s 33ms/step - loss: 0.0023 - val_loss: 0.0033\n",
            "Epoch 70/200\n",
            "65/73 [=========================>....] - ETA: 0s - loss: 0.0024    \n",
            "Epoch 70: val_loss did not improve from 0.00325\n",
            "73/73 [==============================] - 0s 4ms/step - loss: 0.0023 - val_loss: 0.0033\n",
            "Epoch 71/200\n",
            "69/73 [===========================>..] - ETA: 0s - loss: 0.0024\n",
            "Epoch 71: val_loss improved from 0.00325 to 0.00323, saving model to /content/drive/MyDrive/DNA/농넷_AIFactory/tmp_checkpoint.h10\n"
          ]
        },
        {
          "output_type": "stream",
          "name": "stderr",
          "text": [
            "WARNING:absl:<keras.layers.recurrent.LSTMCell object at 0x7fe497f6b910> has the same name 'LSTMCell' as a built-in Keras object. Consider renaming <class 'keras.layers.recurrent.LSTMCell'> to avoid naming conflicts when loading with `tf.keras.models.load_model`. If renaming is not possible, pass the object in the `custom_objects` parameter of the load function.\n"
          ]
        },
        {
          "output_type": "stream",
          "name": "stdout",
          "text": [
            "\b\b\b\b\b\b\b\b\b\b\b\b\b\b\b\b\b\b\b\b\b\b\b\b\b\b\b\b\b\b\b\b\b\b\b\b\b\b\b\b\b\b\b\b\b\b\b\b\b\b\b\b\b\b\b\b\b\b\b\b\b\b\b\r73/73 [==============================] - 2s 29ms/step - loss: 0.0023 - val_loss: 0.0032\n",
            "Epoch 72/200\n",
            "68/73 [==========================>...] - ETA: 0s - loss: 0.0024\n",
            "Epoch 72: val_loss did not improve from 0.00323\n",
            "73/73 [==============================] - 0s 4ms/step - loss: 0.0023 - val_loss: 0.0032\n",
            "Epoch 73/200\n",
            "71/73 [============================>.] - ETA: 0s - loss: 0.0023\n",
            "Epoch 73: val_loss improved from 0.00323 to 0.00323, saving model to /content/drive/MyDrive/DNA/농넷_AIFactory/tmp_checkpoint.h10\n"
          ]
        },
        {
          "output_type": "stream",
          "name": "stderr",
          "text": [
            "WARNING:absl:<keras.layers.recurrent.LSTMCell object at 0x7fe497f6b910> has the same name 'LSTMCell' as a built-in Keras object. Consider renaming <class 'keras.layers.recurrent.LSTMCell'> to avoid naming conflicts when loading with `tf.keras.models.load_model`. If renaming is not possible, pass the object in the `custom_objects` parameter of the load function.\n"
          ]
        },
        {
          "output_type": "stream",
          "name": "stdout",
          "text": [
            "\b\b\b\b\b\b\b\b\b\b\b\b\b\b\b\b\b\b\b\b\b\b\b\b\b\b\b\b\b\b\b\b\b\b\b\b\b\b\b\b\b\b\b\b\b\b\b\b\b\b\b\b\b\b\b\b\b\b\b\b\b\b\b\r73/73 [==============================] - 2s 28ms/step - loss: 0.0023 - val_loss: 0.0032\n",
            "Epoch 74/200\n",
            "67/73 [==========================>...] - ETA: 0s - loss: 0.0024\n",
            "Epoch 74: val_loss did not improve from 0.00323\n",
            "73/73 [==============================] - 0s 4ms/step - loss: 0.0023 - val_loss: 0.0032\n",
            "Epoch 75/200\n",
            "69/73 [===========================>..] - ETA: 0s - loss: 0.0023\n",
            "Epoch 75: val_loss improved from 0.00323 to 0.00321, saving model to /content/drive/MyDrive/DNA/농넷_AIFactory/tmp_checkpoint.h10\n"
          ]
        },
        {
          "output_type": "stream",
          "name": "stderr",
          "text": [
            "WARNING:absl:<keras.layers.recurrent.LSTMCell object at 0x7fe497f6b910> has the same name 'LSTMCell' as a built-in Keras object. Consider renaming <class 'keras.layers.recurrent.LSTMCell'> to avoid naming conflicts when loading with `tf.keras.models.load_model`. If renaming is not possible, pass the object in the `custom_objects` parameter of the load function.\n"
          ]
        },
        {
          "output_type": "stream",
          "name": "stdout",
          "text": [
            "\b\b\b\b\b\b\b\b\b\b\b\b\b\b\b\b\b\b\b\b\b\b\b\b\b\b\b\b\b\b\b\b\b\b\b\b\b\b\b\b\b\b\b\b\b\b\b\b\b\b\b\b\b\b\b\b\b\b\b\b\b\b\b\r73/73 [==============================] - 2s 28ms/step - loss: 0.0023 - val_loss: 0.0032\n",
            "Epoch 76/200\n",
            "68/73 [==========================>...] - ETA: 0s - loss: 0.0024\n",
            "Epoch 76: val_loss improved from 0.00321 to 0.00321, saving model to /content/drive/MyDrive/DNA/농넷_AIFactory/tmp_checkpoint.h10\n"
          ]
        },
        {
          "output_type": "stream",
          "name": "stderr",
          "text": [
            "WARNING:absl:<keras.layers.recurrent.LSTMCell object at 0x7fe497f6b910> has the same name 'LSTMCell' as a built-in Keras object. Consider renaming <class 'keras.layers.recurrent.LSTMCell'> to avoid naming conflicts when loading with `tf.keras.models.load_model`. If renaming is not possible, pass the object in the `custom_objects` parameter of the load function.\n"
          ]
        },
        {
          "output_type": "stream",
          "name": "stdout",
          "text": [
            "\b\b\b\b\b\b\b\b\b\b\b\b\b\b\b\b\b\b\b\b\b\b\b\b\b\b\b\b\b\b\b\b\b\b\b\b\b\b\b\b\b\b\b\b\b\b\b\b\b\b\b\b\b\b\b\b\b\b\b\b\b\b\b\r73/73 [==============================] - 2s 33ms/step - loss: 0.0023 - val_loss: 0.0032\n",
            "Epoch 77/200\n",
            "68/73 [==========================>...] - ETA: 0s - loss: 0.0024\n",
            "Epoch 77: val_loss did not improve from 0.00321\n",
            "73/73 [==============================] - 0s 4ms/step - loss: 0.0023 - val_loss: 0.0032\n",
            "Epoch 78/200\n",
            "67/73 [==========================>...] - ETA: 0s - loss: 0.0024\n",
            "Epoch 78: val_loss improved from 0.00321 to 0.00320, saving model to /content/drive/MyDrive/DNA/농넷_AIFactory/tmp_checkpoint.h10\n"
          ]
        },
        {
          "output_type": "stream",
          "name": "stderr",
          "text": [
            "WARNING:absl:<keras.layers.recurrent.LSTMCell object at 0x7fe497f6b910> has the same name 'LSTMCell' as a built-in Keras object. Consider renaming <class 'keras.layers.recurrent.LSTMCell'> to avoid naming conflicts when loading with `tf.keras.models.load_model`. If renaming is not possible, pass the object in the `custom_objects` parameter of the load function.\n"
          ]
        },
        {
          "output_type": "stream",
          "name": "stdout",
          "text": [
            "\b\b\b\b\b\b\b\b\b\b\b\b\b\b\b\b\b\b\b\b\b\b\b\b\b\b\b\b\b\b\b\b\b\b\b\b\b\b\b\b\b\b\b\b\b\b\b\b\b\b\b\b\b\b\b\b\b\b\b\b\b\b\b\r73/73 [==============================] - 2s 28ms/step - loss: 0.0023 - val_loss: 0.0032\n",
            "Epoch 79/200\n",
            "67/73 [==========================>...] - ETA: 0s - loss: 0.0024\n",
            "Epoch 79: val_loss improved from 0.00320 to 0.00319, saving model to /content/drive/MyDrive/DNA/농넷_AIFactory/tmp_checkpoint.h10\n"
          ]
        },
        {
          "output_type": "stream",
          "name": "stderr",
          "text": [
            "WARNING:absl:<keras.layers.recurrent.LSTMCell object at 0x7fe497f6b910> has the same name 'LSTMCell' as a built-in Keras object. Consider renaming <class 'keras.layers.recurrent.LSTMCell'> to avoid naming conflicts when loading with `tf.keras.models.load_model`. If renaming is not possible, pass the object in the `custom_objects` parameter of the load function.\n"
          ]
        },
        {
          "output_type": "stream",
          "name": "stdout",
          "text": [
            "\b\b\b\b\b\b\b\b\b\b\b\b\b\b\b\b\b\b\b\b\b\b\b\b\b\b\b\b\b\b\b\b\b\b\b\b\b\b\b\b\b\b\b\b\b\b\b\b\b\b\b\b\b\b\b\b\b\b\b\b\b\b\b\r73/73 [==============================] - 2s 29ms/step - loss: 0.0023 - val_loss: 0.0032\n",
            "Epoch 80/200\n",
            "67/73 [==========================>...] - ETA: 0s - loss: 0.0023\n",
            "Epoch 80: val_loss did not improve from 0.00319\n",
            "73/73 [==============================] - 0s 4ms/step - loss: 0.0023 - val_loss: 0.0032\n",
            "Epoch 81/200\n",
            "66/73 [==========================>...] - ETA: 0s - loss: 0.0024\n",
            "Epoch 81: val_loss improved from 0.00319 to 0.00319, saving model to /content/drive/MyDrive/DNA/농넷_AIFactory/tmp_checkpoint.h10\n"
          ]
        },
        {
          "output_type": "stream",
          "name": "stderr",
          "text": [
            "WARNING:absl:<keras.layers.recurrent.LSTMCell object at 0x7fe497f6b910> has the same name 'LSTMCell' as a built-in Keras object. Consider renaming <class 'keras.layers.recurrent.LSTMCell'> to avoid naming conflicts when loading with `tf.keras.models.load_model`. If renaming is not possible, pass the object in the `custom_objects` parameter of the load function.\n"
          ]
        },
        {
          "output_type": "stream",
          "name": "stdout",
          "text": [
            "\b\b\b\b\b\b\b\b\b\b\b\b\b\b\b\b\b\b\b\b\b\b\b\b\b\b\b\b\b\b\b\b\b\b\b\b\b\b\b\b\b\b\b\b\b\b\b\b\b\b\b\b\b\b\b\b\b\b\b\b\b\b\b\r73/73 [==============================] - 2s 28ms/step - loss: 0.0023 - val_loss: 0.0032\n",
            "Epoch 82/200\n",
            "66/73 [==========================>...] - ETA: 0s - loss: 0.0024\n",
            "Epoch 82: val_loss did not improve from 0.00319\n",
            "73/73 [==============================] - 0s 4ms/step - loss: 0.0023 - val_loss: 0.0032\n",
            "Epoch 83/200\n",
            "69/73 [===========================>..] - ETA: 0s - loss: 0.0023\n",
            "Epoch 83: val_loss improved from 0.00319 to 0.00317, saving model to /content/drive/MyDrive/DNA/농넷_AIFactory/tmp_checkpoint.h10\n"
          ]
        },
        {
          "output_type": "stream",
          "name": "stderr",
          "text": [
            "WARNING:absl:<keras.layers.recurrent.LSTMCell object at 0x7fe497f6b910> has the same name 'LSTMCell' as a built-in Keras object. Consider renaming <class 'keras.layers.recurrent.LSTMCell'> to avoid naming conflicts when loading with `tf.keras.models.load_model`. If renaming is not possible, pass the object in the `custom_objects` parameter of the load function.\n"
          ]
        },
        {
          "output_type": "stream",
          "name": "stdout",
          "text": [
            "\b\b\b\b\b\b\b\b\b\b\b\b\b\b\b\b\b\b\b\b\b\b\b\b\b\b\b\b\b\b\b\b\b\b\b\b\b\b\b\b\b\b\b\b\b\b\b\b\b\b\b\b\b\b\b\b\b\b\b\b\b\b\b\r73/73 [==============================] - 2s 33ms/step - loss: 0.0023 - val_loss: 0.0032\n",
            "Epoch 84/200\n",
            "71/73 [============================>.] - ETA: 0s - loss: 0.0023\n",
            "Epoch 84: val_loss improved from 0.00317 to 0.00317, saving model to /content/drive/MyDrive/DNA/농넷_AIFactory/tmp_checkpoint.h10\n"
          ]
        },
        {
          "output_type": "stream",
          "name": "stderr",
          "text": [
            "WARNING:absl:<keras.layers.recurrent.LSTMCell object at 0x7fe497f6b910> has the same name 'LSTMCell' as a built-in Keras object. Consider renaming <class 'keras.layers.recurrent.LSTMCell'> to avoid naming conflicts when loading with `tf.keras.models.load_model`. If renaming is not possible, pass the object in the `custom_objects` parameter of the load function.\n"
          ]
        },
        {
          "output_type": "stream",
          "name": "stdout",
          "text": [
            "\b\b\b\b\b\b\b\b\b\b\b\b\b\b\b\b\b\b\b\b\b\b\b\b\b\b\b\b\b\b\b\b\b\b\b\b\b\b\b\b\b\b\b\b\b\b\b\b\b\b\b\b\b\b\b\b\b\b\b\b\b\b\b\r73/73 [==============================] - 2s 28ms/step - loss: 0.0023 - val_loss: 0.0032\n",
            "Epoch 85/200\n",
            "73/73 [==============================] - ETA: 0s - loss: 0.0023\n",
            "Epoch 85: val_loss did not improve from 0.00317\n",
            "73/73 [==============================] - 0s 4ms/step - loss: 0.0023 - val_loss: 0.0032\n",
            "Epoch 86/200\n",
            "70/73 [===========================>..] - ETA: 0s - loss: 0.0017\n",
            "Epoch 86: val_loss improved from 0.00317 to 0.00316, saving model to /content/drive/MyDrive/DNA/농넷_AIFactory/tmp_checkpoint.h10\n"
          ]
        },
        {
          "output_type": "stream",
          "name": "stderr",
          "text": [
            "WARNING:absl:<keras.layers.recurrent.LSTMCell object at 0x7fe497f6b910> has the same name 'LSTMCell' as a built-in Keras object. Consider renaming <class 'keras.layers.recurrent.LSTMCell'> to avoid naming conflicts when loading with `tf.keras.models.load_model`. If renaming is not possible, pass the object in the `custom_objects` parameter of the load function.\n"
          ]
        },
        {
          "output_type": "stream",
          "name": "stdout",
          "text": [
            "\b\b\b\b\b\b\b\b\b\b\b\b\b\b\b\b\b\b\b\b\b\b\b\b\b\b\b\b\b\b\b\b\b\b\b\b\b\b\b\b\b\b\b\b\b\b\b\b\b\b\b\b\b\b\b\b\b\b\b\b\b\b\b\r73/73 [==============================] - 2s 28ms/step - loss: 0.0023 - val_loss: 0.0032\n",
            "Epoch 87/200\n",
            "72/73 [============================>.] - ETA: 0s - loss: 0.0022\n",
            "Epoch 87: val_loss improved from 0.00316 to 0.00316, saving model to /content/drive/MyDrive/DNA/농넷_AIFactory/tmp_checkpoint.h10\n"
          ]
        },
        {
          "output_type": "stream",
          "name": "stderr",
          "text": [
            "WARNING:absl:<keras.layers.recurrent.LSTMCell object at 0x7fe497f6b910> has the same name 'LSTMCell' as a built-in Keras object. Consider renaming <class 'keras.layers.recurrent.LSTMCell'> to avoid naming conflicts when loading with `tf.keras.models.load_model`. If renaming is not possible, pass the object in the `custom_objects` parameter of the load function.\n"
          ]
        },
        {
          "output_type": "stream",
          "name": "stdout",
          "text": [
            "\b\b\b\b\b\b\b\b\b\b\b\b\b\b\b\b\b\b\b\b\b\b\b\b\b\b\b\b\b\b\b\b\b\b\b\b\b\b\b\b\b\b\b\b\b\b\b\b\b\b\b\b\b\b\b\b\b\b\b\b\b\b\b\r73/73 [==============================] - 2s 32ms/step - loss: 0.0022 - val_loss: 0.0032\n",
            "Epoch 88/200\n",
            "61/73 [========================>.....] - ETA: 0s - loss: 0.0025\n",
            "Epoch 88: val_loss did not improve from 0.00316\n",
            "73/73 [==============================] - 0s 5ms/step - loss: 0.0022 - val_loss: 0.0032\n",
            "Epoch 89/200\n",
            "70/73 [===========================>..] - ETA: 0s - loss: 0.0023\n",
            "Epoch 89: val_loss improved from 0.00316 to 0.00315, saving model to /content/drive/MyDrive/DNA/농넷_AIFactory/tmp_checkpoint.h10\n"
          ]
        },
        {
          "output_type": "stream",
          "name": "stderr",
          "text": [
            "WARNING:absl:<keras.layers.recurrent.LSTMCell object at 0x7fe497f6b910> has the same name 'LSTMCell' as a built-in Keras object. Consider renaming <class 'keras.layers.recurrent.LSTMCell'> to avoid naming conflicts when loading with `tf.keras.models.load_model`. If renaming is not possible, pass the object in the `custom_objects` parameter of the load function.\n"
          ]
        },
        {
          "output_type": "stream",
          "name": "stdout",
          "text": [
            "\b\b\b\b\b\b\b\b\b\b\b\b\b\b\b\b\b\b\b\b\b\b\b\b\b\b\b\b\b\b\b\b\b\b\b\b\b\b\b\b\b\b\b\b\b\b\b\b\b\b\b\b\b\b\b\b\b\b\b\b\b\b\b\r73/73 [==============================] - 2s 28ms/step - loss: 0.0022 - val_loss: 0.0031\n",
            "Epoch 90/200\n",
            "69/73 [===========================>..] - ETA: 0s - loss: 0.0023\n",
            "Epoch 90: val_loss improved from 0.00315 to 0.00314, saving model to /content/drive/MyDrive/DNA/농넷_AIFactory/tmp_checkpoint.h10\n"
          ]
        },
        {
          "output_type": "stream",
          "name": "stderr",
          "text": [
            "WARNING:absl:<keras.layers.recurrent.LSTMCell object at 0x7fe497f6b910> has the same name 'LSTMCell' as a built-in Keras object. Consider renaming <class 'keras.layers.recurrent.LSTMCell'> to avoid naming conflicts when loading with `tf.keras.models.load_model`. If renaming is not possible, pass the object in the `custom_objects` parameter of the load function.\n"
          ]
        },
        {
          "output_type": "stream",
          "name": "stdout",
          "text": [
            "\b\b\b\b\b\b\b\b\b\b\b\b\b\b\b\b\b\b\b\b\b\b\b\b\b\b\b\b\b\b\b\b\b\b\b\b\b\b\b\b\b\b\b\b\b\b\b\b\b\b\b\b\b\b\b\b\b\b\b\b\b\b\b\r73/73 [==============================] - 2s 28ms/step - loss: 0.0022 - val_loss: 0.0031\n",
            "Epoch 91/200\n",
            "70/73 [===========================>..] - ETA: 0s - loss: 0.0023\n",
            "Epoch 91: val_loss improved from 0.00314 to 0.00314, saving model to /content/drive/MyDrive/DNA/농넷_AIFactory/tmp_checkpoint.h10\n"
          ]
        },
        {
          "output_type": "stream",
          "name": "stderr",
          "text": [
            "WARNING:absl:<keras.layers.recurrent.LSTMCell object at 0x7fe497f6b910> has the same name 'LSTMCell' as a built-in Keras object. Consider renaming <class 'keras.layers.recurrent.LSTMCell'> to avoid naming conflicts when loading with `tf.keras.models.load_model`. If renaming is not possible, pass the object in the `custom_objects` parameter of the load function.\n"
          ]
        },
        {
          "output_type": "stream",
          "name": "stdout",
          "text": [
            "\b\b\b\b\b\b\b\b\b\b\b\b\b\b\b\b\b\b\b\b\b\b\b\b\b\b\b\b\b\b\b\b\b\b\b\b\b\b\b\b\b\b\b\b\b\b\b\b\b\b\b\b\b\b\b\b\b\b\b\b\b\b\b\r73/73 [==============================] - 2s 28ms/step - loss: 0.0023 - val_loss: 0.0031\n",
            "Epoch 92/200\n",
            "69/73 [===========================>..] - ETA: 0s - loss: 0.0023\n",
            "Epoch 92: val_loss improved from 0.00314 to 0.00314, saving model to /content/drive/MyDrive/DNA/농넷_AIFactory/tmp_checkpoint.h10\n"
          ]
        },
        {
          "output_type": "stream",
          "name": "stderr",
          "text": [
            "WARNING:absl:<keras.layers.recurrent.LSTMCell object at 0x7fe497f6b910> has the same name 'LSTMCell' as a built-in Keras object. Consider renaming <class 'keras.layers.recurrent.LSTMCell'> to avoid naming conflicts when loading with `tf.keras.models.load_model`. If renaming is not possible, pass the object in the `custom_objects` parameter of the load function.\n"
          ]
        },
        {
          "output_type": "stream",
          "name": "stdout",
          "text": [
            "\b\b\b\b\b\b\b\b\b\b\b\b\b\b\b\b\b\b\b\b\b\b\b\b\b\b\b\b\b\b\b\b\b\b\b\b\b\b\b\b\b\b\b\b\b\b\b\b\b\b\b\b\b\b\b\b\b\b\b\b\b\b\b\r73/73 [==============================] - 2s 33ms/step - loss: 0.0022 - val_loss: 0.0031\n",
            "Epoch 93/200\n",
            "68/73 [==========================>...] - ETA: 0s - loss: 0.0023\n",
            "Epoch 93: val_loss improved from 0.00314 to 0.00313, saving model to /content/drive/MyDrive/DNA/농넷_AIFactory/tmp_checkpoint.h10\n"
          ]
        },
        {
          "output_type": "stream",
          "name": "stderr",
          "text": [
            "WARNING:absl:<keras.layers.recurrent.LSTMCell object at 0x7fe497f6b910> has the same name 'LSTMCell' as a built-in Keras object. Consider renaming <class 'keras.layers.recurrent.LSTMCell'> to avoid naming conflicts when loading with `tf.keras.models.load_model`. If renaming is not possible, pass the object in the `custom_objects` parameter of the load function.\n"
          ]
        },
        {
          "output_type": "stream",
          "name": "stdout",
          "text": [
            "\b\b\b\b\b\b\b\b\b\b\b\b\b\b\b\b\b\b\b\b\b\b\b\b\b\b\b\b\b\b\b\b\b\b\b\b\b\b\b\b\b\b\b\b\b\b\b\b\b\b\b\b\b\b\b\b\b\b\b\b\b\b\b\r73/73 [==============================] - 2s 28ms/step - loss: 0.0022 - val_loss: 0.0031\n",
            "Epoch 94/200\n",
            "68/73 [==========================>...] - ETA: 0s - loss: 0.0023\n",
            "Epoch 94: val_loss improved from 0.00313 to 0.00313, saving model to /content/drive/MyDrive/DNA/농넷_AIFactory/tmp_checkpoint.h10\n"
          ]
        },
        {
          "output_type": "stream",
          "name": "stderr",
          "text": [
            "WARNING:absl:<keras.layers.recurrent.LSTMCell object at 0x7fe497f6b910> has the same name 'LSTMCell' as a built-in Keras object. Consider renaming <class 'keras.layers.recurrent.LSTMCell'> to avoid naming conflicts when loading with `tf.keras.models.load_model`. If renaming is not possible, pass the object in the `custom_objects` parameter of the load function.\n"
          ]
        },
        {
          "output_type": "stream",
          "name": "stdout",
          "text": [
            "\b\b\b\b\b\b\b\b\b\b\b\b\b\b\b\b\b\b\b\b\b\b\b\b\b\b\b\b\b\b\b\b\b\b\b\b\b\b\b\b\b\b\b\b\b\b\b\b\b\b\b\b\b\b\b\b\b\b\b\b\b\b\b\r73/73 [==============================] - 2s 28ms/step - loss: 0.0022 - val_loss: 0.0031\n",
            "Epoch 95/200\n",
            "68/73 [==========================>...] - ETA: 0s - loss: 0.0023\n",
            "Epoch 95: val_loss improved from 0.00313 to 0.00312, saving model to /content/drive/MyDrive/DNA/농넷_AIFactory/tmp_checkpoint.h10\n"
          ]
        },
        {
          "output_type": "stream",
          "name": "stderr",
          "text": [
            "WARNING:absl:<keras.layers.recurrent.LSTMCell object at 0x7fe497f6b910> has the same name 'LSTMCell' as a built-in Keras object. Consider renaming <class 'keras.layers.recurrent.LSTMCell'> to avoid naming conflicts when loading with `tf.keras.models.load_model`. If renaming is not possible, pass the object in the `custom_objects` parameter of the load function.\n"
          ]
        },
        {
          "output_type": "stream",
          "name": "stdout",
          "text": [
            "\b\b\b\b\b\b\b\b\b\b\b\b\b\b\b\b\b\b\b\b\b\b\b\b\b\b\b\b\b\b\b\b\b\b\b\b\b\b\b\b\b\b\b\b\b\b\b\b\b\b\b\b\b\b\b\b\b\b\b\b\b\b\b\r73/73 [==============================] - 2s 32ms/step - loss: 0.0022 - val_loss: 0.0031\n",
            "Epoch 96/200\n",
            "65/73 [=========================>....] - ETA: 0s - loss: 0.0024\n",
            "Epoch 96: val_loss improved from 0.00312 to 0.00312, saving model to /content/drive/MyDrive/DNA/농넷_AIFactory/tmp_checkpoint.h10\n"
          ]
        },
        {
          "output_type": "stream",
          "name": "stderr",
          "text": [
            "WARNING:absl:<keras.layers.recurrent.LSTMCell object at 0x7fe497f6b910> has the same name 'LSTMCell' as a built-in Keras object. Consider renaming <class 'keras.layers.recurrent.LSTMCell'> to avoid naming conflicts when loading with `tf.keras.models.load_model`. If renaming is not possible, pass the object in the `custom_objects` parameter of the load function.\n"
          ]
        },
        {
          "output_type": "stream",
          "name": "stdout",
          "text": [
            "\b\b\b\b\b\b\b\b\b\b\b\b\b\b\b\b\b\b\b\b\b\b\b\b\b\b\b\b\b\b\b\b\b\b\b\b\b\b\b\b\b\b\b\b\b\b\b\b\b\b\b\b\b\b\b\b\b\b\b\b\b\b\b\r73/73 [==============================] - 2s 28ms/step - loss: 0.0022 - val_loss: 0.0031\n",
            "Epoch 97/200\n",
            "65/73 [=========================>....] - ETA: 0s - loss: 0.0017\n",
            "Epoch 97: val_loss did not improve from 0.00312\n",
            "73/73 [==============================] - 0s 4ms/step - loss: 0.0022 - val_loss: 0.0031\n",
            "Epoch 98/200\n",
            "69/73 [===========================>..] - ETA: 0s - loss: 0.0024\n",
            "Epoch 98: val_loss improved from 0.00312 to 0.00310, saving model to /content/drive/MyDrive/DNA/농넷_AIFactory/tmp_checkpoint.h10\n"
          ]
        },
        {
          "output_type": "stream",
          "name": "stderr",
          "text": [
            "WARNING:absl:<keras.layers.recurrent.LSTMCell object at 0x7fe497f6b910> has the same name 'LSTMCell' as a built-in Keras object. Consider renaming <class 'keras.layers.recurrent.LSTMCell'> to avoid naming conflicts when loading with `tf.keras.models.load_model`. If renaming is not possible, pass the object in the `custom_objects` parameter of the load function.\n"
          ]
        },
        {
          "output_type": "stream",
          "name": "stdout",
          "text": [
            "\b\b\b\b\b\b\b\b\b\b\b\b\b\b\b\b\b\b\b\b\b\b\b\b\b\b\b\b\b\b\b\b\b\b\b\b\b\b\b\b\b\b\b\b\b\b\b\b\b\b\b\b\b\b\b\b\b\b\b\b\b\b\b\r73/73 [==============================] - 2s 28ms/step - loss: 0.0023 - val_loss: 0.0031\n",
            "Epoch 99/200\n",
            "67/73 [==========================>...] - ETA: 0s - loss: 0.0023\n",
            "Epoch 99: val_loss improved from 0.00310 to 0.00309, saving model to /content/drive/MyDrive/DNA/농넷_AIFactory/tmp_checkpoint.h10\n"
          ]
        },
        {
          "output_type": "stream",
          "name": "stderr",
          "text": [
            "WARNING:absl:<keras.layers.recurrent.LSTMCell object at 0x7fe497f6b910> has the same name 'LSTMCell' as a built-in Keras object. Consider renaming <class 'keras.layers.recurrent.LSTMCell'> to avoid naming conflicts when loading with `tf.keras.models.load_model`. If renaming is not possible, pass the object in the `custom_objects` parameter of the load function.\n"
          ]
        },
        {
          "output_type": "stream",
          "name": "stdout",
          "text": [
            "\b\b\b\b\b\b\b\b\b\b\b\b\b\b\b\b\b\b\b\b\b\b\b\b\b\b\b\b\b\b\b\b\b\b\b\b\b\b\b\b\b\b\b\b\b\b\b\b\b\b\b\b\b\b\b\b\b\b\b\b\b\b\b\r73/73 [==============================] - 2s 28ms/step - loss: 0.0022 - val_loss: 0.0031\n",
            "Epoch 100/200\n",
            "67/73 [==========================>...] - ETA: 0s - loss: 0.0023\n",
            "Epoch 100: val_loss did not improve from 0.00309\n",
            "73/73 [==============================] - 0s 4ms/step - loss: 0.0022 - val_loss: 0.0031\n",
            "Epoch 101/200\n",
            "63/73 [========================>.....] - ETA: 0s - loss: 0.0024\n",
            "Epoch 101: val_loss did not improve from 0.00309\n",
            "73/73 [==============================] - 0s 4ms/step - loss: 0.0022 - val_loss: 0.0031\n",
            "Epoch 102/200\n",
            "63/73 [========================>.....] - ETA: 0s - loss: 0.0024\n",
            "Epoch 102: val_loss improved from 0.00309 to 0.00309, saving model to /content/drive/MyDrive/DNA/농넷_AIFactory/tmp_checkpoint.h10\n"
          ]
        },
        {
          "output_type": "stream",
          "name": "stderr",
          "text": [
            "WARNING:absl:<keras.layers.recurrent.LSTMCell object at 0x7fe497f6b910> has the same name 'LSTMCell' as a built-in Keras object. Consider renaming <class 'keras.layers.recurrent.LSTMCell'> to avoid naming conflicts when loading with `tf.keras.models.load_model`. If renaming is not possible, pass the object in the `custom_objects` parameter of the load function.\n"
          ]
        },
        {
          "output_type": "stream",
          "name": "stdout",
          "text": [
            "\b\b\b\b\b\b\b\b\b\b\b\b\b\b\b\b\b\b\b\b\b\b\b\b\b\b\b\b\b\b\b\b\b\b\b\b\b\b\b\b\b\b\b\b\b\b\b\b\b\b\b\b\b\b\b\b\b\b\b\b\b\b\b\r73/73 [==============================] - 2s 33ms/step - loss: 0.0022 - val_loss: 0.0031\n",
            "Epoch 103/200\n",
            "72/73 [============================>.] - ETA: 0s - loss: 0.0022\n",
            "Epoch 103: val_loss did not improve from 0.00309\n",
            "73/73 [==============================] - 0s 4ms/step - loss: 0.0022 - val_loss: 0.0031\n",
            "Epoch 104/200\n",
            "66/73 [==========================>...] - ETA: 0s - loss: 0.0023\n",
            "Epoch 104: val_loss improved from 0.00309 to 0.00308, saving model to /content/drive/MyDrive/DNA/농넷_AIFactory/tmp_checkpoint.h10\n"
          ]
        },
        {
          "output_type": "stream",
          "name": "stderr",
          "text": [
            "WARNING:absl:<keras.layers.recurrent.LSTMCell object at 0x7fe497f6b910> has the same name 'LSTMCell' as a built-in Keras object. Consider renaming <class 'keras.layers.recurrent.LSTMCell'> to avoid naming conflicts when loading with `tf.keras.models.load_model`. If renaming is not possible, pass the object in the `custom_objects` parameter of the load function.\n"
          ]
        },
        {
          "output_type": "stream",
          "name": "stdout",
          "text": [
            "\b\b\b\b\b\b\b\b\b\b\b\b\b\b\b\b\b\b\b\b\b\b\b\b\b\b\b\b\b\b\b\b\b\b\b\b\b\b\b\b\b\b\b\b\b\b\b\b\b\b\b\b\b\b\b\b\b\b\b\b\b\b\b\r73/73 [==============================] - 2s 29ms/step - loss: 0.0022 - val_loss: 0.0031\n",
            "Epoch 105/200\n",
            "67/73 [==========================>...] - ETA: 0s - loss: 0.0023\n",
            "Epoch 105: val_loss did not improve from 0.00308\n",
            "73/73 [==============================] - 0s 4ms/step - loss: 0.0022 - val_loss: 0.0031\n",
            "Epoch 106/200\n",
            "69/73 [===========================>..] - ETA: 0s - loss: 0.0023\n",
            "Epoch 106: val_loss did not improve from 0.00308\n",
            "73/73 [==============================] - 0s 4ms/step - loss: 0.0022 - val_loss: 0.0031\n",
            "Epoch 107/200\n",
            "64/73 [=========================>....] - ETA: 0s - loss: 0.0016\n",
            "Epoch 107: val_loss improved from 0.00308 to 0.00307, saving model to /content/drive/MyDrive/DNA/농넷_AIFactory/tmp_checkpoint.h10\n"
          ]
        },
        {
          "output_type": "stream",
          "name": "stderr",
          "text": [
            "WARNING:absl:<keras.layers.recurrent.LSTMCell object at 0x7fe497f6b910> has the same name 'LSTMCell' as a built-in Keras object. Consider renaming <class 'keras.layers.recurrent.LSTMCell'> to avoid naming conflicts when loading with `tf.keras.models.load_model`. If renaming is not possible, pass the object in the `custom_objects` parameter of the load function.\n"
          ]
        },
        {
          "output_type": "stream",
          "name": "stdout",
          "text": [
            "\b\b\b\b\b\b\b\b\b\b\b\b\b\b\b\b\b\b\b\b\b\b\b\b\b\b\b\b\b\b\b\b\b\b\b\b\b\b\b\b\b\b\b\b\b\b\b\b\b\b\b\b\b\b\b\b\b\b\b\b\b\b\b\r73/73 [==============================] - 2s 28ms/step - loss: 0.0022 - val_loss: 0.0031\n",
            "Epoch 108/200\n",
            "67/73 [==========================>...] - ETA: 0s - loss: 0.0023\n",
            "Epoch 108: val_loss did not improve from 0.00307\n",
            "73/73 [==============================] - 0s 4ms/step - loss: 0.0022 - val_loss: 0.0031\n",
            "Epoch 109/200\n",
            "70/73 [===========================>..] - ETA: 0s - loss: 0.0022\n",
            "Epoch 109: val_loss did not improve from 0.00307\n",
            "73/73 [==============================] - 0s 4ms/step - loss: 0.0022 - val_loss: 0.0031\n",
            "Epoch 110/200\n",
            "66/73 [==========================>...] - ETA: 0s - loss: 0.0023    \n",
            "Epoch 110: val_loss improved from 0.00307 to 0.00307, saving model to /content/drive/MyDrive/DNA/농넷_AIFactory/tmp_checkpoint.h10\n"
          ]
        },
        {
          "output_type": "stream",
          "name": "stderr",
          "text": [
            "WARNING:absl:<keras.layers.recurrent.LSTMCell object at 0x7fe497f6b910> has the same name 'LSTMCell' as a built-in Keras object. Consider renaming <class 'keras.layers.recurrent.LSTMCell'> to avoid naming conflicts when loading with `tf.keras.models.load_model`. If renaming is not possible, pass the object in the `custom_objects` parameter of the load function.\n"
          ]
        },
        {
          "output_type": "stream",
          "name": "stdout",
          "text": [
            "\b\b\b\b\b\b\b\b\b\b\b\b\b\b\b\b\b\b\b\b\b\b\b\b\b\b\b\b\b\b\b\b\b\b\b\b\b\b\b\b\b\b\b\b\b\b\b\b\b\b\b\b\b\b\b\b\b\b\b\b\b\b\b\r73/73 [==============================] - 2s 33ms/step - loss: 0.0022 - val_loss: 0.0031\n",
            "Epoch 111/200\n",
            "70/73 [===========================>..] - ETA: 0s - loss: 0.0022\n",
            "Epoch 111: val_loss did not improve from 0.00307\n",
            "73/73 [==============================] - 0s 4ms/step - loss: 0.0022 - val_loss: 0.0031\n",
            "Epoch 112/200\n",
            "66/73 [==========================>...] - ETA: 0s - loss: 0.0023\n",
            "Epoch 112: val_loss did not improve from 0.00307\n",
            "73/73 [==============================] - 0s 4ms/step - loss: 0.0022 - val_loss: 0.0031\n",
            "Epoch 113/200\n",
            "69/73 [===========================>..] - ETA: 0s - loss: 0.0023\n",
            "Epoch 113: val_loss did not improve from 0.00307\n",
            "73/73 [==============================] - 0s 4ms/step - loss: 0.0022 - val_loss: 0.0031\n",
            "Epoch 114/200\n",
            "63/73 [========================>.....] - ETA: 0s - loss: 0.0023\n",
            "Epoch 114: val_loss improved from 0.00307 to 0.00306, saving model to /content/drive/MyDrive/DNA/농넷_AIFactory/tmp_checkpoint.h10\n"
          ]
        },
        {
          "output_type": "stream",
          "name": "stderr",
          "text": [
            "WARNING:absl:<keras.layers.recurrent.LSTMCell object at 0x7fe497f6b910> has the same name 'LSTMCell' as a built-in Keras object. Consider renaming <class 'keras.layers.recurrent.LSTMCell'> to avoid naming conflicts when loading with `tf.keras.models.load_model`. If renaming is not possible, pass the object in the `custom_objects` parameter of the load function.\n"
          ]
        },
        {
          "output_type": "stream",
          "name": "stdout",
          "text": [
            "\b\b\b\b\b\b\b\b\b\b\b\b\b\b\b\b\b\b\b\b\b\b\b\b\b\b\b\b\b\b\b\b\b\b\b\b\b\b\b\b\b\b\b\b\b\b\b\b\b\b\b\b\b\b\b\b\b\b\b\b\b\b\b\r73/73 [==============================] - 2s 28ms/step - loss: 0.0022 - val_loss: 0.0031\n",
            "Epoch 115/200\n",
            "65/73 [=========================>....] - ETA: 0s - loss: 0.0023\n",
            "Epoch 115: val_loss improved from 0.00306 to 0.00306, saving model to /content/drive/MyDrive/DNA/농넷_AIFactory/tmp_checkpoint.h10\n"
          ]
        },
        {
          "output_type": "stream",
          "name": "stderr",
          "text": [
            "WARNING:absl:<keras.layers.recurrent.LSTMCell object at 0x7fe497f6b910> has the same name 'LSTMCell' as a built-in Keras object. Consider renaming <class 'keras.layers.recurrent.LSTMCell'> to avoid naming conflicts when loading with `tf.keras.models.load_model`. If renaming is not possible, pass the object in the `custom_objects` parameter of the load function.\n"
          ]
        },
        {
          "output_type": "stream",
          "name": "stdout",
          "text": [
            "\b\b\b\b\b\b\b\b\b\b\b\b\b\b\b\b\b\b\b\b\b\b\b\b\b\b\b\b\b\b\b\b\b\b\b\b\b\b\b\b\b\b\b\b\b\b\b\b\b\b\b\b\b\b\b\b\b\b\b\b\b\b\b\r73/73 [==============================] - 2s 28ms/step - loss: 0.0022 - val_loss: 0.0031\n",
            "Epoch 116/200\n",
            "64/73 [=========================>....] - ETA: 0s - loss: 0.0016\n",
            "Epoch 116: val_loss did not improve from 0.00306\n",
            "73/73 [==============================] - 0s 4ms/step - loss: 0.0022 - val_loss: 0.0031\n",
            "Epoch 117/200\n",
            "68/73 [==========================>...] - ETA: 0s - loss: 0.0022\n",
            "Epoch 117: val_loss did not improve from 0.00306\n",
            "73/73 [==============================] - 0s 4ms/step - loss: 0.0022 - val_loss: 0.0031\n",
            "Epoch 118/200\n",
            "60/73 [=======================>......] - ETA: 0s - loss: 0.0024\n",
            "Epoch 118: val_loss improved from 0.00306 to 0.00305, saving model to /content/drive/MyDrive/DNA/농넷_AIFactory/tmp_checkpoint.h10\n"
          ]
        },
        {
          "output_type": "stream",
          "name": "stderr",
          "text": [
            "WARNING:absl:<keras.layers.recurrent.LSTMCell object at 0x7fe497f6b910> has the same name 'LSTMCell' as a built-in Keras object. Consider renaming <class 'keras.layers.recurrent.LSTMCell'> to avoid naming conflicts when loading with `tf.keras.models.load_model`. If renaming is not possible, pass the object in the `custom_objects` parameter of the load function.\n"
          ]
        },
        {
          "output_type": "stream",
          "name": "stdout",
          "text": [
            "\b\b\b\b\b\b\b\b\b\b\b\b\b\b\b\b\b\b\b\b\b\b\b\b\b\b\b\b\b\b\b\b\b\b\b\b\b\b\b\b\b\b\b\b\b\b\b\b\b\b\b\b\b\b\b\b\b\b\b\b\b\b\b\r73/73 [==============================] - 2s 29ms/step - loss: 0.0022 - val_loss: 0.0031\n",
            "Epoch 119/200\n",
            "67/73 [==========================>...] - ETA: 0s - loss: 0.0023\n",
            "Epoch 119: val_loss improved from 0.00305 to 0.00305, saving model to /content/drive/MyDrive/DNA/농넷_AIFactory/tmp_checkpoint.h10\n"
          ]
        },
        {
          "output_type": "stream",
          "name": "stderr",
          "text": [
            "WARNING:absl:<keras.layers.recurrent.LSTMCell object at 0x7fe497f6b910> has the same name 'LSTMCell' as a built-in Keras object. Consider renaming <class 'keras.layers.recurrent.LSTMCell'> to avoid naming conflicts when loading with `tf.keras.models.load_model`. If renaming is not possible, pass the object in the `custom_objects` parameter of the load function.\n"
          ]
        },
        {
          "output_type": "stream",
          "name": "stdout",
          "text": [
            "\b\b\b\b\b\b\b\b\b\b\b\b\b\b\b\b\b\b\b\b\b\b\b\b\b\b\b\b\b\b\b\b\b\b\b\b\b\b\b\b\b\b\b\b\b\b\b\b\b\b\b\b\b\b\b\b\b\b\b\b\b\b\b\r73/73 [==============================] - 2s 33ms/step - loss: 0.0022 - val_loss: 0.0031\n",
            "Epoch 120/200\n",
            "65/73 [=========================>....] - ETA: 0s - loss: 0.0023\n",
            "Epoch 120: val_loss improved from 0.00305 to 0.00305, saving model to /content/drive/MyDrive/DNA/농넷_AIFactory/tmp_checkpoint.h10\n"
          ]
        },
        {
          "output_type": "stream",
          "name": "stderr",
          "text": [
            "WARNING:absl:<keras.layers.recurrent.LSTMCell object at 0x7fe497f6b910> has the same name 'LSTMCell' as a built-in Keras object. Consider renaming <class 'keras.layers.recurrent.LSTMCell'> to avoid naming conflicts when loading with `tf.keras.models.load_model`. If renaming is not possible, pass the object in the `custom_objects` parameter of the load function.\n"
          ]
        },
        {
          "output_type": "stream",
          "name": "stdout",
          "text": [
            "\b\b\b\b\b\b\b\b\b\b\b\b\b\b\b\b\b\b\b\b\b\b\b\b\b\b\b\b\b\b\b\b\b\b\b\b\b\b\b\b\b\b\b\b\b\b\b\b\b\b\b\b\b\b\b\b\b\b\b\b\b\b\b\r73/73 [==============================] - 2s 29ms/step - loss: 0.0022 - val_loss: 0.0030\n",
            "Epoch 121/200\n",
            "65/73 [=========================>....] - ETA: 0s - loss: 0.0023\n",
            "Epoch 121: val_loss did not improve from 0.00305\n",
            "73/73 [==============================] - 0s 4ms/step - loss: 0.0022 - val_loss: 0.0031\n",
            "Epoch 122/200\n",
            "70/73 [===========================>..] - ETA: 0s - loss: 0.0022\n",
            "Epoch 122: val_loss improved from 0.00305 to 0.00304, saving model to /content/drive/MyDrive/DNA/농넷_AIFactory/tmp_checkpoint.h10\n"
          ]
        },
        {
          "output_type": "stream",
          "name": "stderr",
          "text": [
            "WARNING:absl:<keras.layers.recurrent.LSTMCell object at 0x7fe497f6b910> has the same name 'LSTMCell' as a built-in Keras object. Consider renaming <class 'keras.layers.recurrent.LSTMCell'> to avoid naming conflicts when loading with `tf.keras.models.load_model`. If renaming is not possible, pass the object in the `custom_objects` parameter of the load function.\n"
          ]
        },
        {
          "output_type": "stream",
          "name": "stdout",
          "text": [
            "\b\b\b\b\b\b\b\b\b\b\b\b\b\b\b\b\b\b\b\b\b\b\b\b\b\b\b\b\b\b\b\b\b\b\b\b\b\b\b\b\b\b\b\b\b\b\b\b\b\b\b\b\b\b\b\b\b\b\b\b\b\b\b\r73/73 [==============================] - 2s 28ms/step - loss: 0.0022 - val_loss: 0.0030\n",
            "Epoch 123/200\n",
            "68/73 [==========================>...] - ETA: 0s - loss: 0.0022\n",
            "Epoch 123: val_loss did not improve from 0.00304\n",
            "73/73 [==============================] - 0s 4ms/step - loss: 0.0022 - val_loss: 0.0030\n",
            "Epoch 124/200\n",
            "64/73 [=========================>....] - ETA: 0s - loss: 0.0022\n",
            "Epoch 124: val_loss improved from 0.00304 to 0.00304, saving model to /content/drive/MyDrive/DNA/농넷_AIFactory/tmp_checkpoint.h10\n"
          ]
        },
        {
          "output_type": "stream",
          "name": "stderr",
          "text": [
            "WARNING:absl:<keras.layers.recurrent.LSTMCell object at 0x7fe497f6b910> has the same name 'LSTMCell' as a built-in Keras object. Consider renaming <class 'keras.layers.recurrent.LSTMCell'> to avoid naming conflicts when loading with `tf.keras.models.load_model`. If renaming is not possible, pass the object in the `custom_objects` parameter of the load function.\n"
          ]
        },
        {
          "output_type": "stream",
          "name": "stdout",
          "text": [
            "\b\b\b\b\b\b\b\b\b\b\b\b\b\b\b\b\b\b\b\b\b\b\b\b\b\b\b\b\b\b\b\b\b\b\b\b\b\b\b\b\b\b\b\b\b\b\b\b\b\b\b\b\b\b\b\b\b\b\b\b\b\b\b\r73/73 [==============================] - 2s 28ms/step - loss: 0.0022 - val_loss: 0.0030\n",
            "Epoch 125/200\n",
            "68/73 [==========================>...] - ETA: 0s - loss: 0.0017\n",
            "Epoch 125: val_loss improved from 0.00304 to 0.00304, saving model to /content/drive/MyDrive/DNA/농넷_AIFactory/tmp_checkpoint.h10\n"
          ]
        },
        {
          "output_type": "stream",
          "name": "stderr",
          "text": [
            "WARNING:absl:<keras.layers.recurrent.LSTMCell object at 0x7fe497f6b910> has the same name 'LSTMCell' as a built-in Keras object. Consider renaming <class 'keras.layers.recurrent.LSTMCell'> to avoid naming conflicts when loading with `tf.keras.models.load_model`. If renaming is not possible, pass the object in the `custom_objects` parameter of the load function.\n"
          ]
        },
        {
          "output_type": "stream",
          "name": "stdout",
          "text": [
            "\b\b\b\b\b\b\b\b\b\b\b\b\b\b\b\b\b\b\b\b\b\b\b\b\b\b\b\b\b\b\b\b\b\b\b\b\b\b\b\b\b\b\b\b\b\b\b\b\b\b\b\b\b\b\b\b\b\b\b\b\b\b\b\r73/73 [==============================] - 2s 33ms/step - loss: 0.0022 - val_loss: 0.0030\n",
            "Epoch 126/200\n",
            "62/73 [========================>.....] - ETA: 0s - loss: 0.0024\n",
            "Epoch 126: val_loss improved from 0.00304 to 0.00303, saving model to /content/drive/MyDrive/DNA/농넷_AIFactory/tmp_checkpoint.h10\n"
          ]
        },
        {
          "output_type": "stream",
          "name": "stderr",
          "text": [
            "WARNING:absl:<keras.layers.recurrent.LSTMCell object at 0x7fe497f6b910> has the same name 'LSTMCell' as a built-in Keras object. Consider renaming <class 'keras.layers.recurrent.LSTMCell'> to avoid naming conflicts when loading with `tf.keras.models.load_model`. If renaming is not possible, pass the object in the `custom_objects` parameter of the load function.\n"
          ]
        },
        {
          "output_type": "stream",
          "name": "stdout",
          "text": [
            "\b\b\b\b\b\b\b\b\b\b\b\b\b\b\b\b\b\b\b\b\b\b\b\b\b\b\b\b\b\b\b\b\b\b\b\b\b\b\b\b\b\b\b\b\b\b\b\b\b\b\b\b\b\b\b\b\b\b\b\b\b\b\b\r73/73 [==============================] - 2s 28ms/step - loss: 0.0022 - val_loss: 0.0030\n",
            "Epoch 127/200\n",
            "66/73 [==========================>...] - ETA: 0s - loss: 0.0023\n",
            "Epoch 127: val_loss did not improve from 0.00303\n",
            "73/73 [==============================] - 0s 4ms/step - loss: 0.0022 - val_loss: 0.0030\n",
            "Epoch 128/200\n",
            "65/73 [=========================>....] - ETA: 0s - loss: 0.0023\n",
            "Epoch 128: val_loss improved from 0.00303 to 0.00303, saving model to /content/drive/MyDrive/DNA/농넷_AIFactory/tmp_checkpoint.h10\n"
          ]
        },
        {
          "output_type": "stream",
          "name": "stderr",
          "text": [
            "WARNING:absl:<keras.layers.recurrent.LSTMCell object at 0x7fe497f6b910> has the same name 'LSTMCell' as a built-in Keras object. Consider renaming <class 'keras.layers.recurrent.LSTMCell'> to avoid naming conflicts when loading with `tf.keras.models.load_model`. If renaming is not possible, pass the object in the `custom_objects` parameter of the load function.\n"
          ]
        },
        {
          "output_type": "stream",
          "name": "stdout",
          "text": [
            "\b\b\b\b\b\b\b\b\b\b\b\b\b\b\b\b\b\b\b\b\b\b\b\b\b\b\b\b\b\b\b\b\b\b\b\b\b\b\b\b\b\b\b\b\b\b\b\b\b\b\b\b\b\b\b\b\b\b\b\b\b\b\b\r73/73 [==============================] - 2s 29ms/step - loss: 0.0022 - val_loss: 0.0030\n",
            "Epoch 129/200\n",
            "72/73 [============================>.] - ETA: 0s - loss: 0.0022\n",
            "Epoch 129: val_loss did not improve from 0.00303\n",
            "73/73 [==============================] - 0s 4ms/step - loss: 0.0022 - val_loss: 0.0031\n",
            "Epoch 130/200\n",
            "69/73 [===========================>..] - ETA: 0s - loss: 0.0022\n",
            "Epoch 130: val_loss did not improve from 0.00303\n",
            "73/73 [==============================] - 0s 4ms/step - loss: 0.0021 - val_loss: 0.0031\n",
            "Epoch 131/200\n",
            "66/73 [==========================>...] - ETA: 0s - loss: 0.0023\n",
            "Epoch 131: val_loss did not improve from 0.00303\n",
            "73/73 [==============================] - 0s 4ms/step - loss: 0.0022 - val_loss: 0.0030\n",
            "Epoch 132/200\n",
            "64/73 [=========================>....] - ETA: 0s - loss: 0.0023\n",
            "Epoch 132: val_loss did not improve from 0.00303\n",
            "73/73 [==============================] - 0s 4ms/step - loss: 0.0021 - val_loss: 0.0030\n",
            "Epoch 133/200\n",
            "58/73 [======================>.......] - ETA: 0s - loss: 0.0024\n",
            "Epoch 133: val_loss improved from 0.00303 to 0.00302, saving model to /content/drive/MyDrive/DNA/농넷_AIFactory/tmp_checkpoint.h10\n"
          ]
        },
        {
          "output_type": "stream",
          "name": "stderr",
          "text": [
            "WARNING:absl:<keras.layers.recurrent.LSTMCell object at 0x7fe497f6b910> has the same name 'LSTMCell' as a built-in Keras object. Consider renaming <class 'keras.layers.recurrent.LSTMCell'> to avoid naming conflicts when loading with `tf.keras.models.load_model`. If renaming is not possible, pass the object in the `custom_objects` parameter of the load function.\n"
          ]
        },
        {
          "output_type": "stream",
          "name": "stdout",
          "text": [
            "\b\b\b\b\b\b\b\b\b\b\b\b\b\b\b\b\b\b\b\b\b\b\b\b\b\b\b\b\b\b\b\b\b\b\b\b\b\b\b\b\b\b\b\b\b\b\b\b\b\b\b\b\b\b\b\b\b\b\b\b\b\b\b\r73/73 [==============================] - 2s 28ms/step - loss: 0.0021 - val_loss: 0.0030\n",
            "Epoch 134/200\n",
            "66/73 [==========================>...] - ETA: 0s - loss: 0.0023\n",
            "Epoch 134: val_loss improved from 0.00302 to 0.00302, saving model to /content/drive/MyDrive/DNA/농넷_AIFactory/tmp_checkpoint.h10\n"
          ]
        },
        {
          "output_type": "stream",
          "name": "stderr",
          "text": [
            "WARNING:absl:<keras.layers.recurrent.LSTMCell object at 0x7fe497f6b910> has the same name 'LSTMCell' as a built-in Keras object. Consider renaming <class 'keras.layers.recurrent.LSTMCell'> to avoid naming conflicts when loading with `tf.keras.models.load_model`. If renaming is not possible, pass the object in the `custom_objects` parameter of the load function.\n"
          ]
        },
        {
          "output_type": "stream",
          "name": "stdout",
          "text": [
            "\b\b\b\b\b\b\b\b\b\b\b\b\b\b\b\b\b\b\b\b\b\b\b\b\b\b\b\b\b\b\b\b\b\b\b\b\b\b\b\b\b\b\b\b\b\b\b\b\b\b\b\b\b\b\b\b\b\b\b\b\b\b\b\r73/73 [==============================] - 2s 34ms/step - loss: 0.0021 - val_loss: 0.0030\n",
            "Epoch 135/200\n",
            "65/73 [=========================>....] - ETA: 0s - loss: 0.0017\n",
            "Epoch 135: val_loss did not improve from 0.00302\n",
            "73/73 [==============================] - 0s 4ms/step - loss: 0.0021 - val_loss: 0.0030\n",
            "Epoch 136/200\n",
            "64/73 [=========================>....] - ETA: 0s - loss: 0.0022\n",
            "Epoch 136: val_loss improved from 0.00302 to 0.00301, saving model to /content/drive/MyDrive/DNA/농넷_AIFactory/tmp_checkpoint.h10\n"
          ]
        },
        {
          "output_type": "stream",
          "name": "stderr",
          "text": [
            "WARNING:absl:<keras.layers.recurrent.LSTMCell object at 0x7fe497f6b910> has the same name 'LSTMCell' as a built-in Keras object. Consider renaming <class 'keras.layers.recurrent.LSTMCell'> to avoid naming conflicts when loading with `tf.keras.models.load_model`. If renaming is not possible, pass the object in the `custom_objects` parameter of the load function.\n"
          ]
        },
        {
          "output_type": "stream",
          "name": "stdout",
          "text": [
            "\b\b\b\b\b\b\b\b\b\b\b\b\b\b\b\b\b\b\b\b\b\b\b\b\b\b\b\b\b\b\b\b\b\b\b\b\b\b\b\b\b\b\b\b\b\b\b\b\b\b\b\b\b\b\b\b\b\b\b\b\b\b\b\r73/73 [==============================] - 2s 28ms/step - loss: 0.0021 - val_loss: 0.0030\n",
            "Epoch 137/200\n",
            "66/73 [==========================>...] - ETA: 0s - loss: 0.0015\n",
            "Epoch 137: val_loss improved from 0.00301 to 0.00301, saving model to /content/drive/MyDrive/DNA/농넷_AIFactory/tmp_checkpoint.h10\n"
          ]
        },
        {
          "output_type": "stream",
          "name": "stderr",
          "text": [
            "WARNING:absl:<keras.layers.recurrent.LSTMCell object at 0x7fe497f6b910> has the same name 'LSTMCell' as a built-in Keras object. Consider renaming <class 'keras.layers.recurrent.LSTMCell'> to avoid naming conflicts when loading with `tf.keras.models.load_model`. If renaming is not possible, pass the object in the `custom_objects` parameter of the load function.\n"
          ]
        },
        {
          "output_type": "stream",
          "name": "stdout",
          "text": [
            "\b\b\b\b\b\b\b\b\b\b\b\b\b\b\b\b\b\b\b\b\b\b\b\b\b\b\b\b\b\b\b\b\b\b\b\b\b\b\b\b\b\b\b\b\b\b\b\b\b\b\b\b\b\b\b\b\b\b\b\b\b\b\b\r73/73 [==============================] - 2s 29ms/step - loss: 0.0021 - val_loss: 0.0030\n",
            "Epoch 138/200\n",
            "66/73 [==========================>...] - ETA: 0s - loss: 0.0022\n",
            "Epoch 138: val_loss did not improve from 0.00301\n",
            "73/73 [==============================] - 0s 4ms/step - loss: 0.0021 - val_loss: 0.0030\n",
            "Epoch 139/200\n",
            "63/73 [========================>.....] - ETA: 0s - loss: 0.0023    \n",
            "Epoch 139: val_loss did not improve from 0.00301\n",
            "73/73 [==============================] - 0s 4ms/step - loss: 0.0021 - val_loss: 0.0030\n",
            "Epoch 140/200\n",
            "65/73 [=========================>....] - ETA: 0s - loss: 0.0022\n",
            "Epoch 140: val_loss improved from 0.00301 to 0.00301, saving model to /content/drive/MyDrive/DNA/농넷_AIFactory/tmp_checkpoint.h10\n"
          ]
        },
        {
          "output_type": "stream",
          "name": "stderr",
          "text": [
            "WARNING:absl:<keras.layers.recurrent.LSTMCell object at 0x7fe497f6b910> has the same name 'LSTMCell' as a built-in Keras object. Consider renaming <class 'keras.layers.recurrent.LSTMCell'> to avoid naming conflicts when loading with `tf.keras.models.load_model`. If renaming is not possible, pass the object in the `custom_objects` parameter of the load function.\n"
          ]
        },
        {
          "output_type": "stream",
          "name": "stdout",
          "text": [
            "\b\b\b\b\b\b\b\b\b\b\b\b\b\b\b\b\b\b\b\b\b\b\b\b\b\b\b\b\b\b\b\b\b\b\b\b\b\b\b\b\b\b\b\b\b\b\b\b\b\b\b\b\b\b\b\b\b\b\b\b\b\b\b\r73/73 [==============================] - 2s 33ms/step - loss: 0.0021 - val_loss: 0.0030\n",
            "Epoch 141/200\n",
            "65/73 [=========================>....] - ETA: 0s - loss: 0.0022\n",
            "Epoch 141: val_loss improved from 0.00301 to 0.00300, saving model to /content/drive/MyDrive/DNA/농넷_AIFactory/tmp_checkpoint.h10\n"
          ]
        },
        {
          "output_type": "stream",
          "name": "stderr",
          "text": [
            "WARNING:absl:<keras.layers.recurrent.LSTMCell object at 0x7fe497f6b910> has the same name 'LSTMCell' as a built-in Keras object. Consider renaming <class 'keras.layers.recurrent.LSTMCell'> to avoid naming conflicts when loading with `tf.keras.models.load_model`. If renaming is not possible, pass the object in the `custom_objects` parameter of the load function.\n"
          ]
        },
        {
          "output_type": "stream",
          "name": "stdout",
          "text": [
            "\b\b\b\b\b\b\b\b\b\b\b\b\b\b\b\b\b\b\b\b\b\b\b\b\b\b\b\b\b\b\b\b\b\b\b\b\b\b\b\b\b\b\b\b\b\b\b\b\b\b\b\b\b\b\b\b\b\b\b\b\b\b\b\r73/73 [==============================] - 2s 28ms/step - loss: 0.0021 - val_loss: 0.0030\n",
            "Epoch 142/200\n",
            "62/73 [========================>.....] - ETA: 0s - loss: 0.0023\n",
            "Epoch 142: val_loss improved from 0.00300 to 0.00300, saving model to /content/drive/MyDrive/DNA/농넷_AIFactory/tmp_checkpoint.h10\n"
          ]
        },
        {
          "output_type": "stream",
          "name": "stderr",
          "text": [
            "WARNING:absl:<keras.layers.recurrent.LSTMCell object at 0x7fe497f6b910> has the same name 'LSTMCell' as a built-in Keras object. Consider renaming <class 'keras.layers.recurrent.LSTMCell'> to avoid naming conflicts when loading with `tf.keras.models.load_model`. If renaming is not possible, pass the object in the `custom_objects` parameter of the load function.\n"
          ]
        },
        {
          "output_type": "stream",
          "name": "stdout",
          "text": [
            "\b\b\b\b\b\b\b\b\b\b\b\b\b\b\b\b\b\b\b\b\b\b\b\b\b\b\b\b\b\b\b\b\b\b\b\b\b\b\b\b\b\b\b\b\b\b\b\b\b\b\b\b\b\b\b\b\b\b\b\b\b\b\b\r73/73 [==============================] - 2s 29ms/step - loss: 0.0021 - val_loss: 0.0030\n",
            "Epoch 143/200\n",
            "65/73 [=========================>....] - ETA: 0s - loss: 0.0023\n",
            "Epoch 143: val_loss did not improve from 0.00300\n",
            "73/73 [==============================] - 0s 4ms/step - loss: 0.0021 - val_loss: 0.0030\n",
            "Epoch 144/200\n",
            "61/73 [========================>.....] - ETA: 0s - loss: 0.0018\n",
            "Epoch 144: val_loss improved from 0.00300 to 0.00299, saving model to /content/drive/MyDrive/DNA/농넷_AIFactory/tmp_checkpoint.h10\n"
          ]
        },
        {
          "output_type": "stream",
          "name": "stderr",
          "text": [
            "WARNING:absl:<keras.layers.recurrent.LSTMCell object at 0x7fe497f6b910> has the same name 'LSTMCell' as a built-in Keras object. Consider renaming <class 'keras.layers.recurrent.LSTMCell'> to avoid naming conflicts when loading with `tf.keras.models.load_model`. If renaming is not possible, pass the object in the `custom_objects` parameter of the load function.\n"
          ]
        },
        {
          "output_type": "stream",
          "name": "stdout",
          "text": [
            "\b\b\b\b\b\b\b\b\b\b\b\b\b\b\b\b\b\b\b\b\b\b\b\b\b\b\b\b\b\b\b\b\b\b\b\b\b\b\b\b\b\b\b\b\b\b\b\b\b\b\b\b\b\b\b\b\b\b\b\b\b\b\b\r73/73 [==============================] - 2s 29ms/step - loss: 0.0021 - val_loss: 0.0030\n",
            "Epoch 145/200\n",
            "67/73 [==========================>...] - ETA: 0s - loss: 0.0022\n",
            "Epoch 145: val_loss improved from 0.00299 to 0.00299, saving model to /content/drive/MyDrive/DNA/농넷_AIFactory/tmp_checkpoint.h10\n"
          ]
        },
        {
          "output_type": "stream",
          "name": "stderr",
          "text": [
            "WARNING:absl:<keras.layers.recurrent.LSTMCell object at 0x7fe497f6b910> has the same name 'LSTMCell' as a built-in Keras object. Consider renaming <class 'keras.layers.recurrent.LSTMCell'> to avoid naming conflicts when loading with `tf.keras.models.load_model`. If renaming is not possible, pass the object in the `custom_objects` parameter of the load function.\n"
          ]
        },
        {
          "output_type": "stream",
          "name": "stdout",
          "text": [
            "\b\b\b\b\b\b\b\b\b\b\b\b\b\b\b\b\b\b\b\b\b\b\b\b\b\b\b\b\b\b\b\b\b\b\b\b\b\b\b\b\b\b\b\b\b\b\b\b\b\b\b\b\b\b\b\b\b\b\b\b\b\b\b\r73/73 [==============================] - 2s 34ms/step - loss: 0.0021 - val_loss: 0.0030\n",
            "Epoch 146/200\n",
            "64/73 [=========================>....] - ETA: 0s - loss: 0.0023\n",
            "Epoch 146: val_loss did not improve from 0.00299\n",
            "73/73 [==============================] - 0s 4ms/step - loss: 0.0021 - val_loss: 0.0030\n",
            "Epoch 147/200\n",
            "63/73 [========================>.....] - ETA: 0s - loss: 0.0015\n",
            "Epoch 147: val_loss improved from 0.00299 to 0.00298, saving model to /content/drive/MyDrive/DNA/농넷_AIFactory/tmp_checkpoint.h10\n"
          ]
        },
        {
          "output_type": "stream",
          "name": "stderr",
          "text": [
            "WARNING:absl:<keras.layers.recurrent.LSTMCell object at 0x7fe497f6b910> has the same name 'LSTMCell' as a built-in Keras object. Consider renaming <class 'keras.layers.recurrent.LSTMCell'> to avoid naming conflicts when loading with `tf.keras.models.load_model`. If renaming is not possible, pass the object in the `custom_objects` parameter of the load function.\n"
          ]
        },
        {
          "output_type": "stream",
          "name": "stdout",
          "text": [
            "\b\b\b\b\b\b\b\b\b\b\b\b\b\b\b\b\b\b\b\b\b\b\b\b\b\b\b\b\b\b\b\b\b\b\b\b\b\b\b\b\b\b\b\b\b\b\b\b\b\b\b\b\b\b\b\b\b\b\b\b\b\b\b\r73/73 [==============================] - 2s 29ms/step - loss: 0.0021 - val_loss: 0.0030\n",
            "Epoch 148/200\n",
            "65/73 [=========================>....] - ETA: 0s - loss: 0.0016\n",
            "Epoch 148: val_loss did not improve from 0.00298\n",
            "73/73 [==============================] - 0s 4ms/step - loss: 0.0021 - val_loss: 0.0030\n",
            "Epoch 149/200\n",
            "61/73 [========================>.....] - ETA: 0s - loss: 0.0023\n",
            "Epoch 149: val_loss improved from 0.00298 to 0.00298, saving model to /content/drive/MyDrive/DNA/농넷_AIFactory/tmp_checkpoint.h10\n"
          ]
        },
        {
          "output_type": "stream",
          "name": "stderr",
          "text": [
            "WARNING:absl:<keras.layers.recurrent.LSTMCell object at 0x7fe497f6b910> has the same name 'LSTMCell' as a built-in Keras object. Consider renaming <class 'keras.layers.recurrent.LSTMCell'> to avoid naming conflicts when loading with `tf.keras.models.load_model`. If renaming is not possible, pass the object in the `custom_objects` parameter of the load function.\n"
          ]
        },
        {
          "output_type": "stream",
          "name": "stdout",
          "text": [
            "\b\b\b\b\b\b\b\b\b\b\b\b\b\b\b\b\b\b\b\b\b\b\b\b\b\b\b\b\b\b\b\b\b\b\b\b\b\b\b\b\b\b\b\b\b\b\b\b\b\b\b\b\b\b\b\b\b\b\b\b\b\b\b\r73/73 [==============================] - 2s 29ms/step - loss: 0.0021 - val_loss: 0.0030\n",
            "Epoch 150/200\n",
            "66/73 [==========================>...] - ETA: 0s - loss: 0.0022\n",
            "Epoch 150: val_loss improved from 0.00298 to 0.00298, saving model to /content/drive/MyDrive/DNA/농넷_AIFactory/tmp_checkpoint.h10\n"
          ]
        },
        {
          "output_type": "stream",
          "name": "stderr",
          "text": [
            "WARNING:absl:<keras.layers.recurrent.LSTMCell object at 0x7fe497f6b910> has the same name 'LSTMCell' as a built-in Keras object. Consider renaming <class 'keras.layers.recurrent.LSTMCell'> to avoid naming conflicts when loading with `tf.keras.models.load_model`. If renaming is not possible, pass the object in the `custom_objects` parameter of the load function.\n"
          ]
        },
        {
          "output_type": "stream",
          "name": "stdout",
          "text": [
            "\b\b\b\b\b\b\b\b\b\b\b\b\b\b\b\b\b\b\b\b\b\b\b\b\b\b\b\b\b\b\b\b\b\b\b\b\b\b\b\b\b\b\b\b\b\b\b\b\b\b\b\b\b\b\b\b\b\b\b\b\b\b\b\r73/73 [==============================] - 2s 33ms/step - loss: 0.0021 - val_loss: 0.0030\n",
            "Epoch 151/200\n",
            "61/73 [========================>.....] - ETA: 0s - loss: 0.0023\n",
            "Epoch 151: val_loss improved from 0.00298 to 0.00298, saving model to /content/drive/MyDrive/DNA/농넷_AIFactory/tmp_checkpoint.h10\n"
          ]
        },
        {
          "output_type": "stream",
          "name": "stderr",
          "text": [
            "WARNING:absl:<keras.layers.recurrent.LSTMCell object at 0x7fe497f6b910> has the same name 'LSTMCell' as a built-in Keras object. Consider renaming <class 'keras.layers.recurrent.LSTMCell'> to avoid naming conflicts when loading with `tf.keras.models.load_model`. If renaming is not possible, pass the object in the `custom_objects` parameter of the load function.\n"
          ]
        },
        {
          "output_type": "stream",
          "name": "stdout",
          "text": [
            "\b\b\b\b\b\b\b\b\b\b\b\b\b\b\b\b\b\b\b\b\b\b\b\b\b\b\b\b\b\b\b\b\b\b\b\b\b\b\b\b\b\b\b\b\b\b\b\b\b\b\b\b\b\b\b\b\b\b\b\b\b\b\b\r73/73 [==============================] - 2s 29ms/step - loss: 0.0021 - val_loss: 0.0030\n",
            "Epoch 152/200\n",
            "63/73 [========================>.....] - ETA: 0s - loss: 0.0022    \n",
            "Epoch 152: val_loss improved from 0.00298 to 0.00298, saving model to /content/drive/MyDrive/DNA/농넷_AIFactory/tmp_checkpoint.h10\n"
          ]
        },
        {
          "output_type": "stream",
          "name": "stderr",
          "text": [
            "WARNING:absl:<keras.layers.recurrent.LSTMCell object at 0x7fe497f6b910> has the same name 'LSTMCell' as a built-in Keras object. Consider renaming <class 'keras.layers.recurrent.LSTMCell'> to avoid naming conflicts when loading with `tf.keras.models.load_model`. If renaming is not possible, pass the object in the `custom_objects` parameter of the load function.\n"
          ]
        },
        {
          "output_type": "stream",
          "name": "stdout",
          "text": [
            "\b\b\b\b\b\b\b\b\b\b\b\b\b\b\b\b\b\b\b\b\b\b\b\b\b\b\b\b\b\b\b\b\b\b\b\b\b\b\b\b\b\b\b\b\b\b\b\b\b\b\b\b\b\b\b\b\b\b\b\b\b\b\b\r73/73 [==============================] - 2s 28ms/step - loss: 0.0021 - val_loss: 0.0030\n",
            "Epoch 153/200\n",
            "62/73 [========================>.....] - ETA: 0s - loss: 0.0023\n",
            "Epoch 153: val_loss did not improve from 0.00298\n",
            "73/73 [==============================] - 0s 4ms/step - loss: 0.0021 - val_loss: 0.0030\n",
            "Epoch 154/200\n",
            "67/73 [==========================>...] - ETA: 0s - loss: 9.8573e-04\n",
            "Epoch 154: val_loss did not improve from 0.00298\n",
            "73/73 [==============================] - 0s 4ms/step - loss: 0.0021 - val_loss: 0.0030\n",
            "Epoch 155/200\n",
            "64/73 [=========================>....] - ETA: 0s - loss: 0.0018\n",
            "Epoch 155: val_loss did not improve from 0.00298\n",
            "73/73 [==============================] - 0s 4ms/step - loss: 0.0022 - val_loss: 0.0030\n",
            "Epoch 156/200\n",
            "60/73 [=======================>......] - ETA: 0s - loss: 0.0016\n",
            "Epoch 156: val_loss did not improve from 0.00298\n",
            "73/73 [==============================] - 0s 4ms/step - loss: 0.0021 - val_loss: 0.0030\n",
            "Epoch 157/200\n",
            "67/73 [==========================>...] - ETA: 0s - loss: 0.0022\n",
            "Epoch 157: val_loss improved from 0.00298 to 0.00297, saving model to /content/drive/MyDrive/DNA/농넷_AIFactory/tmp_checkpoint.h10\n"
          ]
        },
        {
          "output_type": "stream",
          "name": "stderr",
          "text": [
            "WARNING:absl:<keras.layers.recurrent.LSTMCell object at 0x7fe497f6b910> has the same name 'LSTMCell' as a built-in Keras object. Consider renaming <class 'keras.layers.recurrent.LSTMCell'> to avoid naming conflicts when loading with `tf.keras.models.load_model`. If renaming is not possible, pass the object in the `custom_objects` parameter of the load function.\n"
          ]
        },
        {
          "output_type": "stream",
          "name": "stdout",
          "text": [
            "\b\b\b\b\b\b\b\b\b\b\b\b\b\b\b\b\b\b\b\b\b\b\b\b\b\b\b\b\b\b\b\b\b\b\b\b\b\b\b\b\b\b\b\b\b\b\b\b\b\b\b\b\b\b\b\b\b\b\b\b\b\b\b\r73/73 [==============================] - 2s 29ms/step - loss: 0.0021 - val_loss: 0.0030\n",
            "Epoch 158/200\n",
            "63/73 [========================>.....] - ETA: 0s - loss: 0.0023\n",
            "Epoch 158: val_loss did not improve from 0.00297\n",
            "73/73 [==============================] - 0s 4ms/step - loss: 0.0021 - val_loss: 0.0030\n",
            "Epoch 159/200\n",
            "64/73 [=========================>....] - ETA: 0s - loss: 0.0016\n",
            "Epoch 159: val_loss improved from 0.00297 to 0.00296, saving model to /content/drive/MyDrive/DNA/농넷_AIFactory/tmp_checkpoint.h10\n"
          ]
        },
        {
          "output_type": "stream",
          "name": "stderr",
          "text": [
            "WARNING:absl:<keras.layers.recurrent.LSTMCell object at 0x7fe497f6b910> has the same name 'LSTMCell' as a built-in Keras object. Consider renaming <class 'keras.layers.recurrent.LSTMCell'> to avoid naming conflicts when loading with `tf.keras.models.load_model`. If renaming is not possible, pass the object in the `custom_objects` parameter of the load function.\n"
          ]
        },
        {
          "output_type": "stream",
          "name": "stdout",
          "text": [
            "\b\b\b\b\b\b\b\b\b\b\b\b\b\b\b\b\b\b\b\b\b\b\b\b\b\b\b\b\b\b\b\b\b\b\b\b\b\b\b\b\b\b\b\b\b\b\b\b\b\b\b\b\b\b\b\b\b\b\b\b\b\b\b\r73/73 [==============================] - 2s 33ms/step - loss: 0.0021 - val_loss: 0.0030\n",
            "Epoch 160/200\n",
            "63/73 [========================>.....] - ETA: 0s - loss: 0.0022\n",
            "Epoch 160: val_loss improved from 0.00296 to 0.00296, saving model to /content/drive/MyDrive/DNA/농넷_AIFactory/tmp_checkpoint.h10\n"
          ]
        },
        {
          "output_type": "stream",
          "name": "stderr",
          "text": [
            "WARNING:absl:<keras.layers.recurrent.LSTMCell object at 0x7fe497f6b910> has the same name 'LSTMCell' as a built-in Keras object. Consider renaming <class 'keras.layers.recurrent.LSTMCell'> to avoid naming conflicts when loading with `tf.keras.models.load_model`. If renaming is not possible, pass the object in the `custom_objects` parameter of the load function.\n"
          ]
        },
        {
          "output_type": "stream",
          "name": "stdout",
          "text": [
            "\b\b\b\b\b\b\b\b\b\b\b\b\b\b\b\b\b\b\b\b\b\b\b\b\b\b\b\b\b\b\b\b\b\b\b\b\b\b\b\b\b\b\b\b\b\b\b\b\b\b\b\b\b\b\b\b\b\b\b\b\b\b\b\r73/73 [==============================] - 2s 28ms/step - loss: 0.0021 - val_loss: 0.0030\n",
            "Epoch 161/200\n",
            "63/73 [========================>.....] - ETA: 0s - loss: 0.0023\n",
            "Epoch 161: val_loss improved from 0.00296 to 0.00295, saving model to /content/drive/MyDrive/DNA/농넷_AIFactory/tmp_checkpoint.h10\n"
          ]
        },
        {
          "output_type": "stream",
          "name": "stderr",
          "text": [
            "WARNING:absl:<keras.layers.recurrent.LSTMCell object at 0x7fe497f6b910> has the same name 'LSTMCell' as a built-in Keras object. Consider renaming <class 'keras.layers.recurrent.LSTMCell'> to avoid naming conflicts when loading with `tf.keras.models.load_model`. If renaming is not possible, pass the object in the `custom_objects` parameter of the load function.\n"
          ]
        },
        {
          "output_type": "stream",
          "name": "stdout",
          "text": [
            "\b\b\b\b\b\b\b\b\b\b\b\b\b\b\b\b\b\b\b\b\b\b\b\b\b\b\b\b\b\b\b\b\b\b\b\b\b\b\b\b\b\b\b\b\b\b\b\b\b\b\b\b\b\b\b\b\b\b\b\b\b\b\b\r73/73 [==============================] - 2s 30ms/step - loss: 0.0021 - val_loss: 0.0030\n",
            "Epoch 162/200\n",
            "67/73 [==========================>...] - ETA: 0s - loss: 0.0021\n",
            "Epoch 162: val_loss improved from 0.00295 to 0.00295, saving model to /content/drive/MyDrive/DNA/농넷_AIFactory/tmp_checkpoint.h10\n"
          ]
        },
        {
          "output_type": "stream",
          "name": "stderr",
          "text": [
            "WARNING:absl:<keras.layers.recurrent.LSTMCell object at 0x7fe497f6b910> has the same name 'LSTMCell' as a built-in Keras object. Consider renaming <class 'keras.layers.recurrent.LSTMCell'> to avoid naming conflicts when loading with `tf.keras.models.load_model`. If renaming is not possible, pass the object in the `custom_objects` parameter of the load function.\n"
          ]
        },
        {
          "output_type": "stream",
          "name": "stdout",
          "text": [
            "\b\b\b\b\b\b\b\b\b\b\b\b\b\b\b\b\b\b\b\b\b\b\b\b\b\b\b\b\b\b\b\b\b\b\b\b\b\b\b\b\b\b\b\b\b\b\b\b\b\b\b\b\b\b\b\b\b\b\b\b\b\b\b\r73/73 [==============================] - 2s 28ms/step - loss: 0.0021 - val_loss: 0.0029\n",
            "Epoch 163/200\n",
            "68/73 [==========================>...] - ETA: 0s - loss: 0.0022\n",
            "Epoch 163: val_loss did not improve from 0.00295\n",
            "73/73 [==============================] - 0s 4ms/step - loss: 0.0021 - val_loss: 0.0030\n",
            "Epoch 164/200\n",
            "63/73 [========================>.....] - ETA: 0s - loss: 0.0022\n",
            "Epoch 164: val_loss did not improve from 0.00295\n",
            "73/73 [==============================] - 0s 4ms/step - loss: 0.0021 - val_loss: 0.0030\n",
            "Epoch 165/200\n",
            "64/73 [=========================>....] - ETA: 0s - loss: 0.0021\n",
            "Epoch 165: val_loss did not improve from 0.00295\n",
            "73/73 [==============================] - 0s 4ms/step - loss: 0.0021 - val_loss: 0.0030\n",
            "Epoch 166/200\n",
            "61/73 [========================>.....] - ETA: 0s - loss: 0.0017    \n",
            "Epoch 166: val_loss did not improve from 0.00295\n",
            "73/73 [==============================] - 0s 4ms/step - loss: 0.0021 - val_loss: 0.0030\n",
            "Epoch 167/200\n",
            "65/73 [=========================>....] - ETA: 0s - loss: 0.0023\n",
            "Epoch 167: val_loss improved from 0.00295 to 0.00294, saving model to /content/drive/MyDrive/DNA/농넷_AIFactory/tmp_checkpoint.h10\n"
          ]
        },
        {
          "output_type": "stream",
          "name": "stderr",
          "text": [
            "WARNING:absl:<keras.layers.recurrent.LSTMCell object at 0x7fe497f6b910> has the same name 'LSTMCell' as a built-in Keras object. Consider renaming <class 'keras.layers.recurrent.LSTMCell'> to avoid naming conflicts when loading with `tf.keras.models.load_model`. If renaming is not possible, pass the object in the `custom_objects` parameter of the load function.\n"
          ]
        },
        {
          "output_type": "stream",
          "name": "stdout",
          "text": [
            "\b\b\b\b\b\b\b\b\b\b\b\b\b\b\b\b\b\b\b\b\b\b\b\b\b\b\b\b\b\b\b\b\b\b\b\b\b\b\b\b\b\b\b\b\b\b\b\b\b\b\b\b\b\b\b\b\b\b\b\b\b\b\b\r73/73 [==============================] - 2s 33ms/step - loss: 0.0022 - val_loss: 0.0029\n",
            "Epoch 168/200\n",
            "62/73 [========================>.....] - ETA: 0s - loss: 0.0017\n",
            "Epoch 168: val_loss improved from 0.00294 to 0.00291, saving model to /content/drive/MyDrive/DNA/농넷_AIFactory/tmp_checkpoint.h10\n"
          ]
        },
        {
          "output_type": "stream",
          "name": "stderr",
          "text": [
            "WARNING:absl:<keras.layers.recurrent.LSTMCell object at 0x7fe497f6b910> has the same name 'LSTMCell' as a built-in Keras object. Consider renaming <class 'keras.layers.recurrent.LSTMCell'> to avoid naming conflicts when loading with `tf.keras.models.load_model`. If renaming is not possible, pass the object in the `custom_objects` parameter of the load function.\n"
          ]
        },
        {
          "output_type": "stream",
          "name": "stdout",
          "text": [
            "\b\b\b\b\b\b\b\b\b\b\b\b\b\b\b\b\b\b\b\b\b\b\b\b\b\b\b\b\b\b\b\b\b\b\b\b\b\b\b\b\b\b\b\b\b\b\b\b\b\b\b\b\b\b\b\b\b\b\b\b\b\b\b\r73/73 [==============================] - 2s 28ms/step - loss: 0.0021 - val_loss: 0.0029\n",
            "Epoch 169/200\n",
            "65/73 [=========================>....] - ETA: 0s - loss: 0.0022\n",
            "Epoch 169: val_loss did not improve from 0.00291\n",
            "73/73 [==============================] - 0s 4ms/step - loss: 0.0021 - val_loss: 0.0029\n",
            "Epoch 170/200\n",
            "65/73 [=========================>....] - ETA: 0s - loss: 0.0015    \n",
            "Epoch 170: val_loss did not improve from 0.00291\n",
            "73/73 [==============================] - 0s 4ms/step - loss: 0.0021 - val_loss: 0.0029\n",
            "Epoch 171/200\n",
            "65/73 [=========================>....] - ETA: 0s - loss: 0.0022\n",
            "Epoch 171: val_loss did not improve from 0.00291\n",
            "73/73 [==============================] - 0s 4ms/step - loss: 0.0021 - val_loss: 0.0029\n",
            "Epoch 172/200\n",
            "63/73 [========================>.....] - ETA: 0s - loss: 0.0022\n",
            "Epoch 172: val_loss did not improve from 0.00291\n",
            "73/73 [==============================] - 0s 4ms/step - loss: 0.0021 - val_loss: 0.0029\n",
            "Epoch 173/200\n",
            "61/73 [========================>.....] - ETA: 0s - loss: 0.0022\n",
            "Epoch 173: val_loss improved from 0.00291 to 0.00291, saving model to /content/drive/MyDrive/DNA/농넷_AIFactory/tmp_checkpoint.h10\n"
          ]
        },
        {
          "output_type": "stream",
          "name": "stderr",
          "text": [
            "WARNING:absl:<keras.layers.recurrent.LSTMCell object at 0x7fe497f6b910> has the same name 'LSTMCell' as a built-in Keras object. Consider renaming <class 'keras.layers.recurrent.LSTMCell'> to avoid naming conflicts when loading with `tf.keras.models.load_model`. If renaming is not possible, pass the object in the `custom_objects` parameter of the load function.\n"
          ]
        },
        {
          "output_type": "stream",
          "name": "stdout",
          "text": [
            "\b\b\b\b\b\b\b\b\b\b\b\b\b\b\b\b\b\b\b\b\b\b\b\b\b\b\b\b\b\b\b\b\b\b\b\b\b\b\b\b\b\b\b\b\b\b\b\b\b\b\b\b\b\b\b\b\b\b\b\b\b\b\b\r73/73 [==============================] - 2s 29ms/step - loss: 0.0021 - val_loss: 0.0029\n",
            "Epoch 174/200\n",
            "59/73 [=======================>......] - ETA: 0s - loss: 0.0023\n",
            "Epoch 174: val_loss did not improve from 0.00291\n",
            "73/73 [==============================] - 0s 5ms/step - loss: 0.0021 - val_loss: 0.0029\n",
            "Epoch 175/200\n",
            "66/73 [==========================>...] - ETA: 0s - loss: 0.0022\n",
            "Epoch 175: val_loss did not improve from 0.00291\n",
            "73/73 [==============================] - 0s 4ms/step - loss: 0.0021 - val_loss: 0.0029\n",
            "Epoch 176/200\n",
            "61/73 [========================>.....] - ETA: 0s - loss: 0.0023\n",
            "Epoch 176: val_loss did not improve from 0.00291\n",
            "73/73 [==============================] - 0s 4ms/step - loss: 0.0021 - val_loss: 0.0029\n",
            "Epoch 177/200\n",
            "63/73 [========================>.....] - ETA: 0s - loss: 0.0022\n",
            "Epoch 177: val_loss did not improve from 0.00291\n",
            "73/73 [==============================] - 0s 5ms/step - loss: 0.0021 - val_loss: 0.0029\n",
            "Epoch 178/200\n",
            "65/73 [=========================>....] - ETA: 0s - loss: 0.0022\n",
            "Epoch 178: val_loss did not improve from 0.00291\n",
            "73/73 [==============================] - 0s 4ms/step - loss: 0.0020 - val_loss: 0.0029\n",
            "Epoch 179/200\n",
            "64/73 [=========================>....] - ETA: 0s - loss: 0.0015\n",
            "Epoch 179: val_loss did not improve from 0.00291\n",
            "73/73 [==============================] - 0s 4ms/step - loss: 0.0021 - val_loss: 0.0029\n",
            "Epoch 180/200\n",
            "68/73 [==========================>...] - ETA: 0s - loss: 0.0021\n",
            "Epoch 180: val_loss did not improve from 0.00291\n",
            "73/73 [==============================] - 0s 4ms/step - loss: 0.0021 - val_loss: 0.0029\n",
            "Epoch 181/200\n",
            "64/73 [=========================>....] - ETA: 0s - loss: 0.0022\n",
            "Epoch 181: val_loss improved from 0.00291 to 0.00291, saving model to /content/drive/MyDrive/DNA/농넷_AIFactory/tmp_checkpoint.h10\n"
          ]
        },
        {
          "output_type": "stream",
          "name": "stderr",
          "text": [
            "WARNING:absl:<keras.layers.recurrent.LSTMCell object at 0x7fe497f6b910> has the same name 'LSTMCell' as a built-in Keras object. Consider renaming <class 'keras.layers.recurrent.LSTMCell'> to avoid naming conflicts when loading with `tf.keras.models.load_model`. If renaming is not possible, pass the object in the `custom_objects` parameter of the load function.\n"
          ]
        },
        {
          "output_type": "stream",
          "name": "stdout",
          "text": [
            "\b\b\b\b\b\b\b\b\b\b\b\b\b\b\b\b\b\b\b\b\b\b\b\b\b\b\b\b\b\b\b\b\b\b\b\b\b\b\b\b\b\b\b\b\b\b\b\b\b\b\b\b\b\b\b\b\b\b\b\b\b\b\b\r73/73 [==============================] - 2s 33ms/step - loss: 0.0020 - val_loss: 0.0029\n",
            "Epoch 182/200\n",
            "66/73 [==========================>...] - ETA: 0s - loss: 0.0021\n",
            "Epoch 182: val_loss improved from 0.00291 to 0.00291, saving model to /content/drive/MyDrive/DNA/농넷_AIFactory/tmp_checkpoint.h10\n"
          ]
        },
        {
          "output_type": "stream",
          "name": "stderr",
          "text": [
            "WARNING:absl:<keras.layers.recurrent.LSTMCell object at 0x7fe497f6b910> has the same name 'LSTMCell' as a built-in Keras object. Consider renaming <class 'keras.layers.recurrent.LSTMCell'> to avoid naming conflicts when loading with `tf.keras.models.load_model`. If renaming is not possible, pass the object in the `custom_objects` parameter of the load function.\n"
          ]
        },
        {
          "output_type": "stream",
          "name": "stdout",
          "text": [
            "\b\b\b\b\b\b\b\b\b\b\b\b\b\b\b\b\b\b\b\b\b\b\b\b\b\b\b\b\b\b\b\b\b\b\b\b\b\b\b\b\b\b\b\b\b\b\b\b\b\b\b\b\b\b\b\b\b\b\b\b\b\b\b\r73/73 [==============================] - 2s 29ms/step - loss: 0.0020 - val_loss: 0.0029\n",
            "Epoch 183/200\n",
            "66/73 [==========================>...] - ETA: 0s - loss: 0.0017\n",
            "Epoch 183: val_loss did not improve from 0.00291\n",
            "73/73 [==============================] - 0s 4ms/step - loss: 0.0020 - val_loss: 0.0029\n",
            "Epoch 184/200\n",
            "67/73 [==========================>...] - ETA: 0s - loss: 0.0015\n",
            "Epoch 184: val_loss improved from 0.00291 to 0.00291, saving model to /content/drive/MyDrive/DNA/농넷_AIFactory/tmp_checkpoint.h10\n"
          ]
        },
        {
          "output_type": "stream",
          "name": "stderr",
          "text": [
            "WARNING:absl:<keras.layers.recurrent.LSTMCell object at 0x7fe497f6b910> has the same name 'LSTMCell' as a built-in Keras object. Consider renaming <class 'keras.layers.recurrent.LSTMCell'> to avoid naming conflicts when loading with `tf.keras.models.load_model`. If renaming is not possible, pass the object in the `custom_objects` parameter of the load function.\n"
          ]
        },
        {
          "output_type": "stream",
          "name": "stdout",
          "text": [
            "\b\b\b\b\b\b\b\b\b\b\b\b\b\b\b\b\b\b\b\b\b\b\b\b\b\b\b\b\b\b\b\b\b\b\b\b\b\b\b\b\b\b\b\b\b\b\b\b\b\b\b\b\b\b\b\b\b\b\b\b\b\b\b\r73/73 [==============================] - 2s 29ms/step - loss: 0.0020 - val_loss: 0.0029\n",
            "Epoch 185/200\n",
            "68/73 [==========================>...] - ETA: 0s - loss: 0.0021\n",
            "Epoch 185: val_loss did not improve from 0.00291\n",
            "73/73 [==============================] - 0s 4ms/step - loss: 0.0021 - val_loss: 0.0029\n",
            "Epoch 186/200\n",
            "73/73 [==============================] - ETA: 0s - loss: 0.0020\n",
            "Epoch 186: val_loss improved from 0.00291 to 0.00291, saving model to /content/drive/MyDrive/DNA/농넷_AIFactory/tmp_checkpoint.h10\n"
          ]
        },
        {
          "output_type": "stream",
          "name": "stderr",
          "text": [
            "WARNING:absl:<keras.layers.recurrent.LSTMCell object at 0x7fe497f6b910> has the same name 'LSTMCell' as a built-in Keras object. Consider renaming <class 'keras.layers.recurrent.LSTMCell'> to avoid naming conflicts when loading with `tf.keras.models.load_model`. If renaming is not possible, pass the object in the `custom_objects` parameter of the load function.\n"
          ]
        },
        {
          "output_type": "stream",
          "name": "stdout",
          "text": [
            "\b\b\b\b\b\b\b\b\b\b\b\b\b\b\b\b\b\b\b\b\b\b\b\b\b\b\b\b\b\b\b\b\b\b\b\b\b\b\b\b\b\b\b\b\b\b\b\b\b\b\b\b\b\b\b\b\b\b\b\b\b\b\b\r73/73 [==============================] - 2s 29ms/step - loss: 0.0020 - val_loss: 0.0029\n",
            "Epoch 187/200\n",
            "66/73 [==========================>...] - ETA: 0s - loss: 0.0021\n",
            "Epoch 187: val_loss did not improve from 0.00291\n",
            "73/73 [==============================] - 0s 4ms/step - loss: 0.0020 - val_loss: 0.0029\n",
            "Epoch 188/200\n",
            "65/73 [=========================>....] - ETA: 0s - loss: 0.0021\n",
            "Epoch 188: val_loss did not improve from 0.00291\n",
            "73/73 [==============================] - 0s 4ms/step - loss: 0.0020 - val_loss: 0.0029\n",
            "Epoch 189/200\n",
            "67/73 [==========================>...] - ETA: 0s - loss: 0.0021\n",
            "Epoch 189: val_loss did not improve from 0.00291\n",
            "73/73 [==============================] - 0s 4ms/step - loss: 0.0020 - val_loss: 0.0029\n",
            "Epoch 190/200\n",
            "67/73 [==========================>...] - ETA: 0s - loss: 0.0021\n",
            "Epoch 190: val_loss did not improve from 0.00291\n",
            "73/73 [==============================] - 0s 4ms/step - loss: 0.0020 - val_loss: 0.0029\n",
            "Epoch 191/200\n",
            "63/73 [========================>.....] - ETA: 0s - loss: 0.0017\n",
            "Epoch 191: val_loss improved from 0.00291 to 0.00290, saving model to /content/drive/MyDrive/DNA/농넷_AIFactory/tmp_checkpoint.h10\n"
          ]
        },
        {
          "output_type": "stream",
          "name": "stderr",
          "text": [
            "WARNING:absl:<keras.layers.recurrent.LSTMCell object at 0x7fe497f6b910> has the same name 'LSTMCell' as a built-in Keras object. Consider renaming <class 'keras.layers.recurrent.LSTMCell'> to avoid naming conflicts when loading with `tf.keras.models.load_model`. If renaming is not possible, pass the object in the `custom_objects` parameter of the load function.\n"
          ]
        },
        {
          "output_type": "stream",
          "name": "stdout",
          "text": [
            "\b\b\b\b\b\b\b\b\b\b\b\b\b\b\b\b\b\b\b\b\b\b\b\b\b\b\b\b\b\b\b\b\b\b\b\b\b\b\b\b\b\b\b\b\b\b\b\b\b\b\b\b\b\b\b\b\b\b\b\b\b\b\b\r73/73 [==============================] - 2s 33ms/step - loss: 0.0020 - val_loss: 0.0029\n",
            "Epoch 192/200\n",
            "68/73 [==========================>...] - ETA: 0s - loss: 0.0020\n",
            "Epoch 192: val_loss did not improve from 0.00290\n",
            "73/73 [==============================] - 0s 4ms/step - loss: 0.0020 - val_loss: 0.0029\n",
            "Epoch 193/200\n",
            "64/73 [=========================>....] - ETA: 0s - loss: 0.0022\n",
            "Epoch 193: val_loss improved from 0.00290 to 0.00290, saving model to /content/drive/MyDrive/DNA/농넷_AIFactory/tmp_checkpoint.h10\n"
          ]
        },
        {
          "output_type": "stream",
          "name": "stderr",
          "text": [
            "WARNING:absl:<keras.layers.recurrent.LSTMCell object at 0x7fe497f6b910> has the same name 'LSTMCell' as a built-in Keras object. Consider renaming <class 'keras.layers.recurrent.LSTMCell'> to avoid naming conflicts when loading with `tf.keras.models.load_model`. If renaming is not possible, pass the object in the `custom_objects` parameter of the load function.\n"
          ]
        },
        {
          "output_type": "stream",
          "name": "stdout",
          "text": [
            "\b\b\b\b\b\b\b\b\b\b\b\b\b\b\b\b\b\b\b\b\b\b\b\b\b\b\b\b\b\b\b\b\b\b\b\b\b\b\b\b\b\b\b\b\b\b\b\b\b\b\b\b\b\b\b\b\b\b\b\b\b\b\b\r73/73 [==============================] - 2s 28ms/step - loss: 0.0020 - val_loss: 0.0029\n",
            "Epoch 194/200\n",
            "64/73 [=========================>....] - ETA: 0s - loss: 0.0022\n",
            "Epoch 194: val_loss did not improve from 0.00290\n",
            "73/73 [==============================] - 0s 4ms/step - loss: 0.0020 - val_loss: 0.0029\n",
            "Epoch 195/200\n",
            "67/73 [==========================>...] - ETA: 0s - loss: 0.0021\n",
            "Epoch 195: val_loss did not improve from 0.00290\n",
            "73/73 [==============================] - 0s 4ms/step - loss: 0.0020 - val_loss: 0.0029\n",
            "Epoch 196/200\n",
            "68/73 [==========================>...] - ETA: 0s - loss: 0.0016    \n",
            "Epoch 196: val_loss did not improve from 0.00290\n",
            "73/73 [==============================] - 0s 4ms/step - loss: 0.0020 - val_loss: 0.0029\n",
            "Epoch 197/200\n",
            "62/73 [========================>.....] - ETA: 0s - loss: 0.0017\n",
            "Epoch 197: val_loss did not improve from 0.00290\n",
            "73/73 [==============================] - 0s 5ms/step - loss: 0.0020 - val_loss: 0.0029\n",
            "Epoch 198/200\n",
            "65/73 [=========================>....] - ETA: 0s - loss: 0.0016\n",
            "Epoch 198: val_loss did not improve from 0.00290\n",
            "73/73 [==============================] - 0s 4ms/step - loss: 0.0020 - val_loss: 0.0029\n",
            "Epoch 199/200\n",
            "67/73 [==========================>...] - ETA: 0s - loss: 0.0021    \n",
            "Epoch 199: val_loss did not improve from 0.00290\n",
            "73/73 [==============================] - 0s 4ms/step - loss: 0.0020 - val_loss: 0.0029\n",
            "Epoch 200/200\n",
            "67/73 [==========================>...] - ETA: 0s - loss: 0.0021\n",
            "Epoch 200: val_loss improved from 0.00290 to 0.00290, saving model to /content/drive/MyDrive/DNA/농넷_AIFactory/tmp_checkpoint.h10\n"
          ]
        },
        {
          "output_type": "stream",
          "name": "stderr",
          "text": [
            "WARNING:absl:<keras.layers.recurrent.LSTMCell object at 0x7fe497f6b910> has the same name 'LSTMCell' as a built-in Keras object. Consider renaming <class 'keras.layers.recurrent.LSTMCell'> to avoid naming conflicts when loading with `tf.keras.models.load_model`. If renaming is not possible, pass the object in the `custom_objects` parameter of the load function.\n"
          ]
        },
        {
          "output_type": "stream",
          "name": "stdout",
          "text": [
            "\b\b\b\b\b\b\b\b\b\b\b\b\b\b\b\b\b\b\b\b\b\b\b\b\b\b\b\b\b\b\b\b\b\b\b\b\b\b\b\b\b\b\b\b\b\b\b\b\b\b\b\b\b\b\b\b\b\b\b\b\b\b\b\r73/73 [==============================] - 2s 29ms/step - loss: 0.0020 - val_loss: 0.0029\n"
          ]
        }
      ],
      "id": "BmvuQ7wxpFl_"
    },
    {
      "cell_type": "markdown",
      "source": [
        "**val_loss : 0.00290**"
      ],
      "metadata": {
        "id": "8VaWut1YqGCF"
      },
      "id": "8VaWut1YqGCF"
    },
    {
      "cell_type": "code",
      "source": [
        "history.history.keys()"
      ],
      "metadata": {
        "colab": {
          "base_uri": "https://localhost:8080/"
        },
        "outputId": "ebfb2f17-2b5a-4740-ad2b-c00c6c718979",
        "id": "NQhjwHRSpFmA"
      },
      "execution_count": 74,
      "outputs": [
        {
          "output_type": "execute_result",
          "data": {
            "text/plain": [
              "dict_keys(['loss', 'val_loss'])"
            ]
          },
          "metadata": {},
          "execution_count": 74
        }
      ],
      "id": "NQhjwHRSpFmA"
    },
    {
      "cell_type": "code",
      "source": [
        "model.load_weights(filename)"
      ],
      "metadata": {
        "colab": {
          "base_uri": "https://localhost:8080/"
        },
        "outputId": "67f6db97-42b7-4fac-b685-2982ec9c182f",
        "id": "ogZ9X19YpFmA"
      },
      "execution_count": 75,
      "outputs": [
        {
          "output_type": "execute_result",
          "data": {
            "text/plain": [
              "<tensorflow.python.training.tracking.util.CheckpointLoadStatus at 0x7fe495123810>"
            ]
          },
          "metadata": {},
          "execution_count": 75
        }
      ],
      "id": "ogZ9X19YpFmA"
    },
    {
      "cell_type": "code",
      "source": [
        "pred = model.predict(test_feature)"
      ],
      "metadata": {
        "id": "camKJlgEpFmA"
      },
      "execution_count": 76,
      "outputs": [],
      "id": "camKJlgEpFmA"
    },
    {
      "cell_type": "code",
      "source": [
        "plt.figure(figsize=(12, 9))\n",
        "plt.plot(test_label, label='actual')\n",
        "plt.plot(pred, label='prediction')\n",
        "plt.legend()\n",
        "plt.show()"
      ],
      "metadata": {
        "colab": {
          "base_uri": "https://localhost:8080/",
          "height": 537
        },
        "outputId": "4c3ea077-7a50-49f6-d27e-a94275ee0941",
        "id": "XhVy-_1HpFmA"
      },
      "execution_count": 77,
      "outputs": [
        {
          "output_type": "display_data",
          "data": {
            "text/plain": [
              "<Figure size 864x648 with 1 Axes>"
            ],
            "image/png": "[encoded data removed]"
          },
          "metadata": {
            "needs_background": "light"
          }
        }
      ],
      "id": "XhVy-_1HpFmA"
    },
    {
      "cell_type": "markdown",
      "source": [
        "# 랜덤 포레스트(Random forest)\n",
        "- 의사결정 트리를 랜덤하게 나온 것을 투표하여 결정하는 것 \n",
        "  - 분류, 회귀에 주로 사용된다 \n",
        "\n"
      ],
      "metadata": {
        "id": "yVYGqNXjjfVs"
      },
      "id": "yVYGqNXjjfVs"
    },
    {
      "cell_type": "code",
      "source": [
        "from sklearn.model_selection import train_test_split\n",
        "from sklearn.ensemble import RandomForestRegressor\n",
        "from sklearn.metrics import explained_variance_score, mean_squared_error, mean_absolute_error, r2_score"
      ],
      "metadata": {
        "id": "ybO6zPw5Kbgd"
      },
      "id": "ybO6zPw5Kbgd",
      "execution_count": 78,
      "outputs": []
    },
    {
      "cell_type": "code",
      "source": [
        "clf = RandomForestRegressor()"
      ],
      "metadata": {
        "id": "pL6TDPqwKbZg"
      },
      "id": "pL6TDPqwKbZg",
      "execution_count": 79,
      "outputs": []
    },
    {
      "cell_type": "code",
      "source": [
        "# 위에서 만든 데이터셋\n",
        "\n",
        "# x_train, y_train   : train\n",
        "# x_valid, y_valid   : validation\n",
        "# test_feature, test_label   : test"
      ],
      "metadata": {
        "id": "EnNd7huQHD2V"
      },
      "id": "EnNd7huQHD2V",
      "execution_count": 88,
      "outputs": []
    },
    {
      "cell_type": "code",
      "source": [
        "# X = df_scaled.drop(columns='해당일자_전체평균가격(원)') # '해당일자_전체평균가격(원)' column 제외\n",
        "# y = df_scaled['해당일자_전체평균가격(원)']  # '해당일자_전체평균가격(원)' 예측"
      ],
      "metadata": {
        "id": "i18vS23pKbTv"
      },
      "id": "i18vS23pKbTv",
      "execution_count": 80,
      "outputs": []
    },
    {
      "cell_type": "code",
      "source": [
        "# X_train, X_test, y_train, y_test = train_test_split(X, y, random_state=42)"
      ],
      "metadata": {
        "id": "sjKEkoiSKbH4",
        "colab": {
          "base_uri": "https://localhost:8080/"
        },
        "outputId": "3af0b3bd-34bd-4d72-eefa-c9d3dd564b2f"
      },
      "id": "sjKEkoiSKbH4",
      "execution_count": 86,
      "outputs": [
        {
          "output_type": "stream",
          "name": "stdout",
          "text": [
            "(1095,)\n"
          ]
        }
      ]
    },
    {
      "cell_type": "code",
      "source": [
        "test_size = 14\n",
        "X_train = df_scaled.drop(columns = '해당일자_전체평균가격(원)').iloc[:-test_size]\n",
        "y_train = df_scaled['해당일자_전체평균가격(원)'].iloc[:-test_size]\n",
        "\n",
        "X_test = df_scaled.drop(columns = '해당일자_전체평균가격(원)').iloc[-test_size:]\n",
        "y_test = df_scaled['해당일자_전체평균가격(원)'].iloc[-test_size:]"
      ],
      "metadata": {
        "id": "mX3_ovL2IZ5e"
      },
      "id": "mX3_ovL2IZ5e",
      "execution_count": 89,
      "outputs": []
    },
    {
      "cell_type": "code",
      "source": [
        "clf.fit(X_train, y_train)"
      ],
      "metadata": {
        "colab": {
          "base_uri": "https://localhost:8080/"
        },
        "id": "TQIhAYd7Kas2",
        "outputId": "9e1334bd-2c29-49ee-e547-672abad74e8d"
      },
      "id": "TQIhAYd7Kas2",
      "execution_count": 90,
      "outputs": [
        {
          "output_type": "execute_result",
          "data": {
            "text/plain": [
              "RandomForestRegressor()"
            ]
          },
          "metadata": {},
          "execution_count": 90
        }
      ]
    },
    {
      "cell_type": "code",
      "source": [
        "y_pred = clf.predict(X_test)"
      ],
      "metadata": {
        "id": "hEP_fbsZKaLn"
      },
      "id": "hEP_fbsZKaLn",
      "execution_count": 91,
      "outputs": []
    },
    {
      "cell_type": "code",
      "source": [
        "mean_squared_error(y_test, y_pred)"
      ],
      "metadata": {
        "colab": {
          "base_uri": "https://localhost:8080/"
        },
        "id": "WfWa8jfQMB6j",
        "outputId": "04cf879e-6830-4722-bde7-20662101c39d"
      },
      "id": "WfWa8jfQMB6j",
      "execution_count": 92,
      "outputs": [
        {
          "output_type": "execute_result",
          "data": {
            "text/plain": [
              "0.0008831665401987361"
            ]
          },
          "metadata": {},
          "execution_count": 92
        }
      ]
    },
    {
      "cell_type": "markdown",
      "source": [
        "val_loss : 0.0008831665401987361"
      ],
      "metadata": {
        "id": "RHpMinTgqNmk"
      },
      "id": "RHpMinTgqNmk"
    },
    {
      "cell_type": "markdown",
      "source": [
        "# Prophet"
      ],
      "metadata": {
        "id": "weQauauYpPNW"
      },
      "id": "weQauauYpPNW"
    },
    {
      "cell_type": "code",
      "source": [
        "!pip install pystan==2.19.1.1 --quiet\n",
        "!pip install fbprophet --quiet"
      ],
      "metadata": {
        "colab": {
          "base_uri": "https://localhost:8080/"
        },
        "id": "MGKrBxXYSWrA",
        "outputId": "27f2d0e5-2f83-40a3-8a1a-91d605e9a9a5"
      },
      "id": "MGKrBxXYSWrA",
      "execution_count": 93,
      "outputs": [
        {
          "output_type": "stream",
          "name": "stdout",
          "text": [
            "\u001b[K     |████████████████████████████████| 67.3 MB 97 kB/s \n",
            "\u001b[K     |████████████████████████████████| 64 kB 1.7 MB/s \n",
            "\u001b[?25h  Building wheel for fbprophet (setup.py) ... \u001b[?25l\u001b[?25hdone\n",
            "\u001b[31mERROR: pip's dependency resolver does not currently take into account all the packages that are installed. This behaviour is the source of the following dependency conflicts.\n",
            "prophet 1.1 requires cmdstanpy>=1.0.1, but you have cmdstanpy 0.9.5 which is incompatible.\u001b[0m\n"
          ]
        }
      ]
    },
    {
      "cell_type": "code",
      "source": [
        "from fbprophet import Prophet"
      ],
      "metadata": {
        "id": "Lfj0Y22LSyON"
      },
      "id": "Lfj0Y22LSyON",
      "execution_count": 94,
      "outputs": []
    },
    {
      "cell_type": "code",
      "source": [
        "da = date.tolist()\n",
        "print(date)"
      ],
      "metadata": {
        "id": "PDPojQyjUSru",
        "colab": {
          "base_uri": "https://localhost:8080/"
        },
        "outputId": "8e8b3f8c-743c-4fc9-e7ab-b849560d7e6a"
      },
      "id": "PDPojQyjUSru",
      "execution_count": 95,
      "outputs": [
        {
          "output_type": "stream",
          "name": "stdout",
          "text": [
            "0      2013-01-01\n",
            "1      2013-01-02\n",
            "2      2013-01-03\n",
            "3      2013-01-04\n",
            "4      2013-01-05\n",
            "          ...    \n",
            "1456   2016-12-27\n",
            "1457   2016-12-28\n",
            "1458   2016-12-29\n",
            "1459   2016-12-30\n",
            "1460   2016-12-31\n",
            "Name: datadate, Length: 1461, dtype: datetime64[ns]\n"
          ]
        }
      ]
    },
    {
      "cell_type": "code",
      "source": [
        "df = pd.DataFrame(data=[da, df_scaled['해당일자_전체평균가격(원)']]).T\n",
        "df.columns = ['ds', 'y']\n",
        "df.index = da"
      ],
      "metadata": {
        "id": "tXIIObapT1JC"
      },
      "id": "tXIIObapT1JC",
      "execution_count": 96,
      "outputs": []
    },
    {
      "cell_type": "code",
      "source": [
        "df"
      ],
      "metadata": {
        "colab": {
          "base_uri": "https://localhost:8080/",
          "height": 424
        },
        "id": "3AUEg2SdUeV2",
        "outputId": "329a593f-9022-4297-e016-7196ee53af4a"
      },
      "id": "3AUEg2SdUeV2",
      "execution_count": 97,
      "outputs": [
        {
          "output_type": "execute_result",
          "data": {
            "text/plain": [
              "                   ds         y\n",
              "2013-01-01 2013-01-01  0.666642\n",
              "2013-01-02 2013-01-02  0.666642\n",
              "2013-01-03 2013-01-03  0.092854\n",
              "2013-01-04 2013-01-04  0.197334\n",
              "2013-01-05 2013-01-05  0.122594\n",
              "...               ...       ...\n",
              "2016-12-27 2016-12-27  0.183245\n",
              "2016-12-28 2016-12-28  0.183245\n",
              "2016-12-29 2016-12-29  0.200322\n",
              "2016-12-30 2016-12-30   0.19795\n",
              "2016-12-31 2016-12-31  0.228818\n",
              "\n",
              "[1461 rows x 2 columns]"
            ],
            "text/html": [
              "\n",
              "  <div id=\"df-7194b318-7376-44cd-a7fd-cce463307cea\">\n",
              "    <div class=\"colab-df-container\">\n",
              "      <div>\n",
              "<style scoped>\n",
              "    .dataframe tbody tr th:only-of-type {\n",
              "        vertical-align: middle;\n",
              "    }\n",
              "\n",
              "    .dataframe tbody tr th {\n",
              "        vertical-align: top;\n",
              "    }\n",
              "\n",
              "    .dataframe thead th {\n",
              "        text-align: right;\n",
              "    }\n",
              "</style>\n",
              "<table border=\"1\" class=\"dataframe\">\n",
              "  <thead>\n",
              "    <tr style=\"text-align: right;\">\n",
              "      <th></th>\n",
              "      <th>ds</th>\n",
              "      <th>y</th>\n",
              "    </tr>\n",
              "  </thead>\n",
              "  <tbody>\n",
              "    <tr>\n",
              "      <th>2013-01-01</th>\n",
              "      <td>2013-01-01</td>\n",
              "      <td>0.666642</td>\n",
              "    </tr>\n",
              "    <tr>\n",
              "      <th>2013-01-02</th>\n",
              "      <td>2013-01-02</td>\n",
              "      <td>0.666642</td>\n",
              "    </tr>\n",
              "    <tr>\n",
              "      <th>2013-01-03</th>\n",
              "      <td>2013-01-03</td>\n",
              "      <td>0.092854</td>\n",
              "    </tr>\n",
              "    <tr>\n",
              "      <th>2013-01-04</th>\n",
              "      <td>2013-01-04</td>\n",
              "      <td>0.197334</td>\n",
              "    </tr>\n",
              "    <tr>\n",
              "      <th>2013-01-05</th>\n",
              "      <td>2013-01-05</td>\n",
              "      <td>0.122594</td>\n",
              "    </tr>\n",
              "    <tr>\n",
              "      <th>...</th>\n",
              "      <td>...</td>\n",
              "      <td>...</td>\n",
              "    </tr>\n",
              "    <tr>\n",
              "      <th>2016-12-27</th>\n",
              "      <td>2016-12-27</td>\n",
              "      <td>0.183245</td>\n",
              "    </tr>\n",
              "    <tr>\n",
              "      <th>2016-12-28</th>\n",
              "      <td>2016-12-28</td>\n",
              "      <td>0.183245</td>\n",
              "    </tr>\n",
              "    <tr>\n",
              "      <th>2016-12-29</th>\n",
              "      <td>2016-12-29</td>\n",
              "      <td>0.200322</td>\n",
              "    </tr>\n",
              "    <tr>\n",
              "      <th>2016-12-30</th>\n",
              "      <td>2016-12-30</td>\n",
              "      <td>0.19795</td>\n",
              "    </tr>\n",
              "    <tr>\n",
              "      <th>2016-12-31</th>\n",
              "      <td>2016-12-31</td>\n",
              "      <td>0.228818</td>\n",
              "    </tr>\n",
              "  </tbody>\n",
              "</table>\n",
              "<p>1461 rows × 2 columns</p>\n",
              "</div>\n",
              "      <button class=\"colab-df-convert\" onclick=\"convertToInteractive('df-7194b318-7376-44cd-a7fd-cce463307cea')\"\n",
              "              title=\"Convert this dataframe to an interactive table.\"\n",
              "              style=\"display:none;\">\n",
              "        \n",
              "  <svg xmlns=\"http://www.w3.org/2000/svg\" height=\"24px\"viewBox=\"0 0 24 24\"\n",
              "       width=\"24px\">\n",
              "    <path d=\"M0 0h24v24H0V0z\" fill=\"none\"/>\n",
              "    <path d=\"M18.56 5.44l.94 2.06.94-2.06 2.06-.94-2.06-.94-.94-2.06-.94 2.06-2.06.94zm-11 1L8.5 8.5l.94-2.06 2.06-.94-2.06-.94L8.5 2.5l-.94 2.06-2.06.94zm10 10l.94 2.06.94-2.06 2.06-.94-2.06-.94-.94-2.06-.94 2.06-2.06.94z\"/><path d=\"M17.41 7.96l-1.37-1.37c-.4-.4-.92-.59-1.43-.59-.52 0-1.04.2-1.43.59L10.3 9.45l-7.72 7.72c-.78.78-.78 2.05 0 2.83L4 21.41c.39.39.9.59 1.41.59.51 0 1.02-.2 1.41-.59l7.78-7.78 2.81-2.81c.8-.78.8-2.07 0-2.86zM5.41 20L4 18.59l7.72-7.72 1.47 1.35L5.41 20z\"/>\n",
              "  </svg>\n",
              "      </button>\n",
              "      \n",
              "  <style>\n",
              "    .colab-df-container {\n",
              "      display:flex;\n",
              "      flex-wrap:wrap;\n",
              "      gap: 12px;\n",
              "    }\n",
              "\n",
              "    .colab-df-convert {\n",
              "      background-color: #E8F0FE;\n",
              "      border: none;\n",
              "      border-radius: 50%;\n",
              "      cursor: pointer;\n",
              "      display: none;\n",
              "      fill: #1967D2;\n",
              "      height: 32px;\n",
              "      padding: 0 0 0 0;\n",
              "      width: 32px;\n",
              "    }\n",
              "\n",
              "    .colab-df-convert:hover {\n",
              "      background-color: #E2EBFA;\n",
              "      box-shadow: 0px 1px 2px rgba(60, 64, 67, 0.3), 0px 1px 3px 1px rgba(60, 64, 67, 0.15);\n",
              "      fill: #174EA6;\n",
              "    }\n",
              "\n",
              "    [theme=dark] .colab-df-convert {\n",
              "      background-color: #3B4455;\n",
              "      fill: #D2E3FC;\n",
              "    }\n",
              "\n",
              "    [theme=dark] .colab-df-convert:hover {\n",
              "      background-color: #434B5C;\n",
              "      box-shadow: 0px 1px 3px 1px rgba(0, 0, 0, 0.15);\n",
              "      filter: drop-shadow(0px 1px 2px rgba(0, 0, 0, 0.3));\n",
              "      fill: #FFFFFF;\n",
              "    }\n",
              "  </style>\n",
              "\n",
              "      <script>\n",
              "        const buttonEl =\n",
              "          document.querySelector('#df-7194b318-7376-44cd-a7fd-cce463307cea button.colab-df-convert');\n",
              "        buttonEl.style.display =\n",
              "          google.colab.kernel.accessAllowed ? 'block' : 'none';\n",
              "\n",
              "        async function convertToInteractive(key) {\n",
              "          const element = document.querySelector('#df-7194b318-7376-44cd-a7fd-cce463307cea');\n",
              "          const dataTable =\n",
              "            await google.colab.kernel.invokeFunction('convertToInteractive',\n",
              "                                                     [key], {});\n",
              "          if (!dataTable) return;\n",
              "\n",
              "          const docLinkHtml = 'Like what you see? Visit the ' +\n",
              "            '<a target=\"_blank\" href=https://colab.research.google.com/notebooks/data_table.ipynb>data table notebook</a>'\n",
              "            + ' to learn more about interactive tables.';\n",
              "          element.innerHTML = '';\n",
              "          dataTable['output_type'] = 'display_data';\n",
              "          await google.colab.output.renderOutput(dataTable, element);\n",
              "          const docLink = document.createElement('div');\n",
              "          docLink.innerHTML = docLinkHtml;\n",
              "          element.appendChild(docLink);\n",
              "        }\n",
              "      </script>\n",
              "    </div>\n",
              "  </div>\n",
              "  "
            ]
          },
          "metadata": {},
          "execution_count": 97
        }
      ]
    },
    {
      "cell_type": "code",
      "source": [
        "val_size = 14\n",
        "\n",
        "df_train = df.iloc[:-val_size]\n",
        "df_val = df.iloc[-val_size:]\n",
        "\n",
        "df_train"
      ],
      "metadata": {
        "colab": {
          "base_uri": "https://localhost:8080/",
          "height": 424
        },
        "id": "86dp76p78fLf",
        "outputId": "de8939f0-8cb9-4322-bc66-4863f436475f"
      },
      "id": "86dp76p78fLf",
      "execution_count": 98,
      "outputs": [
        {
          "output_type": "execute_result",
          "data": {
            "text/plain": [
              "                   ds         y\n",
              "2013-01-01 2013-01-01  0.666642\n",
              "2013-01-02 2013-01-02  0.666642\n",
              "2013-01-03 2013-01-03  0.092854\n",
              "2013-01-04 2013-01-04  0.197334\n",
              "2013-01-05 2013-01-05  0.122594\n",
              "...               ...       ...\n",
              "2016-12-13 2016-12-13  0.166111\n",
              "2016-12-14 2016-12-14  0.166111\n",
              "2016-12-15 2016-12-15  0.252907\n",
              "2016-12-16 2016-12-16  0.148238\n",
              "2016-12-17 2016-12-17  0.205242\n",
              "\n",
              "[1447 rows x 2 columns]"
            ],
            "text/html": [
              "\n",
              "  <div id=\"df-5c55ca6e-f7bd-46fa-a760-d2e430d8e96c\">\n",
              "    <div class=\"colab-df-container\">\n",
              "      <div>\n",
              "<style scoped>\n",
              "    .dataframe tbody tr th:only-of-type {\n",
              "        vertical-align: middle;\n",
              "    }\n",
              "\n",
              "    .dataframe tbody tr th {\n",
              "        vertical-align: top;\n",
              "    }\n",
              "\n",
              "    .dataframe thead th {\n",
              "        text-align: right;\n",
              "    }\n",
              "</style>\n",
              "<table border=\"1\" class=\"dataframe\">\n",
              "  <thead>\n",
              "    <tr style=\"text-align: right;\">\n",
              "      <th></th>\n",
              "      <th>ds</th>\n",
              "      <th>y</th>\n",
              "    </tr>\n",
              "  </thead>\n",
              "  <tbody>\n",
              "    <tr>\n",
              "      <th>2013-01-01</th>\n",
              "      <td>2013-01-01</td>\n",
              "      <td>0.666642</td>\n",
              "    </tr>\n",
              "    <tr>\n",
              "      <th>2013-01-02</th>\n",
              "      <td>2013-01-02</td>\n",
              "      <td>0.666642</td>\n",
              "    </tr>\n",
              "    <tr>\n",
              "      <th>2013-01-03</th>\n",
              "      <td>2013-01-03</td>\n",
              "      <td>0.092854</td>\n",
              "    </tr>\n",
              "    <tr>\n",
              "      <th>2013-01-04</th>\n",
              "      <td>2013-01-04</td>\n",
              "      <td>0.197334</td>\n",
              "    </tr>\n",
              "    <tr>\n",
              "      <th>2013-01-05</th>\n",
              "      <td>2013-01-05</td>\n",
              "      <td>0.122594</td>\n",
              "    </tr>\n",
              "    <tr>\n",
              "      <th>...</th>\n",
              "      <td>...</td>\n",
              "      <td>...</td>\n",
              "    </tr>\n",
              "    <tr>\n",
              "      <th>2016-12-13</th>\n",
              "      <td>2016-12-13</td>\n",
              "      <td>0.166111</td>\n",
              "    </tr>\n",
              "    <tr>\n",
              "      <th>2016-12-14</th>\n",
              "      <td>2016-12-14</td>\n",
              "      <td>0.166111</td>\n",
              "    </tr>\n",
              "    <tr>\n",
              "      <th>2016-12-15</th>\n",
              "      <td>2016-12-15</td>\n",
              "      <td>0.252907</td>\n",
              "    </tr>\n",
              "    <tr>\n",
              "      <th>2016-12-16</th>\n",
              "      <td>2016-12-16</td>\n",
              "      <td>0.148238</td>\n",
              "    </tr>\n",
              "    <tr>\n",
              "      <th>2016-12-17</th>\n",
              "      <td>2016-12-17</td>\n",
              "      <td>0.205242</td>\n",
              "    </tr>\n",
              "  </tbody>\n",
              "</table>\n",
              "<p>1447 rows × 2 columns</p>\n",
              "</div>\n",
              "      <button class=\"colab-df-convert\" onclick=\"convertToInteractive('df-5c55ca6e-f7bd-46fa-a760-d2e430d8e96c')\"\n",
              "              title=\"Convert this dataframe to an interactive table.\"\n",
              "              style=\"display:none;\">\n",
              "        \n",
              "  <svg xmlns=\"http://www.w3.org/2000/svg\" height=\"24px\"viewBox=\"0 0 24 24\"\n",
              "       width=\"24px\">\n",
              "    <path d=\"M0 0h24v24H0V0z\" fill=\"none\"/>\n",
              "    <path d=\"M18.56 5.44l.94 2.06.94-2.06 2.06-.94-2.06-.94-.94-2.06-.94 2.06-2.06.94zm-11 1L8.5 8.5l.94-2.06 2.06-.94-2.06-.94L8.5 2.5l-.94 2.06-2.06.94zm10 10l.94 2.06.94-2.06 2.06-.94-2.06-.94-.94-2.06-.94 2.06-2.06.94z\"/><path d=\"M17.41 7.96l-1.37-1.37c-.4-.4-.92-.59-1.43-.59-.52 0-1.04.2-1.43.59L10.3 9.45l-7.72 7.72c-.78.78-.78 2.05 0 2.83L4 21.41c.39.39.9.59 1.41.59.51 0 1.02-.2 1.41-.59l7.78-7.78 2.81-2.81c.8-.78.8-2.07 0-2.86zM5.41 20L4 18.59l7.72-7.72 1.47 1.35L5.41 20z\"/>\n",
              "  </svg>\n",
              "      </button>\n",
              "      \n",
              "  <style>\n",
              "    .colab-df-container {\n",
              "      display:flex;\n",
              "      flex-wrap:wrap;\n",
              "      gap: 12px;\n",
              "    }\n",
              "\n",
              "    .colab-df-convert {\n",
              "      background-color: #E8F0FE;\n",
              "      border: none;\n",
              "      border-radius: 50%;\n",
              "      cursor: pointer;\n",
              "      display: none;\n",
              "      fill: #1967D2;\n",
              "      height: 32px;\n",
              "      padding: 0 0 0 0;\n",
              "      width: 32px;\n",
              "    }\n",
              "\n",
              "    .colab-df-convert:hover {\n",
              "      background-color: #E2EBFA;\n",
              "      box-shadow: 0px 1px 2px rgba(60, 64, 67, 0.3), 0px 1px 3px 1px rgba(60, 64, 67, 0.15);\n",
              "      fill: #174EA6;\n",
              "    }\n",
              "\n",
              "    [theme=dark] .colab-df-convert {\n",
              "      background-color: #3B4455;\n",
              "      fill: #D2E3FC;\n",
              "    }\n",
              "\n",
              "    [theme=dark] .colab-df-convert:hover {\n",
              "      background-color: #434B5C;\n",
              "      box-shadow: 0px 1px 3px 1px rgba(0, 0, 0, 0.15);\n",
              "      filter: drop-shadow(0px 1px 2px rgba(0, 0, 0, 0.3));\n",
              "      fill: #FFFFFF;\n",
              "    }\n",
              "  </style>\n",
              "\n",
              "      <script>\n",
              "        const buttonEl =\n",
              "          document.querySelector('#df-5c55ca6e-f7bd-46fa-a760-d2e430d8e96c button.colab-df-convert');\n",
              "        buttonEl.style.display =\n",
              "          google.colab.kernel.accessAllowed ? 'block' : 'none';\n",
              "\n",
              "        async function convertToInteractive(key) {\n",
              "          const element = document.querySelector('#df-5c55ca6e-f7bd-46fa-a760-d2e430d8e96c');\n",
              "          const dataTable =\n",
              "            await google.colab.kernel.invokeFunction('convertToInteractive',\n",
              "                                                     [key], {});\n",
              "          if (!dataTable) return;\n",
              "\n",
              "          const docLinkHtml = 'Like what you see? Visit the ' +\n",
              "            '<a target=\"_blank\" href=https://colab.research.google.com/notebooks/data_table.ipynb>data table notebook</a>'\n",
              "            + ' to learn more about interactive tables.';\n",
              "          element.innerHTML = '';\n",
              "          dataTable['output_type'] = 'display_data';\n",
              "          await google.colab.output.renderOutput(dataTable, element);\n",
              "          const docLink = document.createElement('div');\n",
              "          docLink.innerHTML = docLinkHtml;\n",
              "          element.appendChild(docLink);\n",
              "        }\n",
              "      </script>\n",
              "    </div>\n",
              "  </div>\n",
              "  "
            ]
          },
          "metadata": {},
          "execution_count": 98
        }
      ]
    },
    {
      "cell_type": "code",
      "source": [
        "m = Prophet()  #프로펫 변수설정\n",
        "\n",
        "m.fit(df_train) #프로펫을 학습시킨다.\n",
        "\n",
        "future=m.make_future_dataframe(periods=14)  # 14일치를 예측할 것.\n",
        "\n",
        "forecast=m.predict(future)"
      ],
      "metadata": {
        "colab": {
          "base_uri": "https://localhost:8080/"
        },
        "id": "IY2nicVCPFu8",
        "outputId": "dfba7f70-df52-4cfa-bee8-053335085830"
      },
      "id": "IY2nicVCPFu8",
      "execution_count": 99,
      "outputs": [
        {
          "output_type": "stream",
          "name": "stderr",
          "text": [
            "INFO:fbprophet:Disabling daily seasonality. Run prophet with daily_seasonality=True to override this.\n"
          ]
        }
      ]
    },
    {
      "cell_type": "markdown",
      "source": [
        "**훈련용 데이터 시각화**"
      ],
      "metadata": {
        "id": "i4leNKep9yjB"
      },
      "id": "i4leNKep9yjB"
    },
    {
      "cell_type": "code",
      "source": [
        "ax = df_train['y'].plot(figsize=(12,8))\n",
        "plt.show()"
      ],
      "metadata": {
        "colab": {
          "base_uri": "https://localhost:8080/",
          "height": 494
        },
        "id": "ODbR8b8hUrIs",
        "outputId": "5818f6b7-8cb1-4d40-8a03-b486b75d804f"
      },
      "id": "ODbR8b8hUrIs",
      "execution_count": 100,
      "outputs": [
        {
          "output_type": "display_data",
          "data": {
            "text/plain": [
              "<Figure size 864x576 with 1 Axes>"
            ],
            "image/png": "[encoded data removed]"
          },
          "metadata": {
            "needs_background": "light"
          }
        }
      ]
    },
    {
      "cell_type": "markdown",
      "source": [
        "**예측 결과 확인**"
      ],
      "metadata": {
        "id": "YYrBMq6h-cNp"
      },
      "id": "YYrBMq6h-cNp"
    },
    {
      "cell_type": "code",
      "source": [
        "forecast[['ds', 'yhat', 'yhat_lower', 'yhat_upper']]"
      ],
      "metadata": {
        "colab": {
          "base_uri": "https://localhost:8080/",
          "height": 424
        },
        "id": "fpxSAmvj-fKY",
        "outputId": "4984c0d1-5091-4612-8b0d-9b2831ea0e38"
      },
      "id": "fpxSAmvj-fKY",
      "execution_count": 101,
      "outputs": [
        {
          "output_type": "execute_result",
          "data": {
            "text/plain": [
              "             ds      yhat  yhat_lower  yhat_upper\n",
              "0    2013-01-01  0.204798    0.139229    0.270199\n",
              "1    2013-01-02  0.200996    0.136914    0.268139\n",
              "2    2013-01-03  0.191727    0.126125    0.255696\n",
              "3    2013-01-04  0.182470    0.121577    0.246512\n",
              "4    2013-01-05  0.175068    0.103710    0.241317\n",
              "...         ...       ...         ...         ...\n",
              "1456 2016-12-27  0.249723    0.183572    0.317566\n",
              "1457 2016-12-28  0.249541    0.176942    0.312618\n",
              "1458 2016-12-29  0.243815    0.180703    0.313739\n",
              "1459 2016-12-30  0.237967    0.175339    0.305621\n",
              "1460 2016-12-31  0.233792    0.172514    0.298996\n",
              "\n",
              "[1461 rows x 4 columns]"
            ],
            "text/html": [
              "\n",
              "  <div id=\"df-0d1a24b4-23e7-4064-9f55-65a9edc138c9\">\n",
              "    <div class=\"colab-df-container\">\n",
              "      <div>\n",
              "<style scoped>\n",
              "    .dataframe tbody tr th:only-of-type {\n",
              "        vertical-align: middle;\n",
              "    }\n",
              "\n",
              "    .dataframe tbody tr th {\n",
              "        vertical-align: top;\n",
              "    }\n",
              "\n",
              "    .dataframe thead th {\n",
              "        text-align: right;\n",
              "    }\n",
              "</style>\n",
              "<table border=\"1\" class=\"dataframe\">\n",
              "  <thead>\n",
              "    <tr style=\"text-align: right;\">\n",
              "      <th></th>\n",
              "      <th>ds</th>\n",
              "      <th>yhat</th>\n",
              "      <th>yhat_lower</th>\n",
              "      <th>yhat_upper</th>\n",
              "    </tr>\n",
              "  </thead>\n",
              "  <tbody>\n",
              "    <tr>\n",
              "      <th>0</th>\n",
              "      <td>2013-01-01</td>\n",
              "      <td>0.204798</td>\n",
              "      <td>0.139229</td>\n",
              "      <td>0.270199</td>\n",
              "    </tr>\n",
              "    <tr>\n",
              "      <th>1</th>\n",
              "      <td>2013-01-02</td>\n",
              "      <td>0.200996</td>\n",
              "      <td>0.136914</td>\n",
              "      <td>0.268139</td>\n",
              "    </tr>\n",
              "    <tr>\n",
              "      <th>2</th>\n",
              "      <td>2013-01-03</td>\n",
              "      <td>0.191727</td>\n",
              "      <td>0.126125</td>\n",
              "      <td>0.255696</td>\n",
              "    </tr>\n",
              "    <tr>\n",
              "      <th>3</th>\n",
              "      <td>2013-01-04</td>\n",
              "      <td>0.182470</td>\n",
              "      <td>0.121577</td>\n",
              "      <td>0.246512</td>\n",
              "    </tr>\n",
              "    <tr>\n",
              "      <th>4</th>\n",
              "      <td>2013-01-05</td>\n",
              "      <td>0.175068</td>\n",
              "      <td>0.103710</td>\n",
              "      <td>0.241317</td>\n",
              "    </tr>\n",
              "    <tr>\n",
              "      <th>...</th>\n",
              "      <td>...</td>\n",
              "      <td>...</td>\n",
              "      <td>...</td>\n",
              "      <td>...</td>\n",
              "    </tr>\n",
              "    <tr>\n",
              "      <th>1456</th>\n",
              "      <td>2016-12-27</td>\n",
              "      <td>0.249723</td>\n",
              "      <td>0.183572</td>\n",
              "      <td>0.317566</td>\n",
              "    </tr>\n",
              "    <tr>\n",
              "      <th>1457</th>\n",
              "      <td>2016-12-28</td>\n",
              "      <td>0.249541</td>\n",
              "      <td>0.176942</td>\n",
              "      <td>0.312618</td>\n",
              "    </tr>\n",
              "    <tr>\n",
              "      <th>1458</th>\n",
              "      <td>2016-12-29</td>\n",
              "      <td>0.243815</td>\n",
              "      <td>0.180703</td>\n",
              "      <td>0.313739</td>\n",
              "    </tr>\n",
              "    <tr>\n",
              "      <th>1459</th>\n",
              "      <td>2016-12-30</td>\n",
              "      <td>0.237967</td>\n",
              "      <td>0.175339</td>\n",
              "      <td>0.305621</td>\n",
              "    </tr>\n",
              "    <tr>\n",
              "      <th>1460</th>\n",
              "      <td>2016-12-31</td>\n",
              "      <td>0.233792</td>\n",
              "      <td>0.172514</td>\n",
              "      <td>0.298996</td>\n",
              "    </tr>\n",
              "  </tbody>\n",
              "</table>\n",
              "<p>1461 rows × 4 columns</p>\n",
              "</div>\n",
              "      <button class=\"colab-df-convert\" onclick=\"convertToInteractive('df-0d1a24b4-23e7-4064-9f55-65a9edc138c9')\"\n",
              "              title=\"Convert this dataframe to an interactive table.\"\n",
              "              style=\"display:none;\">\n",
              "        \n",
              "  <svg xmlns=\"http://www.w3.org/2000/svg\" height=\"24px\"viewBox=\"0 0 24 24\"\n",
              "       width=\"24px\">\n",
              "    <path d=\"M0 0h24v24H0V0z\" fill=\"none\"/>\n",
              "    <path d=\"M18.56 5.44l.94 2.06.94-2.06 2.06-.94-2.06-.94-.94-2.06-.94 2.06-2.06.94zm-11 1L8.5 8.5l.94-2.06 2.06-.94-2.06-.94L8.5 2.5l-.94 2.06-2.06.94zm10 10l.94 2.06.94-2.06 2.06-.94-2.06-.94-.94-2.06-.94 2.06-2.06.94z\"/><path d=\"M17.41 7.96l-1.37-1.37c-.4-.4-.92-.59-1.43-.59-.52 0-1.04.2-1.43.59L10.3 9.45l-7.72 7.72c-.78.78-.78 2.05 0 2.83L4 21.41c.39.39.9.59 1.41.59.51 0 1.02-.2 1.41-.59l7.78-7.78 2.81-2.81c.8-.78.8-2.07 0-2.86zM5.41 20L4 18.59l7.72-7.72 1.47 1.35L5.41 20z\"/>\n",
              "  </svg>\n",
              "      </button>\n",
              "      \n",
              "  <style>\n",
              "    .colab-df-container {\n",
              "      display:flex;\n",
              "      flex-wrap:wrap;\n",
              "      gap: 12px;\n",
              "    }\n",
              "\n",
              "    .colab-df-convert {\n",
              "      background-color: #E8F0FE;\n",
              "      border: none;\n",
              "      border-radius: 50%;\n",
              "      cursor: pointer;\n",
              "      display: none;\n",
              "      fill: #1967D2;\n",
              "      height: 32px;\n",
              "      padding: 0 0 0 0;\n",
              "      width: 32px;\n",
              "    }\n",
              "\n",
              "    .colab-df-convert:hover {\n",
              "      background-color: #E2EBFA;\n",
              "      box-shadow: 0px 1px 2px rgba(60, 64, 67, 0.3), 0px 1px 3px 1px rgba(60, 64, 67, 0.15);\n",
              "      fill: #174EA6;\n",
              "    }\n",
              "\n",
              "    [theme=dark] .colab-df-convert {\n",
              "      background-color: #3B4455;\n",
              "      fill: #D2E3FC;\n",
              "    }\n",
              "\n",
              "    [theme=dark] .colab-df-convert:hover {\n",
              "      background-color: #434B5C;\n",
              "      box-shadow: 0px 1px 3px 1px rgba(0, 0, 0, 0.15);\n",
              "      filter: drop-shadow(0px 1px 2px rgba(0, 0, 0, 0.3));\n",
              "      fill: #FFFFFF;\n",
              "    }\n",
              "  </style>\n",
              "\n",
              "      <script>\n",
              "        const buttonEl =\n",
              "          document.querySelector('#df-0d1a24b4-23e7-4064-9f55-65a9edc138c9 button.colab-df-convert');\n",
              "        buttonEl.style.display =\n",
              "          google.colab.kernel.accessAllowed ? 'block' : 'none';\n",
              "\n",
              "        async function convertToInteractive(key) {\n",
              "          const element = document.querySelector('#df-0d1a24b4-23e7-4064-9f55-65a9edc138c9');\n",
              "          const dataTable =\n",
              "            await google.colab.kernel.invokeFunction('convertToInteractive',\n",
              "                                                     [key], {});\n",
              "          if (!dataTable) return;\n",
              "\n",
              "          const docLinkHtml = 'Like what you see? Visit the ' +\n",
              "            '<a target=\"_blank\" href=https://colab.research.google.com/notebooks/data_table.ipynb>data table notebook</a>'\n",
              "            + ' to learn more about interactive tables.';\n",
              "          element.innerHTML = '';\n",
              "          dataTable['output_type'] = 'display_data';\n",
              "          await google.colab.output.renderOutput(dataTable, element);\n",
              "          const docLink = document.createElement('div');\n",
              "          docLink.innerHTML = docLinkHtml;\n",
              "          element.appendChild(docLink);\n",
              "        }\n",
              "      </script>\n",
              "    </div>\n",
              "  </div>\n",
              "  "
            ]
          },
          "metadata": {},
          "execution_count": 101
        }
      ]
    },
    {
      "cell_type": "markdown",
      "source": [
        "**예측값 시각화**"
      ],
      "metadata": {
        "id": "KJVPhBtD-zc2"
      },
      "id": "KJVPhBtD-zc2"
    },
    {
      "cell_type": "code",
      "source": [
        "m.plot(forecast, xlabel='Date', ylabel='price')"
      ],
      "metadata": {
        "colab": {
          "base_uri": "https://localhost:8080/",
          "height": 865
        },
        "id": "78WylJ3nUxaT",
        "outputId": "ea8ee070-ba25-4de1-c61e-042e5dcc51d8"
      },
      "id": "78WylJ3nUxaT",
      "execution_count": 102,
      "outputs": [
        {
          "output_type": "execute_result",
          "data": {
            "text/plain": [
              "<Figure size 720x432 with 1 Axes>"
            ],
            "image/png": "[encoded data removed]"
          },
          "metadata": {},
          "execution_count": 102
        },
        {
          "output_type": "display_data",
          "data": {
            "text/plain": [
              "<Figure size 720x432 with 1 Axes>"
            ],
            "image/png": "[encoded data removed]"
          },
          "metadata": {}
        }
      ]
    },
    {
      "cell_type": "code",
      "source": [
        "y_pred = forecast['yhat'][-14:]\n",
        "y_val = df_val['y']\n",
        "mean_squared_error(y_pred, y_val)"
      ],
      "metadata": {
        "id": "FzoJWdXKU_Rk",
        "colab": {
          "base_uri": "https://localhost:8080/"
        },
        "outputId": "214e6669-40ed-4173-bf36-7f97175cb127"
      },
      "id": "FzoJWdXKU_Rk",
      "execution_count": 103,
      "outputs": [
        {
          "output_type": "execute_result",
          "data": {
            "text/plain": [
              "0.0018623818329433414"
            ]
          },
          "metadata": {},
          "execution_count": 103
        }
      ]
    },
    {
      "cell_type": "markdown",
      "source": [
        "val_loss : 0.0018623818329433414\n"
      ],
      "metadata": {
        "id": "itGRtKP_MKyk"
      },
      "id": "itGRtKP_MKyk"
    },
    {
      "cell_type": "markdown",
      "source": [
        "# Result(MSE)\n",
        "1. LSTM : 0.00290\n",
        "2. Random Forest : 0.0008831665401987361\n",
        "3. Prophet : 0.0018623818329433414\n"
      ],
      "metadata": {
        "id": "fpzq-MpnKQ4D"
      },
      "id": "fpzq-MpnKQ4D"
    },
    {
      "cell_type": "code",
      "source": [],
      "metadata": {
        "id": "_HHlKqGLMNIc"
      },
      "id": "_HHlKqGLMNIc",
      "execution_count": null,
      "outputs": []
    }
  ],
  "metadata": {
    "colab": {
      "provenance": [],
      "collapsed_sections": [],
      "toc_visible": true,
      "include_colab_link": true
    },
    "gpuClass": "standard",
    "kernelspec": {
      "display_name": "Python 3 (ipykernel)",
      "language": "python",
      "name": "python3"
    },
    "language_info": {
      "codemirror_mode": {
        "name": "ipython",
        "version": 3
      },
      "file_extension": ".py",
      "mimetype": "text/x-python",
      "name": "python",
      "nbconvert_exporter": "python",
      "pygments_lexer": "ipython3",
      "version": "3.9.7"
    }
  },
  "nbformat": 4,
  "nbformat_minor": 5
}